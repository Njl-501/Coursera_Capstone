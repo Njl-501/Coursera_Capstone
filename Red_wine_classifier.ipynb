{
 "cells": [
  {
   "cell_type": "markdown",
   "metadata": {},
   "source": [
    "# Red Wine Classifier\n",
    "\n",
    "In this notebook I will explore the red wine dataset, create a classifier to identify good and poor wines from their features, and finally determine the features that weight the most to determine the quality of the wine. I start importing the needed libraries. "
   ]
  },
  {
   "cell_type": "code",
   "execution_count": 71,
   "metadata": {},
   "outputs": [],
   "source": [
    "import pandas as pd\n",
    "import numpy as np\n",
    "import matplotlib.pyplot as plt\n",
    "import seaborn as sns\n",
    "\n",
    "import sklearn.feature_selection as fs\n",
    "from sklearn import preprocessing\n",
    "from sklearn.model_selection import train_test_split\n",
    "\n",
    "from sklearn.neighbors import KNeighborsClassifier\n",
    "from sklearn.tree import DecisionTreeClassifier\n",
    "from sklearn import tree\n",
    "from sklearn import svm\n",
    "from sklearn.linear_model import LogisticRegression\n",
    "\n",
    "from sklearn import metrics\n",
    "from sklearn.metrics import confusion_matrix"
   ]
  },
  {
   "cell_type": "code",
   "execution_count": 72,
   "metadata": {},
   "outputs": [],
   "source": [
    "path='winequality-red.csv'"
   ]
  },
  {
   "cell_type": "code",
   "execution_count": 73,
   "metadata": {},
   "outputs": [
    {
     "data": {
      "text/html": [
       "<div>\n",
       "<style scoped>\n",
       "    .dataframe tbody tr th:only-of-type {\n",
       "        vertical-align: middle;\n",
       "    }\n",
       "\n",
       "    .dataframe tbody tr th {\n",
       "        vertical-align: top;\n",
       "    }\n",
       "\n",
       "    .dataframe thead th {\n",
       "        text-align: right;\n",
       "    }\n",
       "</style>\n",
       "<table border=\"1\" class=\"dataframe\">\n",
       "  <thead>\n",
       "    <tr style=\"text-align: right;\">\n",
       "      <th></th>\n",
       "      <th>fixed acidity</th>\n",
       "      <th>volatile acidity</th>\n",
       "      <th>citric acid</th>\n",
       "      <th>residual sugar</th>\n",
       "      <th>chlorides</th>\n",
       "      <th>free sulfur dioxide</th>\n",
       "      <th>total sulfur dioxide</th>\n",
       "      <th>density</th>\n",
       "      <th>pH</th>\n",
       "      <th>sulphates</th>\n",
       "      <th>alcohol</th>\n",
       "      <th>quality</th>\n",
       "    </tr>\n",
       "  </thead>\n",
       "  <tbody>\n",
       "    <tr>\n",
       "      <th>0</th>\n",
       "      <td>7.4</td>\n",
       "      <td>0.70</td>\n",
       "      <td>0.00</td>\n",
       "      <td>1.9</td>\n",
       "      <td>0.076</td>\n",
       "      <td>11.0</td>\n",
       "      <td>34.0</td>\n",
       "      <td>0.9978</td>\n",
       "      <td>3.51</td>\n",
       "      <td>0.56</td>\n",
       "      <td>9.4</td>\n",
       "      <td>5</td>\n",
       "    </tr>\n",
       "    <tr>\n",
       "      <th>1</th>\n",
       "      <td>7.8</td>\n",
       "      <td>0.88</td>\n",
       "      <td>0.00</td>\n",
       "      <td>2.6</td>\n",
       "      <td>0.098</td>\n",
       "      <td>25.0</td>\n",
       "      <td>67.0</td>\n",
       "      <td>0.9968</td>\n",
       "      <td>3.20</td>\n",
       "      <td>0.68</td>\n",
       "      <td>9.8</td>\n",
       "      <td>5</td>\n",
       "    </tr>\n",
       "    <tr>\n",
       "      <th>2</th>\n",
       "      <td>7.8</td>\n",
       "      <td>0.76</td>\n",
       "      <td>0.04</td>\n",
       "      <td>2.3</td>\n",
       "      <td>0.092</td>\n",
       "      <td>15.0</td>\n",
       "      <td>54.0</td>\n",
       "      <td>0.9970</td>\n",
       "      <td>3.26</td>\n",
       "      <td>0.65</td>\n",
       "      <td>9.8</td>\n",
       "      <td>5</td>\n",
       "    </tr>\n",
       "    <tr>\n",
       "      <th>3</th>\n",
       "      <td>11.2</td>\n",
       "      <td>0.28</td>\n",
       "      <td>0.56</td>\n",
       "      <td>1.9</td>\n",
       "      <td>0.075</td>\n",
       "      <td>17.0</td>\n",
       "      <td>60.0</td>\n",
       "      <td>0.9980</td>\n",
       "      <td>3.16</td>\n",
       "      <td>0.58</td>\n",
       "      <td>9.8</td>\n",
       "      <td>6</td>\n",
       "    </tr>\n",
       "    <tr>\n",
       "      <th>4</th>\n",
       "      <td>7.4</td>\n",
       "      <td>0.70</td>\n",
       "      <td>0.00</td>\n",
       "      <td>1.9</td>\n",
       "      <td>0.076</td>\n",
       "      <td>11.0</td>\n",
       "      <td>34.0</td>\n",
       "      <td>0.9978</td>\n",
       "      <td>3.51</td>\n",
       "      <td>0.56</td>\n",
       "      <td>9.4</td>\n",
       "      <td>5</td>\n",
       "    </tr>\n",
       "  </tbody>\n",
       "</table>\n",
       "</div>"
      ],
      "text/plain": [
       "   fixed acidity  volatile acidity  citric acid  residual sugar  chlorides  \\\n",
       "0            7.4              0.70         0.00             1.9      0.076   \n",
       "1            7.8              0.88         0.00             2.6      0.098   \n",
       "2            7.8              0.76         0.04             2.3      0.092   \n",
       "3           11.2              0.28         0.56             1.9      0.075   \n",
       "4            7.4              0.70         0.00             1.9      0.076   \n",
       "\n",
       "   free sulfur dioxide  total sulfur dioxide  density    pH  sulphates  \\\n",
       "0                 11.0                  34.0   0.9978  3.51       0.56   \n",
       "1                 25.0                  67.0   0.9968  3.20       0.68   \n",
       "2                 15.0                  54.0   0.9970  3.26       0.65   \n",
       "3                 17.0                  60.0   0.9980  3.16       0.58   \n",
       "4                 11.0                  34.0   0.9978  3.51       0.56   \n",
       "\n",
       "   alcohol  quality  \n",
       "0      9.4        5  \n",
       "1      9.8        5  \n",
       "2      9.8        5  \n",
       "3      9.8        6  \n",
       "4      9.4        5  "
      ]
     },
     "execution_count": 73,
     "metadata": {},
     "output_type": "execute_result"
    }
   ],
   "source": [
    "df=pd.read_csv(path,',')\n",
    "df.head()"
   ]
  },
  {
   "cell_type": "markdown",
   "metadata": {},
   "source": [
    "I will make some check of the dataset to determine if there are missing values and if the variables have the right type. "
   ]
  },
  {
   "cell_type": "code",
   "execution_count": 74,
   "metadata": {},
   "outputs": [
    {
     "data": {
      "text/html": [
       "<div>\n",
       "<style scoped>\n",
       "    .dataframe tbody tr th:only-of-type {\n",
       "        vertical-align: middle;\n",
       "    }\n",
       "\n",
       "    .dataframe tbody tr th {\n",
       "        vertical-align: top;\n",
       "    }\n",
       "\n",
       "    .dataframe thead th {\n",
       "        text-align: right;\n",
       "    }\n",
       "</style>\n",
       "<table border=\"1\" class=\"dataframe\">\n",
       "  <thead>\n",
       "    <tr style=\"text-align: right;\">\n",
       "      <th></th>\n",
       "      <th>fixed acidity</th>\n",
       "      <th>volatile acidity</th>\n",
       "      <th>citric acid</th>\n",
       "      <th>residual sugar</th>\n",
       "      <th>chlorides</th>\n",
       "      <th>free sulfur dioxide</th>\n",
       "      <th>total sulfur dioxide</th>\n",
       "      <th>density</th>\n",
       "      <th>pH</th>\n",
       "      <th>sulphates</th>\n",
       "      <th>alcohol</th>\n",
       "      <th>quality</th>\n",
       "    </tr>\n",
       "  </thead>\n",
       "  <tbody>\n",
       "    <tr>\n",
       "      <th>count</th>\n",
       "      <td>1599</td>\n",
       "      <td>1599</td>\n",
       "      <td>1599</td>\n",
       "      <td>1599</td>\n",
       "      <td>1599</td>\n",
       "      <td>1599</td>\n",
       "      <td>1599</td>\n",
       "      <td>1599</td>\n",
       "      <td>1599</td>\n",
       "      <td>1599</td>\n",
       "      <td>1599</td>\n",
       "      <td>1599</td>\n",
       "    </tr>\n",
       "    <tr>\n",
       "      <th>unique</th>\n",
       "      <td>1</td>\n",
       "      <td>1</td>\n",
       "      <td>1</td>\n",
       "      <td>1</td>\n",
       "      <td>1</td>\n",
       "      <td>1</td>\n",
       "      <td>1</td>\n",
       "      <td>1</td>\n",
       "      <td>1</td>\n",
       "      <td>1</td>\n",
       "      <td>1</td>\n",
       "      <td>1</td>\n",
       "    </tr>\n",
       "    <tr>\n",
       "      <th>top</th>\n",
       "      <td>False</td>\n",
       "      <td>False</td>\n",
       "      <td>False</td>\n",
       "      <td>False</td>\n",
       "      <td>False</td>\n",
       "      <td>False</td>\n",
       "      <td>False</td>\n",
       "      <td>False</td>\n",
       "      <td>False</td>\n",
       "      <td>False</td>\n",
       "      <td>False</td>\n",
       "      <td>False</td>\n",
       "    </tr>\n",
       "    <tr>\n",
       "      <th>freq</th>\n",
       "      <td>1599</td>\n",
       "      <td>1599</td>\n",
       "      <td>1599</td>\n",
       "      <td>1599</td>\n",
       "      <td>1599</td>\n",
       "      <td>1599</td>\n",
       "      <td>1599</td>\n",
       "      <td>1599</td>\n",
       "      <td>1599</td>\n",
       "      <td>1599</td>\n",
       "      <td>1599</td>\n",
       "      <td>1599</td>\n",
       "    </tr>\n",
       "  </tbody>\n",
       "</table>\n",
       "</div>"
      ],
      "text/plain": [
       "       fixed acidity volatile acidity citric acid residual sugar chlorides  \\\n",
       "count           1599             1599        1599           1599      1599   \n",
       "unique             1                1           1              1         1   \n",
       "top            False            False       False          False     False   \n",
       "freq            1599             1599        1599           1599      1599   \n",
       "\n",
       "       free sulfur dioxide total sulfur dioxide density     pH sulphates  \\\n",
       "count                 1599                 1599    1599   1599      1599   \n",
       "unique                   1                    1       1      1         1   \n",
       "top                  False                False   False  False     False   \n",
       "freq                  1599                 1599    1599   1599      1599   \n",
       "\n",
       "       alcohol quality  \n",
       "count     1599    1599  \n",
       "unique       1       1  \n",
       "top      False   False  \n",
       "freq      1599    1599  "
      ]
     },
     "execution_count": 74,
     "metadata": {},
     "output_type": "execute_result"
    }
   ],
   "source": [
    "df.isnull().describe()"
   ]
  },
  {
   "cell_type": "code",
   "execution_count": 75,
   "metadata": {},
   "outputs": [
    {
     "data": {
      "text/html": [
       "<div>\n",
       "<style scoped>\n",
       "    .dataframe tbody tr th:only-of-type {\n",
       "        vertical-align: middle;\n",
       "    }\n",
       "\n",
       "    .dataframe tbody tr th {\n",
       "        vertical-align: top;\n",
       "    }\n",
       "\n",
       "    .dataframe thead th {\n",
       "        text-align: right;\n",
       "    }\n",
       "</style>\n",
       "<table border=\"1\" class=\"dataframe\">\n",
       "  <thead>\n",
       "    <tr style=\"text-align: right;\">\n",
       "      <th></th>\n",
       "      <th>fixed acidity</th>\n",
       "      <th>volatile acidity</th>\n",
       "      <th>citric acid</th>\n",
       "      <th>residual sugar</th>\n",
       "      <th>chlorides</th>\n",
       "      <th>free sulfur dioxide</th>\n",
       "      <th>total sulfur dioxide</th>\n",
       "      <th>density</th>\n",
       "      <th>pH</th>\n",
       "      <th>sulphates</th>\n",
       "      <th>alcohol</th>\n",
       "      <th>quality</th>\n",
       "    </tr>\n",
       "  </thead>\n",
       "  <tbody>\n",
       "    <tr>\n",
       "      <th>count</th>\n",
       "      <td>1599</td>\n",
       "      <td>1599</td>\n",
       "      <td>1599</td>\n",
       "      <td>1599</td>\n",
       "      <td>1599</td>\n",
       "      <td>1599</td>\n",
       "      <td>1599</td>\n",
       "      <td>1599</td>\n",
       "      <td>1599</td>\n",
       "      <td>1599</td>\n",
       "      <td>1599</td>\n",
       "      <td>1599</td>\n",
       "    </tr>\n",
       "    <tr>\n",
       "      <th>unique</th>\n",
       "      <td>1</td>\n",
       "      <td>1</td>\n",
       "      <td>1</td>\n",
       "      <td>1</td>\n",
       "      <td>1</td>\n",
       "      <td>1</td>\n",
       "      <td>1</td>\n",
       "      <td>1</td>\n",
       "      <td>1</td>\n",
       "      <td>1</td>\n",
       "      <td>1</td>\n",
       "      <td>1</td>\n",
       "    </tr>\n",
       "    <tr>\n",
       "      <th>top</th>\n",
       "      <td>False</td>\n",
       "      <td>False</td>\n",
       "      <td>False</td>\n",
       "      <td>False</td>\n",
       "      <td>False</td>\n",
       "      <td>False</td>\n",
       "      <td>False</td>\n",
       "      <td>False</td>\n",
       "      <td>False</td>\n",
       "      <td>False</td>\n",
       "      <td>False</td>\n",
       "      <td>False</td>\n",
       "    </tr>\n",
       "    <tr>\n",
       "      <th>freq</th>\n",
       "      <td>1599</td>\n",
       "      <td>1599</td>\n",
       "      <td>1599</td>\n",
       "      <td>1599</td>\n",
       "      <td>1599</td>\n",
       "      <td>1599</td>\n",
       "      <td>1599</td>\n",
       "      <td>1599</td>\n",
       "      <td>1599</td>\n",
       "      <td>1599</td>\n",
       "      <td>1599</td>\n",
       "      <td>1599</td>\n",
       "    </tr>\n",
       "  </tbody>\n",
       "</table>\n",
       "</div>"
      ],
      "text/plain": [
       "       fixed acidity volatile acidity citric acid residual sugar chlorides  \\\n",
       "count           1599             1599        1599           1599      1599   \n",
       "unique             1                1           1              1         1   \n",
       "top            False            False       False          False     False   \n",
       "freq            1599             1599        1599           1599      1599   \n",
       "\n",
       "       free sulfur dioxide total sulfur dioxide density     pH sulphates  \\\n",
       "count                 1599                 1599    1599   1599      1599   \n",
       "unique                   1                    1       1      1         1   \n",
       "top                  False                False   False  False     False   \n",
       "freq                  1599                 1599    1599   1599      1599   \n",
       "\n",
       "       alcohol quality  \n",
       "count     1599    1599  \n",
       "unique       1       1  \n",
       "top      False   False  \n",
       "freq      1599    1599  "
      ]
     },
     "execution_count": 75,
     "metadata": {},
     "output_type": "execute_result"
    }
   ],
   "source": [
    "df.isna().describe()"
   ]
  },
  {
   "cell_type": "code",
   "execution_count": 76,
   "metadata": {},
   "outputs": [
    {
     "data": {
      "text/plain": [
       "fixed acidity           float64\n",
       "volatile acidity        float64\n",
       "citric acid             float64\n",
       "residual sugar          float64\n",
       "chlorides               float64\n",
       "free sulfur dioxide     float64\n",
       "total sulfur dioxide    float64\n",
       "density                 float64\n",
       "pH                      float64\n",
       "sulphates               float64\n",
       "alcohol                 float64\n",
       "quality                   int64\n",
       "dtype: object"
      ]
     },
     "execution_count": 76,
     "metadata": {},
     "output_type": "execute_result"
    }
   ],
   "source": [
    "df.dtypes"
   ]
  },
  {
   "cell_type": "markdown",
   "metadata": {},
   "source": [
    "I will make now some descriptive statistics to better understand the features of the dataset. "
   ]
  },
  {
   "cell_type": "code",
   "execution_count": 135,
   "metadata": {},
   "outputs": [
    {
     "data": {
      "text/html": [
       "<div>\n",
       "<style scoped>\n",
       "    .dataframe tbody tr th:only-of-type {\n",
       "        vertical-align: middle;\n",
       "    }\n",
       "\n",
       "    .dataframe tbody tr th {\n",
       "        vertical-align: top;\n",
       "    }\n",
       "\n",
       "    .dataframe thead th {\n",
       "        text-align: right;\n",
       "    }\n",
       "</style>\n",
       "<table border=\"1\" class=\"dataframe\">\n",
       "  <thead>\n",
       "    <tr style=\"text-align: right;\">\n",
       "      <th></th>\n",
       "      <th>fixed acidity</th>\n",
       "      <th>volatile acidity</th>\n",
       "      <th>citric acid</th>\n",
       "      <th>residual sugar</th>\n",
       "      <th>chlorides</th>\n",
       "      <th>free sulfur dioxide</th>\n",
       "      <th>total sulfur dioxide</th>\n",
       "      <th>density</th>\n",
       "      <th>pH</th>\n",
       "      <th>sulphates</th>\n",
       "      <th>alcohol</th>\n",
       "      <th>quality</th>\n",
       "    </tr>\n",
       "  </thead>\n",
       "  <tbody>\n",
       "    <tr>\n",
       "      <th>count</th>\n",
       "      <td>1599.00</td>\n",
       "      <td>1599.00</td>\n",
       "      <td>1599.00</td>\n",
       "      <td>1599.00</td>\n",
       "      <td>1599.00</td>\n",
       "      <td>1599.00</td>\n",
       "      <td>1599.00</td>\n",
       "      <td>1599.00</td>\n",
       "      <td>1599.00</td>\n",
       "      <td>1599.00</td>\n",
       "      <td>1599.00</td>\n",
       "      <td>1599.00</td>\n",
       "    </tr>\n",
       "    <tr>\n",
       "      <th>mean</th>\n",
       "      <td>8.32</td>\n",
       "      <td>0.53</td>\n",
       "      <td>0.27</td>\n",
       "      <td>2.54</td>\n",
       "      <td>0.09</td>\n",
       "      <td>15.87</td>\n",
       "      <td>46.47</td>\n",
       "      <td>1.00</td>\n",
       "      <td>3.31</td>\n",
       "      <td>0.66</td>\n",
       "      <td>10.42</td>\n",
       "      <td>5.64</td>\n",
       "    </tr>\n",
       "    <tr>\n",
       "      <th>std</th>\n",
       "      <td>1.74</td>\n",
       "      <td>0.18</td>\n",
       "      <td>0.19</td>\n",
       "      <td>1.41</td>\n",
       "      <td>0.05</td>\n",
       "      <td>10.46</td>\n",
       "      <td>32.90</td>\n",
       "      <td>0.00</td>\n",
       "      <td>0.15</td>\n",
       "      <td>0.17</td>\n",
       "      <td>1.07</td>\n",
       "      <td>0.81</td>\n",
       "    </tr>\n",
       "    <tr>\n",
       "      <th>min</th>\n",
       "      <td>4.60</td>\n",
       "      <td>0.12</td>\n",
       "      <td>0.00</td>\n",
       "      <td>0.90</td>\n",
       "      <td>0.01</td>\n",
       "      <td>1.00</td>\n",
       "      <td>6.00</td>\n",
       "      <td>0.99</td>\n",
       "      <td>2.74</td>\n",
       "      <td>0.33</td>\n",
       "      <td>8.40</td>\n",
       "      <td>3.00</td>\n",
       "    </tr>\n",
       "    <tr>\n",
       "      <th>25%</th>\n",
       "      <td>7.10</td>\n",
       "      <td>0.39</td>\n",
       "      <td>0.09</td>\n",
       "      <td>1.90</td>\n",
       "      <td>0.07</td>\n",
       "      <td>7.00</td>\n",
       "      <td>22.00</td>\n",
       "      <td>1.00</td>\n",
       "      <td>3.21</td>\n",
       "      <td>0.55</td>\n",
       "      <td>9.50</td>\n",
       "      <td>5.00</td>\n",
       "    </tr>\n",
       "    <tr>\n",
       "      <th>50%</th>\n",
       "      <td>7.90</td>\n",
       "      <td>0.52</td>\n",
       "      <td>0.26</td>\n",
       "      <td>2.20</td>\n",
       "      <td>0.08</td>\n",
       "      <td>14.00</td>\n",
       "      <td>38.00</td>\n",
       "      <td>1.00</td>\n",
       "      <td>3.31</td>\n",
       "      <td>0.62</td>\n",
       "      <td>10.20</td>\n",
       "      <td>6.00</td>\n",
       "    </tr>\n",
       "    <tr>\n",
       "      <th>75%</th>\n",
       "      <td>9.20</td>\n",
       "      <td>0.64</td>\n",
       "      <td>0.42</td>\n",
       "      <td>2.60</td>\n",
       "      <td>0.09</td>\n",
       "      <td>21.00</td>\n",
       "      <td>62.00</td>\n",
       "      <td>1.00</td>\n",
       "      <td>3.40</td>\n",
       "      <td>0.73</td>\n",
       "      <td>11.10</td>\n",
       "      <td>6.00</td>\n",
       "    </tr>\n",
       "    <tr>\n",
       "      <th>max</th>\n",
       "      <td>15.90</td>\n",
       "      <td>1.58</td>\n",
       "      <td>1.00</td>\n",
       "      <td>15.50</td>\n",
       "      <td>0.61</td>\n",
       "      <td>72.00</td>\n",
       "      <td>289.00</td>\n",
       "      <td>1.00</td>\n",
       "      <td>4.01</td>\n",
       "      <td>2.00</td>\n",
       "      <td>14.90</td>\n",
       "      <td>8.00</td>\n",
       "    </tr>\n",
       "  </tbody>\n",
       "</table>\n",
       "</div>"
      ],
      "text/plain": [
       "       fixed acidity  volatile acidity  citric acid  residual sugar  \\\n",
       "count        1599.00           1599.00      1599.00         1599.00   \n",
       "mean            8.32              0.53         0.27            2.54   \n",
       "std             1.74              0.18         0.19            1.41   \n",
       "min             4.60              0.12         0.00            0.90   \n",
       "25%             7.10              0.39         0.09            1.90   \n",
       "50%             7.90              0.52         0.26            2.20   \n",
       "75%             9.20              0.64         0.42            2.60   \n",
       "max            15.90              1.58         1.00           15.50   \n",
       "\n",
       "       chlorides  free sulfur dioxide  total sulfur dioxide  density       pH  \\\n",
       "count    1599.00              1599.00               1599.00  1599.00  1599.00   \n",
       "mean        0.09                15.87                 46.47     1.00     3.31   \n",
       "std         0.05                10.46                 32.90     0.00     0.15   \n",
       "min         0.01                 1.00                  6.00     0.99     2.74   \n",
       "25%         0.07                 7.00                 22.00     1.00     3.21   \n",
       "50%         0.08                14.00                 38.00     1.00     3.31   \n",
       "75%         0.09                21.00                 62.00     1.00     3.40   \n",
       "max         0.61                72.00                289.00     1.00     4.01   \n",
       "\n",
       "       sulphates  alcohol  quality  \n",
       "count    1599.00  1599.00  1599.00  \n",
       "mean        0.66    10.42     5.64  \n",
       "std         0.17     1.07     0.81  \n",
       "min         0.33     8.40     3.00  \n",
       "25%         0.55     9.50     5.00  \n",
       "50%         0.62    10.20     6.00  \n",
       "75%         0.73    11.10     6.00  \n",
       "max         2.00    14.90     8.00  "
      ]
     },
     "execution_count": 135,
     "metadata": {},
     "output_type": "execute_result"
    }
   ],
   "source": [
    "df.describe().round(2)"
   ]
  },
  {
   "cell_type": "markdown",
   "metadata": {},
   "source": [
    "Some histogram will help to visualize how the feature values are distributed. I will then produce a good histogram of the counts of wines of different quality scores. "
   ]
  },
  {
   "cell_type": "code",
   "execution_count": 78,
   "metadata": {},
   "outputs": [
    {
     "data": {
      "text/plain": [
       "array([[<matplotlib.axes._subplots.AxesSubplot object at 0x7fa48ef13250>,\n",
       "        <matplotlib.axes._subplots.AxesSubplot object at 0x7fa48eec1bd0>,\n",
       "        <matplotlib.axes._subplots.AxesSubplot object at 0x7fa48eef3ed0>],\n",
       "       [<matplotlib.axes._subplots.AxesSubplot object at 0x7fa48eefdc90>,\n",
       "        <matplotlib.axes._subplots.AxesSubplot object at 0x7fa48eebb250>,\n",
       "        <matplotlib.axes._subplots.AxesSubplot object at 0x7fa48f1de490>],\n",
       "       [<matplotlib.axes._subplots.AxesSubplot object at 0x7fa48f1c95d0>,\n",
       "        <matplotlib.axes._subplots.AxesSubplot object at 0x7fa48f248b90>,\n",
       "        <matplotlib.axes._subplots.AxesSubplot object at 0x7fa48f17eed0>],\n",
       "       [<matplotlib.axes._subplots.AxesSubplot object at 0x7fa48f179b50>,\n",
       "        <matplotlib.axes._subplots.AxesSubplot object at 0x7fa48ee14ed0>,\n",
       "        <matplotlib.axes._subplots.AxesSubplot object at 0x7fa48edd1710>]],\n",
       "      dtype=object)"
      ]
     },
     "execution_count": 78,
     "metadata": {},
     "output_type": "execute_result"
    },
    {
     "data": {
      "image/png": "[encoded data removed]",
      "text/plain": [
       "<Figure size 720x720 with 12 Axes>"
      ]
     },
     "metadata": {
      "needs_background": "light"
     },
     "output_type": "display_data"
    }
   ],
   "source": [
    "df.hist(figsize=(10,10))"
   ]
  },
  {
   "cell_type": "code",
   "execution_count": 79,
   "metadata": {},
   "outputs": [
    {
     "data": {
      "text/plain": [
       "Text(0, 0.5, 'counts')"
      ]
     },
     "execution_count": 79,
     "metadata": {},
     "output_type": "execute_result"
    },
    {
     "data": {
      "image/png": "[encoded data removed]",
      "text/plain": [
       "<Figure size 432x288 with 1 Axes>"
      ]
     },
     "metadata": {
      "needs_background": "light"
     },
     "output_type": "display_data"
    }
   ],
   "source": [
    "sns.countplot(df['quality'])\n",
    "plt.title('White Vinho Verde')\n",
    "plt.xlabel('quality')\n",
    "plt.ylabel('counts')"
   ]
  },
  {
   "cell_type": "markdown",
   "metadata": {},
   "source": [
    "I will now concentrate on correlation among variables. I will start from a correlation matrix, to then inspect in more depth the variables that shows an high level of correlation to identify if there are some strange behaviours. This inspection will be held using scatterplots, that shows indeed some expected weak correlations. "
   ]
  },
  {
   "cell_type": "code",
   "execution_count": 80,
   "metadata": {},
   "outputs": [
    {
     "data": {
      "text/plain": [
       "['fixed acidity',\n",
       " 'volatile acidity',\n",
       " 'citric acid',\n",
       " 'residual sugar',\n",
       " 'chlorides',\n",
       " 'free sulfur dioxide',\n",
       " 'total sulfur dioxide',\n",
       " 'density',\n",
       " 'pH',\n",
       " 'sulphates',\n",
       " 'alcohol']"
      ]
     },
     "execution_count": 80,
     "metadata": {},
     "output_type": "execute_result"
    }
   ],
   "source": [
    "col=df.columns.to_list()\n",
    "col.remove('quality')\n",
    "col"
   ]
  },
  {
   "cell_type": "code",
   "execution_count": 136,
   "metadata": {},
   "outputs": [
    {
     "data": {
      "text/html": [
       "<style  type=\"text/css\" >\n",
       "    #T_82a3312c_a73e_11ea_bb3f_433bd6dcfec6row0_col0 {\n",
       "            background-color:  #b40426;\n",
       "            color:  #f1f1f1;\n",
       "        }    #T_82a3312c_a73e_11ea_bb3f_433bd6dcfec6row0_col1 {\n",
       "            background-color:  #7699f6;\n",
       "            color:  #000000;\n",
       "        }    #T_82a3312c_a73e_11ea_bb3f_433bd6dcfec6row0_col2 {\n",
       "            background-color:  #f08a6c;\n",
       "            color:  #000000;\n",
       "        }    #T_82a3312c_a73e_11ea_bb3f_433bd6dcfec6row0_col3 {\n",
       "            background-color:  #7597f6;\n",
       "            color:  #000000;\n",
       "        }    #T_82a3312c_a73e_11ea_bb3f_433bd6dcfec6row0_col4 {\n",
       "            background-color:  #98b9ff;\n",
       "            color:  #000000;\n",
       "        }    #T_82a3312c_a73e_11ea_bb3f_433bd6dcfec6row0_col5 {\n",
       "            background-color:  #3b4cc0;\n",
       "            color:  #f1f1f1;\n",
       "        }    #T_82a3312c_a73e_11ea_bb3f_433bd6dcfec6row0_col6 {\n",
       "            background-color:  #5470de;\n",
       "            color:  #000000;\n",
       "        }    #T_82a3312c_a73e_11ea_bb3f_433bd6dcfec6row0_col7 {\n",
       "            background-color:  #f18d6f;\n",
       "            color:  #000000;\n",
       "        }    #T_82a3312c_a73e_11ea_bb3f_433bd6dcfec6row0_col8 {\n",
       "            background-color:  #3b4cc0;\n",
       "            color:  #f1f1f1;\n",
       "        }    #T_82a3312c_a73e_11ea_bb3f_433bd6dcfec6row0_col9 {\n",
       "            background-color:  #afcafc;\n",
       "            color:  #000000;\n",
       "        }    #T_82a3312c_a73e_11ea_bb3f_433bd6dcfec6row0_col10 {\n",
       "            background-color:  #9dbdff;\n",
       "            color:  #000000;\n",
       "        }    #T_82a3312c_a73e_11ea_bb3f_433bd6dcfec6row0_col11 {\n",
       "            background-color:  #b5cdfa;\n",
       "            color:  #000000;\n",
       "        }    #T_82a3312c_a73e_11ea_bb3f_433bd6dcfec6row1_col0 {\n",
       "            background-color:  #8db0fe;\n",
       "            color:  #000000;\n",
       "        }    #T_82a3312c_a73e_11ea_bb3f_433bd6dcfec6row1_col1 {\n",
       "            background-color:  #b40426;\n",
       "            color:  #f1f1f1;\n",
       "        }    #T_82a3312c_a73e_11ea_bb3f_433bd6dcfec6row1_col2 {\n",
       "            background-color:  #3b4cc0;\n",
       "            color:  #f1f1f1;\n",
       "        }    #T_82a3312c_a73e_11ea_bb3f_433bd6dcfec6row1_col3 {\n",
       "            background-color:  #5470de;\n",
       "            color:  #000000;\n",
       "        }    #T_82a3312c_a73e_11ea_bb3f_433bd6dcfec6row1_col4 {\n",
       "            background-color:  #90b2fe;\n",
       "            color:  #000000;\n",
       "        }    #T_82a3312c_a73e_11ea_bb3f_433bd6dcfec6row1_col5 {\n",
       "            background-color:  #6180e9;\n",
       "            color:  #000000;\n",
       "        }    #T_82a3312c_a73e_11ea_bb3f_433bd6dcfec6row1_col6 {\n",
       "            background-color:  #89acfd;\n",
       "            color:  #000000;\n",
       "        }    #T_82a3312c_a73e_11ea_bb3f_433bd6dcfec6row1_col7 {\n",
       "            background-color:  #aec9fc;\n",
       "            color:  #000000;\n",
       "        }    #T_82a3312c_a73e_11ea_bb3f_433bd6dcfec6row1_col8 {\n",
       "            background-color:  #e7d7ce;\n",
       "            color:  #000000;\n",
       "        }    #T_82a3312c_a73e_11ea_bb3f_433bd6dcfec6row1_col9 {\n",
       "            background-color:  #3b4cc0;\n",
       "            color:  #f1f1f1;\n",
       "        }    #T_82a3312c_a73e_11ea_bb3f_433bd6dcfec6row1_col10 {\n",
       "            background-color:  #7b9ff9;\n",
       "            color:  #000000;\n",
       "        }    #T_82a3312c_a73e_11ea_bb3f_433bd6dcfec6row1_col11 {\n",
       "            background-color:  #3b4cc0;\n",
       "            color:  #f1f1f1;\n",
       "        }    #T_82a3312c_a73e_11ea_bb3f_433bd6dcfec6row2_col0 {\n",
       "            background-color:  #ed8366;\n",
       "            color:  #000000;\n",
       "        }    #T_82a3312c_a73e_11ea_bb3f_433bd6dcfec6row2_col1 {\n",
       "            background-color:  #3b4cc0;\n",
       "            color:  #f1f1f1;\n",
       "        }    #T_82a3312c_a73e_11ea_bb3f_433bd6dcfec6row2_col2 {\n",
       "            background-color:  #b40426;\n",
       "            color:  #f1f1f1;\n",
       "        }    #T_82a3312c_a73e_11ea_bb3f_433bd6dcfec6row2_col3 {\n",
       "            background-color:  #80a3fa;\n",
       "            color:  #000000;\n",
       "        }    #T_82a3312c_a73e_11ea_bb3f_433bd6dcfec6row2_col4 {\n",
       "            background-color:  #b6cefa;\n",
       "            color:  #000000;\n",
       "        }    #T_82a3312c_a73e_11ea_bb3f_433bd6dcfec6row2_col5 {\n",
       "            background-color:  #536edd;\n",
       "            color:  #000000;\n",
       "        }    #T_82a3312c_a73e_11ea_bb3f_433bd6dcfec6row2_col6 {\n",
       "            background-color:  #7da0f9;\n",
       "            color:  #000000;\n",
       "        }    #T_82a3312c_a73e_11ea_bb3f_433bd6dcfec6row2_col7 {\n",
       "            background-color:  #edd1c2;\n",
       "            color:  #000000;\n",
       "        }    #T_82a3312c_a73e_11ea_bb3f_433bd6dcfec6row2_col8 {\n",
       "            background-color:  #5470de;\n",
       "            color:  #000000;\n",
       "        }    #T_82a3312c_a73e_11ea_bb3f_433bd6dcfec6row2_col9 {\n",
       "            background-color:  #cfdaea;\n",
       "            color:  #000000;\n",
       "        }    #T_82a3312c_a73e_11ea_bb3f_433bd6dcfec6row2_col10 {\n",
       "            background-color:  #c3d5f4;\n",
       "            color:  #000000;\n",
       "        }    #T_82a3312c_a73e_11ea_bb3f_433bd6dcfec6row2_col11 {\n",
       "            background-color:  #cedaeb;\n",
       "            color:  #000000;\n",
       "        }    #T_82a3312c_a73e_11ea_bb3f_433bd6dcfec6row3_col0 {\n",
       "            background-color:  #d5dbe5;\n",
       "            color:  #000000;\n",
       "        }    #T_82a3312c_a73e_11ea_bb3f_433bd6dcfec6row3_col1 {\n",
       "            background-color:  #b1cbfc;\n",
       "            color:  #000000;\n",
       "        }    #T_82a3312c_a73e_11ea_bb3f_433bd6dcfec6row3_col2 {\n",
       "            background-color:  #cdd9ec;\n",
       "            color:  #000000;\n",
       "        }    #T_82a3312c_a73e_11ea_bb3f_433bd6dcfec6row3_col3 {\n",
       "            background-color:  #b40426;\n",
       "            color:  #f1f1f1;\n",
       "        }    #T_82a3312c_a73e_11ea_bb3f_433bd6dcfec6row3_col4 {\n",
       "            background-color:  #90b2fe;\n",
       "            color:  #000000;\n",
       "        }    #T_82a3312c_a73e_11ea_bb3f_433bd6dcfec6row3_col5 {\n",
       "            background-color:  #9dbdff;\n",
       "            color:  #000000;\n",
       "        }    #T_82a3312c_a73e_11ea_bb3f_433bd6dcfec6row3_col6 {\n",
       "            background-color:  #abc8fd;\n",
       "            color:  #000000;\n",
       "        }    #T_82a3312c_a73e_11ea_bb3f_433bd6dcfec6row3_col7 {\n",
       "            background-color:  #edd1c2;\n",
       "            color:  #000000;\n",
       "        }    #T_82a3312c_a73e_11ea_bb3f_433bd6dcfec6row3_col8 {\n",
       "            background-color:  #afcafc;\n",
       "            color:  #000000;\n",
       "        }    #T_82a3312c_a73e_11ea_bb3f_433bd6dcfec6row3_col9 {\n",
       "            background-color:  #80a3fa;\n",
       "            color:  #000000;\n",
       "        }    #T_82a3312c_a73e_11ea_bb3f_433bd6dcfec6row3_col10 {\n",
       "            background-color:  #b3cdfb;\n",
       "            color:  #000000;\n",
       "        }    #T_82a3312c_a73e_11ea_bb3f_433bd6dcfec6row3_col11 {\n",
       "            background-color:  #9abbff;\n",
       "            color:  #000000;\n",
       "        }    #T_82a3312c_a73e_11ea_bb3f_433bd6dcfec6row4_col0 {\n",
       "            background-color:  #d2dbe8;\n",
       "            color:  #000000;\n",
       "        }    #T_82a3312c_a73e_11ea_bb3f_433bd6dcfec6row4_col1 {\n",
       "            background-color:  #bed2f6;\n",
       "            color:  #000000;\n",
       "        }    #T_82a3312c_a73e_11ea_bb3f_433bd6dcfec6row4_col2 {\n",
       "            background-color:  #d8dce2;\n",
       "            color:  #000000;\n",
       "        }    #T_82a3312c_a73e_11ea_bb3f_433bd6dcfec6row4_col3 {\n",
       "            background-color:  #6687ed;\n",
       "            color:  #000000;\n",
       "        }    #T_82a3312c_a73e_11ea_bb3f_433bd6dcfec6row4_col4 {\n",
       "            background-color:  #b40426;\n",
       "            color:  #f1f1f1;\n",
       "        }    #T_82a3312c_a73e_11ea_bb3f_433bd6dcfec6row4_col5 {\n",
       "            background-color:  #6687ed;\n",
       "            color:  #000000;\n",
       "        }    #T_82a3312c_a73e_11ea_bb3f_433bd6dcfec6row4_col6 {\n",
       "            background-color:  #81a4fb;\n",
       "            color:  #000000;\n",
       "        }    #T_82a3312c_a73e_11ea_bb3f_433bd6dcfec6row4_col7 {\n",
       "            background-color:  #d4dbe6;\n",
       "            color:  #000000;\n",
       "        }    #T_82a3312c_a73e_11ea_bb3f_433bd6dcfec6row4_col8 {\n",
       "            background-color:  #8badfd;\n",
       "            color:  #000000;\n",
       "        }    #T_82a3312c_a73e_11ea_bb3f_433bd6dcfec6row4_col9 {\n",
       "            background-color:  #dddcdc;\n",
       "            color:  #000000;\n",
       "        }    #T_82a3312c_a73e_11ea_bb3f_433bd6dcfec6row4_col10 {\n",
       "            background-color:  #7699f6;\n",
       "            color:  #000000;\n",
       "        }    #T_82a3312c_a73e_11ea_bb3f_433bd6dcfec6row4_col11 {\n",
       "            background-color:  #7699f6;\n",
       "            color:  #000000;\n",
       "        }    #T_82a3312c_a73e_11ea_bb3f_433bd6dcfec6row5_col0 {\n",
       "            background-color:  #a3c2fe;\n",
       "            color:  #000000;\n",
       "        }    #T_82a3312c_a73e_11ea_bb3f_433bd6dcfec6row5_col1 {\n",
       "            background-color:  #afcafc;\n",
       "            color:  #000000;\n",
       "        }    #T_82a3312c_a73e_11ea_bb3f_433bd6dcfec6row5_col2 {\n",
       "            background-color:  #a3c2fe;\n",
       "            color:  #000000;\n",
       "        }    #T_82a3312c_a73e_11ea_bb3f_433bd6dcfec6row5_col3 {\n",
       "            background-color:  #8fb1fe;\n",
       "            color:  #000000;\n",
       "        }    #T_82a3312c_a73e_11ea_bb3f_433bd6dcfec6row5_col4 {\n",
       "            background-color:  #82a6fb;\n",
       "            color:  #000000;\n",
       "        }    #T_82a3312c_a73e_11ea_bb3f_433bd6dcfec6row5_col5 {\n",
       "            background-color:  #b40426;\n",
       "            color:  #f1f1f1;\n",
       "        }    #T_82a3312c_a73e_11ea_bb3f_433bd6dcfec6row5_col6 {\n",
       "            background-color:  #f6a283;\n",
       "            color:  #000000;\n",
       "        }    #T_82a3312c_a73e_11ea_bb3f_433bd6dcfec6row5_col7 {\n",
       "            background-color:  #a5c3fe;\n",
       "            color:  #000000;\n",
       "        }    #T_82a3312c_a73e_11ea_bb3f_433bd6dcfec6row5_col8 {\n",
       "            background-color:  #cedaeb;\n",
       "            color:  #000000;\n",
       "        }    #T_82a3312c_a73e_11ea_bb3f_433bd6dcfec6row5_col9 {\n",
       "            background-color:  #8badfd;\n",
       "            color:  #000000;\n",
       "        }    #T_82a3312c_a73e_11ea_bb3f_433bd6dcfec6row5_col10 {\n",
       "            background-color:  #9abbff;\n",
       "            color:  #000000;\n",
       "        }    #T_82a3312c_a73e_11ea_bb3f_433bd6dcfec6row5_col11 {\n",
       "            background-color:  #8badfd;\n",
       "            color:  #000000;\n",
       "        }    #T_82a3312c_a73e_11ea_bb3f_433bd6dcfec6row6_col0 {\n",
       "            background-color:  #abc8fd;\n",
       "            color:  #000000;\n",
       "        }    #T_82a3312c_a73e_11ea_bb3f_433bd6dcfec6row6_col1 {\n",
       "            background-color:  #c3d5f4;\n",
       "            color:  #000000;\n",
       "        }    #T_82a3312c_a73e_11ea_bb3f_433bd6dcfec6row6_col2 {\n",
       "            background-color:  #bad0f8;\n",
       "            color:  #000000;\n",
       "        }    #T_82a3312c_a73e_11ea_bb3f_433bd6dcfec6row6_col3 {\n",
       "            background-color:  #93b5fe;\n",
       "            color:  #000000;\n",
       "        }    #T_82a3312c_a73e_11ea_bb3f_433bd6dcfec6row6_col4 {\n",
       "            background-color:  #8db0fe;\n",
       "            color:  #000000;\n",
       "        }    #T_82a3312c_a73e_11ea_bb3f_433bd6dcfec6row6_col5 {\n",
       "            background-color:  #f7a889;\n",
       "            color:  #000000;\n",
       "        }    #T_82a3312c_a73e_11ea_bb3f_433bd6dcfec6row6_col6 {\n",
       "            background-color:  #b40426;\n",
       "            color:  #f1f1f1;\n",
       "        }    #T_82a3312c_a73e_11ea_bb3f_433bd6dcfec6row6_col7 {\n",
       "            background-color:  #bad0f8;\n",
       "            color:  #000000;\n",
       "        }    #T_82a3312c_a73e_11ea_bb3f_433bd6dcfec6row6_col8 {\n",
       "            background-color:  #b3cdfb;\n",
       "            color:  #000000;\n",
       "        }    #T_82a3312c_a73e_11ea_bb3f_433bd6dcfec6row6_col9 {\n",
       "            background-color:  #88abfd;\n",
       "            color:  #000000;\n",
       "        }    #T_82a3312c_a73e_11ea_bb3f_433bd6dcfec6row6_col10 {\n",
       "            background-color:  #799cf8;\n",
       "            color:  #000000;\n",
       "        }    #T_82a3312c_a73e_11ea_bb3f_433bd6dcfec6row6_col11 {\n",
       "            background-color:  #6788ee;\n",
       "            color:  #000000;\n",
       "        }    #T_82a3312c_a73e_11ea_bb3f_433bd6dcfec6row7_col0 {\n",
       "            background-color:  #ed8366;\n",
       "            color:  #000000;\n",
       "        }    #T_82a3312c_a73e_11ea_bb3f_433bd6dcfec6row7_col1 {\n",
       "            background-color:  #b6cefa;\n",
       "            color:  #000000;\n",
       "        }    #T_82a3312c_a73e_11ea_bb3f_433bd6dcfec6row7_col2 {\n",
       "            background-color:  #f0cdbb;\n",
       "            color:  #000000;\n",
       "        }    #T_82a3312c_a73e_11ea_bb3f_433bd6dcfec6row7_col3 {\n",
       "            background-color:  #c4d5f3;\n",
       "            color:  #000000;\n",
       "        }    #T_82a3312c_a73e_11ea_bb3f_433bd6dcfec6row7_col4 {\n",
       "            background-color:  #b6cefa;\n",
       "            color:  #000000;\n",
       "        }    #T_82a3312c_a73e_11ea_bb3f_433bd6dcfec6row7_col5 {\n",
       "            background-color:  #5d7ce6;\n",
       "            color:  #000000;\n",
       "        }    #T_82a3312c_a73e_11ea_bb3f_433bd6dcfec6row7_col6 {\n",
       "            background-color:  #86a9fc;\n",
       "            color:  #000000;\n",
       "        }    #T_82a3312c_a73e_11ea_bb3f_433bd6dcfec6row7_col7 {\n",
       "            background-color:  #b40426;\n",
       "            color:  #f1f1f1;\n",
       "        }    #T_82a3312c_a73e_11ea_bb3f_433bd6dcfec6row7_col8 {\n",
       "            background-color:  #7b9ff9;\n",
       "            color:  #000000;\n",
       "        }    #T_82a3312c_a73e_11ea_bb3f_433bd6dcfec6row7_col9 {\n",
       "            background-color:  #a7c5fe;\n",
       "            color:  #000000;\n",
       "        }    #T_82a3312c_a73e_11ea_bb3f_433bd6dcfec6row7_col10 {\n",
       "            background-color:  #3b4cc0;\n",
       "            color:  #f1f1f1;\n",
       "        }    #T_82a3312c_a73e_11ea_bb3f_433bd6dcfec6row7_col11 {\n",
       "            background-color:  #6c8ff1;\n",
       "            color:  #000000;\n",
       "        }    #T_82a3312c_a73e_11ea_bb3f_433bd6dcfec6row8_col0 {\n",
       "            background-color:  #3b4cc0;\n",
       "            color:  #f1f1f1;\n",
       "        }    #T_82a3312c_a73e_11ea_bb3f_433bd6dcfec6row8_col1 {\n",
       "            background-color:  #dddcdc;\n",
       "            color:  #000000;\n",
       "        }    #T_82a3312c_a73e_11ea_bb3f_433bd6dcfec6row8_col2 {\n",
       "            background-color:  #3c4ec2;\n",
       "            color:  #f1f1f1;\n",
       "        }    #T_82a3312c_a73e_11ea_bb3f_433bd6dcfec6row8_col3 {\n",
       "            background-color:  #3b4cc0;\n",
       "            color:  #f1f1f1;\n",
       "        }    #T_82a3312c_a73e_11ea_bb3f_433bd6dcfec6row8_col4 {\n",
       "            background-color:  #3b4cc0;\n",
       "            color:  #f1f1f1;\n",
       "        }    #T_82a3312c_a73e_11ea_bb3f_433bd6dcfec6row8_col5 {\n",
       "            background-color:  #779af7;\n",
       "            color:  #000000;\n",
       "        }    #T_82a3312c_a73e_11ea_bb3f_433bd6dcfec6row8_col6 {\n",
       "            background-color:  #5e7de7;\n",
       "            color:  #000000;\n",
       "        }    #T_82a3312c_a73e_11ea_bb3f_433bd6dcfec6row8_col7 {\n",
       "            background-color:  #5b7ae5;\n",
       "            color:  #000000;\n",
       "        }    #T_82a3312c_a73e_11ea_bb3f_433bd6dcfec6row8_col8 {\n",
       "            background-color:  #b40426;\n",
       "            color:  #f1f1f1;\n",
       "        }    #T_82a3312c_a73e_11ea_bb3f_433bd6dcfec6row8_col9 {\n",
       "            background-color:  #4961d2;\n",
       "            color:  #f1f1f1;\n",
       "        }    #T_82a3312c_a73e_11ea_bb3f_433bd6dcfec6row8_col10 {\n",
       "            background-color:  #d6dce4;\n",
       "            color:  #000000;\n",
       "        }    #T_82a3312c_a73e_11ea_bb3f_433bd6dcfec6row8_col11 {\n",
       "            background-color:  #88abfd;\n",
       "            color:  #000000;\n",
       "        }    #T_82a3312c_a73e_11ea_bb3f_433bd6dcfec6row9_col0 {\n",
       "            background-color:  #e0dbd8;\n",
       "            color:  #000000;\n",
       "        }    #T_82a3312c_a73e_11ea_bb3f_433bd6dcfec6row9_col1 {\n",
       "            background-color:  #7699f6;\n",
       "            color:  #000000;\n",
       "        }    #T_82a3312c_a73e_11ea_bb3f_433bd6dcfec6row9_col2 {\n",
       "            background-color:  #ead4c8;\n",
       "            color:  #000000;\n",
       "        }    #T_82a3312c_a73e_11ea_bb3f_433bd6dcfec6row9_col3 {\n",
       "            background-color:  #5673e0;\n",
       "            color:  #000000;\n",
       "        }    #T_82a3312c_a73e_11ea_bb3f_433bd6dcfec6row9_col4 {\n",
       "            background-color:  #dedcdb;\n",
       "            color:  #000000;\n",
       "        }    #T_82a3312c_a73e_11ea_bb3f_433bd6dcfec6row9_col5 {\n",
       "            background-color:  #7295f4;\n",
       "            color:  #000000;\n",
       "        }    #T_82a3312c_a73e_11ea_bb3f_433bd6dcfec6row9_col6 {\n",
       "            background-color:  #7da0f9;\n",
       "            color:  #000000;\n",
       "        }    #T_82a3312c_a73e_11ea_bb3f_433bd6dcfec6row9_col7 {\n",
       "            background-color:  #cad8ef;\n",
       "            color:  #000000;\n",
       "        }    #T_82a3312c_a73e_11ea_bb3f_433bd6dcfec6row9_col8 {\n",
       "            background-color:  #9abbff;\n",
       "            color:  #000000;\n",
       "        }    #T_82a3312c_a73e_11ea_bb3f_433bd6dcfec6row9_col9 {\n",
       "            background-color:  #b40426;\n",
       "            color:  #f1f1f1;\n",
       "        }    #T_82a3312c_a73e_11ea_bb3f_433bd6dcfec6row9_col10 {\n",
       "            background-color:  #bed2f6;\n",
       "            color:  #000000;\n",
       "        }    #T_82a3312c_a73e_11ea_bb3f_433bd6dcfec6row9_col11 {\n",
       "            background-color:  #d2dbe8;\n",
       "            color:  #000000;\n",
       "        }    #T_82a3312c_a73e_11ea_bb3f_433bd6dcfec6row10_col0 {\n",
       "            background-color:  #b6cefa;\n",
       "            color:  #000000;\n",
       "        }    #T_82a3312c_a73e_11ea_bb3f_433bd6dcfec6row10_col1 {\n",
       "            background-color:  #84a7fc;\n",
       "            color:  #000000;\n",
       "        }    #T_82a3312c_a73e_11ea_bb3f_433bd6dcfec6row10_col2 {\n",
       "            background-color:  #c9d7f0;\n",
       "            color:  #000000;\n",
       "        }    #T_82a3312c_a73e_11ea_bb3f_433bd6dcfec6row10_col3 {\n",
       "            background-color:  #5f7fe8;\n",
       "            color:  #000000;\n",
       "        }    #T_82a3312c_a73e_11ea_bb3f_433bd6dcfec6row10_col4 {\n",
       "            background-color:  #465ecf;\n",
       "            color:  #f1f1f1;\n",
       "        }    #T_82a3312c_a73e_11ea_bb3f_433bd6dcfec6row10_col5 {\n",
       "            background-color:  #4f69d9;\n",
       "            color:  #000000;\n",
       "        }    #T_82a3312c_a73e_11ea_bb3f_433bd6dcfec6row10_col6 {\n",
       "            background-color:  #3b4cc0;\n",
       "            color:  #f1f1f1;\n",
       "        }    #T_82a3312c_a73e_11ea_bb3f_433bd6dcfec6row10_col7 {\n",
       "            background-color:  #3b4cc0;\n",
       "            color:  #f1f1f1;\n",
       "        }    #T_82a3312c_a73e_11ea_bb3f_433bd6dcfec6row10_col8 {\n",
       "            background-color:  #e4d9d2;\n",
       "            color:  #000000;\n",
       "        }    #T_82a3312c_a73e_11ea_bb3f_433bd6dcfec6row10_col9 {\n",
       "            background-color:  #97b8ff;\n",
       "            color:  #000000;\n",
       "        }    #T_82a3312c_a73e_11ea_bb3f_433bd6dcfec6row10_col10 {\n",
       "            background-color:  #b40426;\n",
       "            color:  #f1f1f1;\n",
       "        }    #T_82a3312c_a73e_11ea_bb3f_433bd6dcfec6row10_col11 {\n",
       "            background-color:  #f5c4ac;\n",
       "            color:  #000000;\n",
       "        }    #T_82a3312c_a73e_11ea_bb3f_433bd6dcfec6row11_col0 {\n",
       "            background-color:  #d6dce4;\n",
       "            color:  #000000;\n",
       "        }    #T_82a3312c_a73e_11ea_bb3f_433bd6dcfec6row11_col1 {\n",
       "            background-color:  #5a78e4;\n",
       "            color:  #000000;\n",
       "        }    #T_82a3312c_a73e_11ea_bb3f_433bd6dcfec6row11_col2 {\n",
       "            background-color:  #dddcdc;\n",
       "            color:  #000000;\n",
       "        }    #T_82a3312c_a73e_11ea_bb3f_433bd6dcfec6row11_col3 {\n",
       "            background-color:  #5673e0;\n",
       "            color:  #000000;\n",
       "        }    #T_82a3312c_a73e_11ea_bb3f_433bd6dcfec6row11_col4 {\n",
       "            background-color:  #5d7ce6;\n",
       "            color:  #000000;\n",
       "        }    #T_82a3312c_a73e_11ea_bb3f_433bd6dcfec6row11_col5 {\n",
       "            background-color:  #5572df;\n",
       "            color:  #000000;\n",
       "        }    #T_82a3312c_a73e_11ea_bb3f_433bd6dcfec6row11_col6 {\n",
       "            background-color:  #3f53c6;\n",
       "            color:  #f1f1f1;\n",
       "        }    #T_82a3312c_a73e_11ea_bb3f_433bd6dcfec6row11_col7 {\n",
       "            background-color:  #82a6fb;\n",
       "            color:  #000000;\n",
       "        }    #T_82a3312c_a73e_11ea_bb3f_433bd6dcfec6row11_col8 {\n",
       "            background-color:  #b6cefa;\n",
       "            color:  #000000;\n",
       "        }    #T_82a3312c_a73e_11ea_bb3f_433bd6dcfec6row11_col9 {\n",
       "            background-color:  #c1d4f4;\n",
       "            color:  #000000;\n",
       "        }    #T_82a3312c_a73e_11ea_bb3f_433bd6dcfec6row11_col10 {\n",
       "            background-color:  #f7bca1;\n",
       "            color:  #000000;\n",
       "        }    #T_82a3312c_a73e_11ea_bb3f_433bd6dcfec6row11_col11 {\n",
       "            background-color:  #b40426;\n",
       "            color:  #f1f1f1;\n",
       "        }</style><table id=\"T_82a3312c_a73e_11ea_bb3f_433bd6dcfec6\" ><thead>    <tr>        <th class=\"blank level0\" ></th>        <th class=\"col_heading level0 col0\" >fixed acidity</th>        <th class=\"col_heading level0 col1\" >volatile acidity</th>        <th class=\"col_heading level0 col2\" >citric acid</th>        <th class=\"col_heading level0 col3\" >residual sugar</th>        <th class=\"col_heading level0 col4\" >chlorides</th>        <th class=\"col_heading level0 col5\" >free sulfur dioxide</th>        <th class=\"col_heading level0 col6\" >total sulfur dioxide</th>        <th class=\"col_heading level0 col7\" >density</th>        <th class=\"col_heading level0 col8\" >pH</th>        <th class=\"col_heading level0 col9\" >sulphates</th>        <th class=\"col_heading level0 col10\" >alcohol</th>        <th class=\"col_heading level0 col11\" >quality</th>    </tr></thead><tbody>\n",
       "                <tr>\n",
       "                        <th id=\"T_82a3312c_a73e_11ea_bb3f_433bd6dcfec6level0_row0\" class=\"row_heading level0 row0\" >fixed acidity</th>\n",
       "                        <td id=\"T_82a3312c_a73e_11ea_bb3f_433bd6dcfec6row0_col0\" class=\"data row0 col0\" >1</td>\n",
       "                        <td id=\"T_82a3312c_a73e_11ea_bb3f_433bd6dcfec6row0_col1\" class=\"data row0 col1\" >-0.26</td>\n",
       "                        <td id=\"T_82a3312c_a73e_11ea_bb3f_433bd6dcfec6row0_col2\" class=\"data row0 col2\" >0.67</td>\n",
       "                        <td id=\"T_82a3312c_a73e_11ea_bb3f_433bd6dcfec6row0_col3\" class=\"data row0 col3\" >0.11</td>\n",
       "                        <td id=\"T_82a3312c_a73e_11ea_bb3f_433bd6dcfec6row0_col4\" class=\"data row0 col4\" >0.09</td>\n",
       "                        <td id=\"T_82a3312c_a73e_11ea_bb3f_433bd6dcfec6row0_col5\" class=\"data row0 col5\" >-0.15</td>\n",
       "                        <td id=\"T_82a3312c_a73e_11ea_bb3f_433bd6dcfec6row0_col6\" class=\"data row0 col6\" >-0.11</td>\n",
       "                        <td id=\"T_82a3312c_a73e_11ea_bb3f_433bd6dcfec6row0_col7\" class=\"data row0 col7\" >0.67</td>\n",
       "                        <td id=\"T_82a3312c_a73e_11ea_bb3f_433bd6dcfec6row0_col8\" class=\"data row0 col8\" >-0.68</td>\n",
       "                        <td id=\"T_82a3312c_a73e_11ea_bb3f_433bd6dcfec6row0_col9\" class=\"data row0 col9\" >0.18</td>\n",
       "                        <td id=\"T_82a3312c_a73e_11ea_bb3f_433bd6dcfec6row0_col10\" class=\"data row0 col10\" >-0.06</td>\n",
       "                        <td id=\"T_82a3312c_a73e_11ea_bb3f_433bd6dcfec6row0_col11\" class=\"data row0 col11\" >0.12</td>\n",
       "            </tr>\n",
       "            <tr>\n",
       "                        <th id=\"T_82a3312c_a73e_11ea_bb3f_433bd6dcfec6level0_row1\" class=\"row_heading level0 row1\" >volatile acidity</th>\n",
       "                        <td id=\"T_82a3312c_a73e_11ea_bb3f_433bd6dcfec6row1_col0\" class=\"data row1 col0\" >-0.26</td>\n",
       "                        <td id=\"T_82a3312c_a73e_11ea_bb3f_433bd6dcfec6row1_col1\" class=\"data row1 col1\" >1</td>\n",
       "                        <td id=\"T_82a3312c_a73e_11ea_bb3f_433bd6dcfec6row1_col2\" class=\"data row1 col2\" >-0.55</td>\n",
       "                        <td id=\"T_82a3312c_a73e_11ea_bb3f_433bd6dcfec6row1_col3\" class=\"data row1 col3\" >0</td>\n",
       "                        <td id=\"T_82a3312c_a73e_11ea_bb3f_433bd6dcfec6row1_col4\" class=\"data row1 col4\" >0.06</td>\n",
       "                        <td id=\"T_82a3312c_a73e_11ea_bb3f_433bd6dcfec6row1_col5\" class=\"data row1 col5\" >-0.01</td>\n",
       "                        <td id=\"T_82a3312c_a73e_11ea_bb3f_433bd6dcfec6row1_col6\" class=\"data row1 col6\" >0.08</td>\n",
       "                        <td id=\"T_82a3312c_a73e_11ea_bb3f_433bd6dcfec6row1_col7\" class=\"data row1 col7\" >0.02</td>\n",
       "                        <td id=\"T_82a3312c_a73e_11ea_bb3f_433bd6dcfec6row1_col8\" class=\"data row1 col8\" >0.23</td>\n",
       "                        <td id=\"T_82a3312c_a73e_11ea_bb3f_433bd6dcfec6row1_col9\" class=\"data row1 col9\" >-0.26</td>\n",
       "                        <td id=\"T_82a3312c_a73e_11ea_bb3f_433bd6dcfec6row1_col10\" class=\"data row1 col10\" >-0.2</td>\n",
       "                        <td id=\"T_82a3312c_a73e_11ea_bb3f_433bd6dcfec6row1_col11\" class=\"data row1 col11\" >-0.39</td>\n",
       "            </tr>\n",
       "            <tr>\n",
       "                        <th id=\"T_82a3312c_a73e_11ea_bb3f_433bd6dcfec6level0_row2\" class=\"row_heading level0 row2\" >citric acid</th>\n",
       "                        <td id=\"T_82a3312c_a73e_11ea_bb3f_433bd6dcfec6row2_col0\" class=\"data row2 col0\" >0.67</td>\n",
       "                        <td id=\"T_82a3312c_a73e_11ea_bb3f_433bd6dcfec6row2_col1\" class=\"data row2 col1\" >-0.55</td>\n",
       "                        <td id=\"T_82a3312c_a73e_11ea_bb3f_433bd6dcfec6row2_col2\" class=\"data row2 col2\" >1</td>\n",
       "                        <td id=\"T_82a3312c_a73e_11ea_bb3f_433bd6dcfec6row2_col3\" class=\"data row2 col3\" >0.14</td>\n",
       "                        <td id=\"T_82a3312c_a73e_11ea_bb3f_433bd6dcfec6row2_col4\" class=\"data row2 col4\" >0.2</td>\n",
       "                        <td id=\"T_82a3312c_a73e_11ea_bb3f_433bd6dcfec6row2_col5\" class=\"data row2 col5\" >-0.06</td>\n",
       "                        <td id=\"T_82a3312c_a73e_11ea_bb3f_433bd6dcfec6row2_col6\" class=\"data row2 col6\" >0.04</td>\n",
       "                        <td id=\"T_82a3312c_a73e_11ea_bb3f_433bd6dcfec6row2_col7\" class=\"data row2 col7\" >0.36</td>\n",
       "                        <td id=\"T_82a3312c_a73e_11ea_bb3f_433bd6dcfec6row2_col8\" class=\"data row2 col8\" >-0.54</td>\n",
       "                        <td id=\"T_82a3312c_a73e_11ea_bb3f_433bd6dcfec6row2_col9\" class=\"data row2 col9\" >0.31</td>\n",
       "                        <td id=\"T_82a3312c_a73e_11ea_bb3f_433bd6dcfec6row2_col10\" class=\"data row2 col10\" >0.11</td>\n",
       "                        <td id=\"T_82a3312c_a73e_11ea_bb3f_433bd6dcfec6row2_col11\" class=\"data row2 col11\" >0.23</td>\n",
       "            </tr>\n",
       "            <tr>\n",
       "                        <th id=\"T_82a3312c_a73e_11ea_bb3f_433bd6dcfec6level0_row3\" class=\"row_heading level0 row3\" >residual sugar</th>\n",
       "                        <td id=\"T_82a3312c_a73e_11ea_bb3f_433bd6dcfec6row3_col0\" class=\"data row3 col0\" >0.11</td>\n",
       "                        <td id=\"T_82a3312c_a73e_11ea_bb3f_433bd6dcfec6row3_col1\" class=\"data row3 col1\" >0</td>\n",
       "                        <td id=\"T_82a3312c_a73e_11ea_bb3f_433bd6dcfec6row3_col2\" class=\"data row3 col2\" >0.14</td>\n",
       "                        <td id=\"T_82a3312c_a73e_11ea_bb3f_433bd6dcfec6row3_col3\" class=\"data row3 col3\" >1</td>\n",
       "                        <td id=\"T_82a3312c_a73e_11ea_bb3f_433bd6dcfec6row3_col4\" class=\"data row3 col4\" >0.06</td>\n",
       "                        <td id=\"T_82a3312c_a73e_11ea_bb3f_433bd6dcfec6row3_col5\" class=\"data row3 col5\" >0.19</td>\n",
       "                        <td id=\"T_82a3312c_a73e_11ea_bb3f_433bd6dcfec6row3_col6\" class=\"data row3 col6\" >0.2</td>\n",
       "                        <td id=\"T_82a3312c_a73e_11ea_bb3f_433bd6dcfec6row3_col7\" class=\"data row3 col7\" >0.36</td>\n",
       "                        <td id=\"T_82a3312c_a73e_11ea_bb3f_433bd6dcfec6row3_col8\" class=\"data row3 col8\" >-0.09</td>\n",
       "                        <td id=\"T_82a3312c_a73e_11ea_bb3f_433bd6dcfec6row3_col9\" class=\"data row3 col9\" >0.01</td>\n",
       "                        <td id=\"T_82a3312c_a73e_11ea_bb3f_433bd6dcfec6row3_col10\" class=\"data row3 col10\" >0.04</td>\n",
       "                        <td id=\"T_82a3312c_a73e_11ea_bb3f_433bd6dcfec6row3_col11\" class=\"data row3 col11\" >0.01</td>\n",
       "            </tr>\n",
       "            <tr>\n",
       "                        <th id=\"T_82a3312c_a73e_11ea_bb3f_433bd6dcfec6level0_row4\" class=\"row_heading level0 row4\" >chlorides</th>\n",
       "                        <td id=\"T_82a3312c_a73e_11ea_bb3f_433bd6dcfec6row4_col0\" class=\"data row4 col0\" >0.09</td>\n",
       "                        <td id=\"T_82a3312c_a73e_11ea_bb3f_433bd6dcfec6row4_col1\" class=\"data row4 col1\" >0.06</td>\n",
       "                        <td id=\"T_82a3312c_a73e_11ea_bb3f_433bd6dcfec6row4_col2\" class=\"data row4 col2\" >0.2</td>\n",
       "                        <td id=\"T_82a3312c_a73e_11ea_bb3f_433bd6dcfec6row4_col3\" class=\"data row4 col3\" >0.06</td>\n",
       "                        <td id=\"T_82a3312c_a73e_11ea_bb3f_433bd6dcfec6row4_col4\" class=\"data row4 col4\" >1</td>\n",
       "                        <td id=\"T_82a3312c_a73e_11ea_bb3f_433bd6dcfec6row4_col5\" class=\"data row4 col5\" >0.01</td>\n",
       "                        <td id=\"T_82a3312c_a73e_11ea_bb3f_433bd6dcfec6row4_col6\" class=\"data row4 col6\" >0.05</td>\n",
       "                        <td id=\"T_82a3312c_a73e_11ea_bb3f_433bd6dcfec6row4_col7\" class=\"data row4 col7\" >0.2</td>\n",
       "                        <td id=\"T_82a3312c_a73e_11ea_bb3f_433bd6dcfec6row4_col8\" class=\"data row4 col8\" >-0.27</td>\n",
       "                        <td id=\"T_82a3312c_a73e_11ea_bb3f_433bd6dcfec6row4_col9\" class=\"data row4 col9\" >0.37</td>\n",
       "                        <td id=\"T_82a3312c_a73e_11ea_bb3f_433bd6dcfec6row4_col10\" class=\"data row4 col10\" >-0.22</td>\n",
       "                        <td id=\"T_82a3312c_a73e_11ea_bb3f_433bd6dcfec6row4_col11\" class=\"data row4 col11\" >-0.13</td>\n",
       "            </tr>\n",
       "            <tr>\n",
       "                        <th id=\"T_82a3312c_a73e_11ea_bb3f_433bd6dcfec6level0_row5\" class=\"row_heading level0 row5\" >free sulfur dioxide</th>\n",
       "                        <td id=\"T_82a3312c_a73e_11ea_bb3f_433bd6dcfec6row5_col0\" class=\"data row5 col0\" >-0.15</td>\n",
       "                        <td id=\"T_82a3312c_a73e_11ea_bb3f_433bd6dcfec6row5_col1\" class=\"data row5 col1\" >-0.01</td>\n",
       "                        <td id=\"T_82a3312c_a73e_11ea_bb3f_433bd6dcfec6row5_col2\" class=\"data row5 col2\" >-0.06</td>\n",
       "                        <td id=\"T_82a3312c_a73e_11ea_bb3f_433bd6dcfec6row5_col3\" class=\"data row5 col3\" >0.19</td>\n",
       "                        <td id=\"T_82a3312c_a73e_11ea_bb3f_433bd6dcfec6row5_col4\" class=\"data row5 col4\" >0.01</td>\n",
       "                        <td id=\"T_82a3312c_a73e_11ea_bb3f_433bd6dcfec6row5_col5\" class=\"data row5 col5\" >1</td>\n",
       "                        <td id=\"T_82a3312c_a73e_11ea_bb3f_433bd6dcfec6row5_col6\" class=\"data row5 col6\" >0.67</td>\n",
       "                        <td id=\"T_82a3312c_a73e_11ea_bb3f_433bd6dcfec6row5_col7\" class=\"data row5 col7\" >-0.02</td>\n",
       "                        <td id=\"T_82a3312c_a73e_11ea_bb3f_433bd6dcfec6row5_col8\" class=\"data row5 col8\" >0.07</td>\n",
       "                        <td id=\"T_82a3312c_a73e_11ea_bb3f_433bd6dcfec6row5_col9\" class=\"data row5 col9\" >0.05</td>\n",
       "                        <td id=\"T_82a3312c_a73e_11ea_bb3f_433bd6dcfec6row5_col10\" class=\"data row5 col10\" >-0.07</td>\n",
       "                        <td id=\"T_82a3312c_a73e_11ea_bb3f_433bd6dcfec6row5_col11\" class=\"data row5 col11\" >-0.05</td>\n",
       "            </tr>\n",
       "            <tr>\n",
       "                        <th id=\"T_82a3312c_a73e_11ea_bb3f_433bd6dcfec6level0_row6\" class=\"row_heading level0 row6\" >total sulfur dioxide</th>\n",
       "                        <td id=\"T_82a3312c_a73e_11ea_bb3f_433bd6dcfec6row6_col0\" class=\"data row6 col0\" >-0.11</td>\n",
       "                        <td id=\"T_82a3312c_a73e_11ea_bb3f_433bd6dcfec6row6_col1\" class=\"data row6 col1\" >0.08</td>\n",
       "                        <td id=\"T_82a3312c_a73e_11ea_bb3f_433bd6dcfec6row6_col2\" class=\"data row6 col2\" >0.04</td>\n",
       "                        <td id=\"T_82a3312c_a73e_11ea_bb3f_433bd6dcfec6row6_col3\" class=\"data row6 col3\" >0.2</td>\n",
       "                        <td id=\"T_82a3312c_a73e_11ea_bb3f_433bd6dcfec6row6_col4\" class=\"data row6 col4\" >0.05</td>\n",
       "                        <td id=\"T_82a3312c_a73e_11ea_bb3f_433bd6dcfec6row6_col5\" class=\"data row6 col5\" >0.67</td>\n",
       "                        <td id=\"T_82a3312c_a73e_11ea_bb3f_433bd6dcfec6row6_col6\" class=\"data row6 col6\" >1</td>\n",
       "                        <td id=\"T_82a3312c_a73e_11ea_bb3f_433bd6dcfec6row6_col7\" class=\"data row6 col7\" >0.07</td>\n",
       "                        <td id=\"T_82a3312c_a73e_11ea_bb3f_433bd6dcfec6row6_col8\" class=\"data row6 col8\" >-0.07</td>\n",
       "                        <td id=\"T_82a3312c_a73e_11ea_bb3f_433bd6dcfec6row6_col9\" class=\"data row6 col9\" >0.04</td>\n",
       "                        <td id=\"T_82a3312c_a73e_11ea_bb3f_433bd6dcfec6row6_col10\" class=\"data row6 col10\" >-0.21</td>\n",
       "                        <td id=\"T_82a3312c_a73e_11ea_bb3f_433bd6dcfec6row6_col11\" class=\"data row6 col11\" >-0.19</td>\n",
       "            </tr>\n",
       "            <tr>\n",
       "                        <th id=\"T_82a3312c_a73e_11ea_bb3f_433bd6dcfec6level0_row7\" class=\"row_heading level0 row7\" >density</th>\n",
       "                        <td id=\"T_82a3312c_a73e_11ea_bb3f_433bd6dcfec6row7_col0\" class=\"data row7 col0\" >0.67</td>\n",
       "                        <td id=\"T_82a3312c_a73e_11ea_bb3f_433bd6dcfec6row7_col1\" class=\"data row7 col1\" >0.02</td>\n",
       "                        <td id=\"T_82a3312c_a73e_11ea_bb3f_433bd6dcfec6row7_col2\" class=\"data row7 col2\" >0.36</td>\n",
       "                        <td id=\"T_82a3312c_a73e_11ea_bb3f_433bd6dcfec6row7_col3\" class=\"data row7 col3\" >0.36</td>\n",
       "                        <td id=\"T_82a3312c_a73e_11ea_bb3f_433bd6dcfec6row7_col4\" class=\"data row7 col4\" >0.2</td>\n",
       "                        <td id=\"T_82a3312c_a73e_11ea_bb3f_433bd6dcfec6row7_col5\" class=\"data row7 col5\" >-0.02</td>\n",
       "                        <td id=\"T_82a3312c_a73e_11ea_bb3f_433bd6dcfec6row7_col6\" class=\"data row7 col6\" >0.07</td>\n",
       "                        <td id=\"T_82a3312c_a73e_11ea_bb3f_433bd6dcfec6row7_col7\" class=\"data row7 col7\" >1</td>\n",
       "                        <td id=\"T_82a3312c_a73e_11ea_bb3f_433bd6dcfec6row7_col8\" class=\"data row7 col8\" >-0.34</td>\n",
       "                        <td id=\"T_82a3312c_a73e_11ea_bb3f_433bd6dcfec6row7_col9\" class=\"data row7 col9\" >0.15</td>\n",
       "                        <td id=\"T_82a3312c_a73e_11ea_bb3f_433bd6dcfec6row7_col10\" class=\"data row7 col10\" >-0.5</td>\n",
       "                        <td id=\"T_82a3312c_a73e_11ea_bb3f_433bd6dcfec6row7_col11\" class=\"data row7 col11\" >-0.17</td>\n",
       "            </tr>\n",
       "            <tr>\n",
       "                        <th id=\"T_82a3312c_a73e_11ea_bb3f_433bd6dcfec6level0_row8\" class=\"row_heading level0 row8\" >pH</th>\n",
       "                        <td id=\"T_82a3312c_a73e_11ea_bb3f_433bd6dcfec6row8_col0\" class=\"data row8 col0\" >-0.68</td>\n",
       "                        <td id=\"T_82a3312c_a73e_11ea_bb3f_433bd6dcfec6row8_col1\" class=\"data row8 col1\" >0.23</td>\n",
       "                        <td id=\"T_82a3312c_a73e_11ea_bb3f_433bd6dcfec6row8_col2\" class=\"data row8 col2\" >-0.54</td>\n",
       "                        <td id=\"T_82a3312c_a73e_11ea_bb3f_433bd6dcfec6row8_col3\" class=\"data row8 col3\" >-0.09</td>\n",
       "                        <td id=\"T_82a3312c_a73e_11ea_bb3f_433bd6dcfec6row8_col4\" class=\"data row8 col4\" >-0.27</td>\n",
       "                        <td id=\"T_82a3312c_a73e_11ea_bb3f_433bd6dcfec6row8_col5\" class=\"data row8 col5\" >0.07</td>\n",
       "                        <td id=\"T_82a3312c_a73e_11ea_bb3f_433bd6dcfec6row8_col6\" class=\"data row8 col6\" >-0.07</td>\n",
       "                        <td id=\"T_82a3312c_a73e_11ea_bb3f_433bd6dcfec6row8_col7\" class=\"data row8 col7\" >-0.34</td>\n",
       "                        <td id=\"T_82a3312c_a73e_11ea_bb3f_433bd6dcfec6row8_col8\" class=\"data row8 col8\" >1</td>\n",
       "                        <td id=\"T_82a3312c_a73e_11ea_bb3f_433bd6dcfec6row8_col9\" class=\"data row8 col9\" >-0.2</td>\n",
       "                        <td id=\"T_82a3312c_a73e_11ea_bb3f_433bd6dcfec6row8_col10\" class=\"data row8 col10\" >0.21</td>\n",
       "                        <td id=\"T_82a3312c_a73e_11ea_bb3f_433bd6dcfec6row8_col11\" class=\"data row8 col11\" >-0.06</td>\n",
       "            </tr>\n",
       "            <tr>\n",
       "                        <th id=\"T_82a3312c_a73e_11ea_bb3f_433bd6dcfec6level0_row9\" class=\"row_heading level0 row9\" >sulphates</th>\n",
       "                        <td id=\"T_82a3312c_a73e_11ea_bb3f_433bd6dcfec6row9_col0\" class=\"data row9 col0\" >0.18</td>\n",
       "                        <td id=\"T_82a3312c_a73e_11ea_bb3f_433bd6dcfec6row9_col1\" class=\"data row9 col1\" >-0.26</td>\n",
       "                        <td id=\"T_82a3312c_a73e_11ea_bb3f_433bd6dcfec6row9_col2\" class=\"data row9 col2\" >0.31</td>\n",
       "                        <td id=\"T_82a3312c_a73e_11ea_bb3f_433bd6dcfec6row9_col3\" class=\"data row9 col3\" >0.01</td>\n",
       "                        <td id=\"T_82a3312c_a73e_11ea_bb3f_433bd6dcfec6row9_col4\" class=\"data row9 col4\" >0.37</td>\n",
       "                        <td id=\"T_82a3312c_a73e_11ea_bb3f_433bd6dcfec6row9_col5\" class=\"data row9 col5\" >0.05</td>\n",
       "                        <td id=\"T_82a3312c_a73e_11ea_bb3f_433bd6dcfec6row9_col6\" class=\"data row9 col6\" >0.04</td>\n",
       "                        <td id=\"T_82a3312c_a73e_11ea_bb3f_433bd6dcfec6row9_col7\" class=\"data row9 col7\" >0.15</td>\n",
       "                        <td id=\"T_82a3312c_a73e_11ea_bb3f_433bd6dcfec6row9_col8\" class=\"data row9 col8\" >-0.2</td>\n",
       "                        <td id=\"T_82a3312c_a73e_11ea_bb3f_433bd6dcfec6row9_col9\" class=\"data row9 col9\" >1</td>\n",
       "                        <td id=\"T_82a3312c_a73e_11ea_bb3f_433bd6dcfec6row9_col10\" class=\"data row9 col10\" >0.09</td>\n",
       "                        <td id=\"T_82a3312c_a73e_11ea_bb3f_433bd6dcfec6row9_col11\" class=\"data row9 col11\" >0.25</td>\n",
       "            </tr>\n",
       "            <tr>\n",
       "                        <th id=\"T_82a3312c_a73e_11ea_bb3f_433bd6dcfec6level0_row10\" class=\"row_heading level0 row10\" >alcohol</th>\n",
       "                        <td id=\"T_82a3312c_a73e_11ea_bb3f_433bd6dcfec6row10_col0\" class=\"data row10 col0\" >-0.06</td>\n",
       "                        <td id=\"T_82a3312c_a73e_11ea_bb3f_433bd6dcfec6row10_col1\" class=\"data row10 col1\" >-0.2</td>\n",
       "                        <td id=\"T_82a3312c_a73e_11ea_bb3f_433bd6dcfec6row10_col2\" class=\"data row10 col2\" >0.11</td>\n",
       "                        <td id=\"T_82a3312c_a73e_11ea_bb3f_433bd6dcfec6row10_col3\" class=\"data row10 col3\" >0.04</td>\n",
       "                        <td id=\"T_82a3312c_a73e_11ea_bb3f_433bd6dcfec6row10_col4\" class=\"data row10 col4\" >-0.22</td>\n",
       "                        <td id=\"T_82a3312c_a73e_11ea_bb3f_433bd6dcfec6row10_col5\" class=\"data row10 col5\" >-0.07</td>\n",
       "                        <td id=\"T_82a3312c_a73e_11ea_bb3f_433bd6dcfec6row10_col6\" class=\"data row10 col6\" >-0.21</td>\n",
       "                        <td id=\"T_82a3312c_a73e_11ea_bb3f_433bd6dcfec6row10_col7\" class=\"data row10 col7\" >-0.5</td>\n",
       "                        <td id=\"T_82a3312c_a73e_11ea_bb3f_433bd6dcfec6row10_col8\" class=\"data row10 col8\" >0.21</td>\n",
       "                        <td id=\"T_82a3312c_a73e_11ea_bb3f_433bd6dcfec6row10_col9\" class=\"data row10 col9\" >0.09</td>\n",
       "                        <td id=\"T_82a3312c_a73e_11ea_bb3f_433bd6dcfec6row10_col10\" class=\"data row10 col10\" >1</td>\n",
       "                        <td id=\"T_82a3312c_a73e_11ea_bb3f_433bd6dcfec6row10_col11\" class=\"data row10 col11\" >0.48</td>\n",
       "            </tr>\n",
       "            <tr>\n",
       "                        <th id=\"T_82a3312c_a73e_11ea_bb3f_433bd6dcfec6level0_row11\" class=\"row_heading level0 row11\" >quality</th>\n",
       "                        <td id=\"T_82a3312c_a73e_11ea_bb3f_433bd6dcfec6row11_col0\" class=\"data row11 col0\" >0.12</td>\n",
       "                        <td id=\"T_82a3312c_a73e_11ea_bb3f_433bd6dcfec6row11_col1\" class=\"data row11 col1\" >-0.39</td>\n",
       "                        <td id=\"T_82a3312c_a73e_11ea_bb3f_433bd6dcfec6row11_col2\" class=\"data row11 col2\" >0.23</td>\n",
       "                        <td id=\"T_82a3312c_a73e_11ea_bb3f_433bd6dcfec6row11_col3\" class=\"data row11 col3\" >0.01</td>\n",
       "                        <td id=\"T_82a3312c_a73e_11ea_bb3f_433bd6dcfec6row11_col4\" class=\"data row11 col4\" >-0.13</td>\n",
       "                        <td id=\"T_82a3312c_a73e_11ea_bb3f_433bd6dcfec6row11_col5\" class=\"data row11 col5\" >-0.05</td>\n",
       "                        <td id=\"T_82a3312c_a73e_11ea_bb3f_433bd6dcfec6row11_col6\" class=\"data row11 col6\" >-0.19</td>\n",
       "                        <td id=\"T_82a3312c_a73e_11ea_bb3f_433bd6dcfec6row11_col7\" class=\"data row11 col7\" >-0.17</td>\n",
       "                        <td id=\"T_82a3312c_a73e_11ea_bb3f_433bd6dcfec6row11_col8\" class=\"data row11 col8\" >-0.06</td>\n",
       "                        <td id=\"T_82a3312c_a73e_11ea_bb3f_433bd6dcfec6row11_col9\" class=\"data row11 col9\" >0.25</td>\n",
       "                        <td id=\"T_82a3312c_a73e_11ea_bb3f_433bd6dcfec6row11_col10\" class=\"data row11 col10\" >0.48</td>\n",
       "                        <td id=\"T_82a3312c_a73e_11ea_bb3f_433bd6dcfec6row11_col11\" class=\"data row11 col11\" >1</td>\n",
       "            </tr>\n",
       "    </tbody></table>"
      ],
      "text/plain": [
       "<pandas.io.formats.style.Styler at 0x7fa48ca29190>"
      ]
     },
     "execution_count": 136,
     "metadata": {},
     "output_type": "execute_result"
    }
   ],
   "source": [
    "corr = df.corr().round(2)\n",
    "corr.style.background_gradient(cmap='coolwarm')"
   ]
  },
  {
   "cell_type": "code",
   "execution_count": 82,
   "metadata": {},
   "outputs": [
    {
     "data": {
      "text/plain": [
       "<matplotlib.axes._subplots.AxesSubplot at 0x7fa48e75a2d0>"
      ]
     },
     "execution_count": 82,
     "metadata": {},
     "output_type": "execute_result"
    },
    {
     "data": {
      "image/png": "[encoded data removed]",
      "text/plain": [
       "<Figure size 1080x1080 with 15 Axes>"
      ]
     },
     "metadata": {
      "needs_background": "light"
     },
     "output_type": "display_data"
    }
   ],
   "source": [
    "f, axes = plt.subplots(5, 3,figsize=(15,15))\n",
    "\n",
    "sns.scatterplot(x='fixed acidity',y='citric acid',data=df, ax=axes[0][0])\n",
    "sns.scatterplot(x='fixed acidity',y='density',data=df, ax=axes[0][1])\n",
    "sns.scatterplot(x='fixed acidity',y='pH',data=df, ax=axes[0][2])\n",
    "sns.scatterplot(x='volatile acidity',y='citric acid',data=df, ax=axes[1][0])\n",
    "sns.scatterplot(x='volatile acidity',y='quality',data=df, ax=axes[1][1])\n",
    "sns.scatterplot(x='fixed acidity',y='density',data=df, ax=axes[1][2])\n",
    "sns.scatterplot(x='citric acid',y='density',data=df, ax=axes[2][0])\n",
    "sns.scatterplot(x='citric acid',y='pH',data=df, ax=axes[2][1])\n",
    "sns.scatterplot(x='citric acid',y='sulphates',data=df, ax=axes[2][2])\n",
    "sns.scatterplot(x='residual sugar',y='density',data=df, ax=axes[3][0])\n",
    "sns.scatterplot(x='chlorides',y='sulphates',data=df, ax=axes[3][1])\n",
    "sns.scatterplot(x='free sulfur dioxide',y='total sulfur dioxide',data=df, ax=axes[3][2])\n",
    "sns.scatterplot(x='density',y='pH',data=df, ax=axes[4][0])\n",
    "sns.scatterplot(x='density',y='alcohol',data=df, ax=axes[4][1])\n",
    "sns.scatterplot(x='quality',y='alcohol',data=df, ax=axes[4][2])\n",
    "\n"
   ]
  },
  {
   "cell_type": "markdown",
   "metadata": {},
   "source": [
    "Finally, some boxplots could give some hints on which variables are more related with a change in quality."
   ]
  },
  {
   "cell_type": "code",
   "execution_count": 83,
   "metadata": {},
   "outputs": [
    {
     "data": {
      "image/png": "[encoded data removed]",
      "text/plain": [
       "<Figure size 1080x1080 with 12 Axes>"
      ]
     },
     "metadata": {
      "needs_background": "light"
     },
     "output_type": "display_data"
    }
   ],
   "source": [
    "f, axes = plt.subplots(4, 3,figsize=(15,15))\n",
    "\n",
    "i=0\n",
    "j=0\n",
    "\n",
    "for item in col:\n",
    "    sns.boxplot(x='quality',y=item,data=df, ax=axes[i][j])\n",
    "    if j != 2 :\n",
    "        j=j+1\n",
    "    else:\n",
    "        i=i+1\n",
    "        j=0\n"
   ]
  },
  {
   "cell_type": "markdown",
   "metadata": {},
   "source": [
    "From this plot some features seems more informative than others. Let's proceed with a feature selection, then. "
   ]
  },
  {
   "cell_type": "markdown",
   "metadata": {},
   "source": [
    "## Feature Importance"
   ]
  },
  {
   "cell_type": "code",
   "execution_count": 155,
   "metadata": {},
   "outputs": [],
   "source": [
    "X=df[['fixed acidity', 'volatile acidity', 'citric acid', 'residual sugar',\n",
    "       'chlorides', 'free sulfur dioxide', 'total sulfur dioxide', 'density',\n",
    "       'pH', 'sulphates', 'alcohol']]\n",
    "y=df[['quality']]"
   ]
  },
  {
   "cell_type": "code",
   "execution_count": 156,
   "metadata": {},
   "outputs": [
    {
     "name": "stderr",
     "output_type": "stream",
     "text": [
      "/home/IT043026/anaconda2/envs/python3/lib/python3.7/site-packages/sklearn/utils/validation.py:73: DataConversionWarning: A column-vector y was passed when a 1d array was expected. Please change the shape of y to (n_samples, ), for example using ravel().\n",
      "  return f(**kwargs)\n"
     ]
    },
    {
     "data": {
      "text/html": [
       "<div>\n",
       "<style scoped>\n",
       "    .dataframe tbody tr th:only-of-type {\n",
       "        vertical-align: middle;\n",
       "    }\n",
       "\n",
       "    .dataframe tbody tr th {\n",
       "        vertical-align: top;\n",
       "    }\n",
       "\n",
       "    .dataframe thead th {\n",
       "        text-align: right;\n",
       "    }\n",
       "</style>\n",
       "<table border=\"1\" class=\"dataframe\">\n",
       "  <thead>\n",
       "    <tr style=\"text-align: right;\">\n",
       "      <th></th>\n",
       "      <th>fixed acidity</th>\n",
       "      <th>volatile acidity</th>\n",
       "      <th>citric acid</th>\n",
       "      <th>residual sugar</th>\n",
       "      <th>chlorides</th>\n",
       "      <th>free sulfur dioxide</th>\n",
       "      <th>total sulfur dioxide</th>\n",
       "      <th>density</th>\n",
       "      <th>pH</th>\n",
       "      <th>sulphates</th>\n",
       "      <th>alcohol</th>\n",
       "    </tr>\n",
       "  </thead>\n",
       "  <tbody>\n",
       "    <tr>\n",
       "      <th>0</th>\n",
       "      <td>6.28</td>\n",
       "      <td>60.91</td>\n",
       "      <td>19.69</td>\n",
       "      <td>1.05</td>\n",
       "      <td>6.04</td>\n",
       "      <td>4.75</td>\n",
       "      <td>25.48</td>\n",
       "      <td>13.4</td>\n",
       "      <td>4.34</td>\n",
       "      <td>22.27</td>\n",
       "      <td>115.85</td>\n",
       "    </tr>\n",
       "    <tr>\n",
       "      <th>1</th>\n",
       "      <td>0.00</td>\n",
       "      <td>0.00</td>\n",
       "      <td>0.00</td>\n",
       "      <td>0.38</td>\n",
       "      <td>0.00</td>\n",
       "      <td>0.00</td>\n",
       "      <td>0.00</td>\n",
       "      <td>0.0</td>\n",
       "      <td>0.00</td>\n",
       "      <td>0.00</td>\n",
       "      <td>0.00</td>\n",
       "    </tr>\n",
       "  </tbody>\n",
       "</table>\n",
       "</div>"
      ],
      "text/plain": [
       "   fixed acidity  volatile acidity  citric acid  residual sugar  chlorides  \\\n",
       "0           6.28             60.91        19.69            1.05       6.04   \n",
       "1           0.00              0.00         0.00            0.38       0.00   \n",
       "\n",
       "   free sulfur dioxide  total sulfur dioxide  density    pH  sulphates  \\\n",
       "0                 4.75                 25.48     13.4  4.34      22.27   \n",
       "1                 0.00                  0.00      0.0  0.00       0.00   \n",
       "\n",
       "   alcohol  \n",
       "0   115.85  \n",
       "1     0.00  "
      ]
     },
     "execution_count": 156,
     "metadata": {},
     "output_type": "execute_result"
    }
   ],
   "source": [
    "FS=fs.f_classif(X, y)\n",
    "ffss=pd.DataFrame(FS)\n",
    "ffss.round(2).head()\n",
    "ffss.columns=['fixed acidity', 'volatile acidity', 'citric acid', 'residual sugar',\n",
    "       'chlorides', 'free sulfur dioxide', 'total sulfur dioxide', 'density',\n",
    "       'pH', 'sulphates', 'alcohol']\n",
    "ffss.round(2).head()"
   ]
  },
  {
   "cell_type": "markdown",
   "metadata": {},
   "source": [
    "From this results we can see that the features affect the quality in different ways. All the results have a low p-value, so there is significance in this findings, but residual sugar. \n",
    "\n",
    "I will carry on the classification using all the features and then only the features with an F value higher than 20, at a significant level, to see the difference in scores, that I guess to be low. "
   ]
  },
  {
   "cell_type": "markdown",
   "metadata": {},
   "source": [
    "## Classification Job\n",
    "\n",
    "Let's start assigning to wine with quality score higher or equal to 6 the label 'good' and to the others the label 'poor'."
   ]
  },
  {
   "cell_type": "code",
   "execution_count": 201,
   "metadata": {},
   "outputs": [],
   "source": [
    "a=[]\n",
    "for element in df['quality']:\n",
    "    if element > 6:\n",
    "        a.append('good')\n",
    "    else:\n",
    "        a.append('poor')\n",
    "df['rating']=a"
   ]
  },
  {
   "cell_type": "code",
   "execution_count": 202,
   "metadata": {},
   "outputs": [
    {
     "data": {
      "text/html": [
       "<div>\n",
       "<style scoped>\n",
       "    .dataframe tbody tr th:only-of-type {\n",
       "        vertical-align: middle;\n",
       "    }\n",
       "\n",
       "    .dataframe tbody tr th {\n",
       "        vertical-align: top;\n",
       "    }\n",
       "\n",
       "    .dataframe thead th {\n",
       "        text-align: right;\n",
       "    }\n",
       "</style>\n",
       "<table border=\"1\" class=\"dataframe\">\n",
       "  <thead>\n",
       "    <tr style=\"text-align: right;\">\n",
       "      <th></th>\n",
       "      <th>fixed acidity</th>\n",
       "      <th>volatile acidity</th>\n",
       "      <th>citric acid</th>\n",
       "      <th>residual sugar</th>\n",
       "      <th>chlorides</th>\n",
       "      <th>free sulfur dioxide</th>\n",
       "      <th>total sulfur dioxide</th>\n",
       "      <th>density</th>\n",
       "      <th>pH</th>\n",
       "      <th>sulphates</th>\n",
       "      <th>alcohol</th>\n",
       "      <th>quality</th>\n",
       "      <th>rating</th>\n",
       "    </tr>\n",
       "  </thead>\n",
       "  <tbody>\n",
       "    <tr>\n",
       "      <th>0</th>\n",
       "      <td>7.4</td>\n",
       "      <td>0.70</td>\n",
       "      <td>0.00</td>\n",
       "      <td>1.9</td>\n",
       "      <td>0.076</td>\n",
       "      <td>11.0</td>\n",
       "      <td>34.0</td>\n",
       "      <td>0.9978</td>\n",
       "      <td>3.51</td>\n",
       "      <td>0.56</td>\n",
       "      <td>9.4</td>\n",
       "      <td>5</td>\n",
       "      <td>poor</td>\n",
       "    </tr>\n",
       "    <tr>\n",
       "      <th>1</th>\n",
       "      <td>7.8</td>\n",
       "      <td>0.88</td>\n",
       "      <td>0.00</td>\n",
       "      <td>2.6</td>\n",
       "      <td>0.098</td>\n",
       "      <td>25.0</td>\n",
       "      <td>67.0</td>\n",
       "      <td>0.9968</td>\n",
       "      <td>3.20</td>\n",
       "      <td>0.68</td>\n",
       "      <td>9.8</td>\n",
       "      <td>5</td>\n",
       "      <td>poor</td>\n",
       "    </tr>\n",
       "    <tr>\n",
       "      <th>2</th>\n",
       "      <td>7.8</td>\n",
       "      <td>0.76</td>\n",
       "      <td>0.04</td>\n",
       "      <td>2.3</td>\n",
       "      <td>0.092</td>\n",
       "      <td>15.0</td>\n",
       "      <td>54.0</td>\n",
       "      <td>0.9970</td>\n",
       "      <td>3.26</td>\n",
       "      <td>0.65</td>\n",
       "      <td>9.8</td>\n",
       "      <td>5</td>\n",
       "      <td>poor</td>\n",
       "    </tr>\n",
       "    <tr>\n",
       "      <th>3</th>\n",
       "      <td>11.2</td>\n",
       "      <td>0.28</td>\n",
       "      <td>0.56</td>\n",
       "      <td>1.9</td>\n",
       "      <td>0.075</td>\n",
       "      <td>17.0</td>\n",
       "      <td>60.0</td>\n",
       "      <td>0.9980</td>\n",
       "      <td>3.16</td>\n",
       "      <td>0.58</td>\n",
       "      <td>9.8</td>\n",
       "      <td>6</td>\n",
       "      <td>poor</td>\n",
       "    </tr>\n",
       "    <tr>\n",
       "      <th>4</th>\n",
       "      <td>7.4</td>\n",
       "      <td>0.70</td>\n",
       "      <td>0.00</td>\n",
       "      <td>1.9</td>\n",
       "      <td>0.076</td>\n",
       "      <td>11.0</td>\n",
       "      <td>34.0</td>\n",
       "      <td>0.9978</td>\n",
       "      <td>3.51</td>\n",
       "      <td>0.56</td>\n",
       "      <td>9.4</td>\n",
       "      <td>5</td>\n",
       "      <td>poor</td>\n",
       "    </tr>\n",
       "  </tbody>\n",
       "</table>\n",
       "</div>"
      ],
      "text/plain": [
       "   fixed acidity  volatile acidity  citric acid  residual sugar  chlorides  \\\n",
       "0            7.4              0.70         0.00             1.9      0.076   \n",
       "1            7.8              0.88         0.00             2.6      0.098   \n",
       "2            7.8              0.76         0.04             2.3      0.092   \n",
       "3           11.2              0.28         0.56             1.9      0.075   \n",
       "4            7.4              0.70         0.00             1.9      0.076   \n",
       "\n",
       "   free sulfur dioxide  total sulfur dioxide  density    pH  sulphates  \\\n",
       "0                 11.0                  34.0   0.9978  3.51       0.56   \n",
       "1                 25.0                  67.0   0.9968  3.20       0.68   \n",
       "2                 15.0                  54.0   0.9970  3.26       0.65   \n",
       "3                 17.0                  60.0   0.9980  3.16       0.58   \n",
       "4                 11.0                  34.0   0.9978  3.51       0.56   \n",
       "\n",
       "   alcohol  quality rating  \n",
       "0      9.4        5   poor  \n",
       "1      9.8        5   poor  \n",
       "2      9.8        5   poor  \n",
       "3      9.8        6   poor  \n",
       "4      9.4        5   poor  "
      ]
     },
     "execution_count": 202,
     "metadata": {},
     "output_type": "execute_result"
    }
   ],
   "source": [
    "df.head()"
   ]
  },
  {
   "cell_type": "code",
   "execution_count": 203,
   "metadata": {},
   "outputs": [
    {
     "data": {
      "text/plain": [
       "Index(['fixed acidity', 'volatile acidity', 'citric acid', 'residual sugar',\n",
       "       'chlorides', 'free sulfur dioxide', 'total sulfur dioxide', 'density',\n",
       "       'pH', 'sulphates', 'alcohol', 'quality', 'rating'],\n",
       "      dtype='object')"
      ]
     },
     "execution_count": 203,
     "metadata": {},
     "output_type": "execute_result"
    }
   ],
   "source": [
    "df.columns"
   ]
  },
  {
   "cell_type": "markdown",
   "metadata": {},
   "source": [
    "I will now select all the features and scale them."
   ]
  },
  {
   "cell_type": "code",
   "execution_count": 204,
   "metadata": {},
   "outputs": [
    {
     "data": {
      "text/html": [
       "<div>\n",
       "<style scoped>\n",
       "    .dataframe tbody tr th:only-of-type {\n",
       "        vertical-align: middle;\n",
       "    }\n",
       "\n",
       "    .dataframe tbody tr th {\n",
       "        vertical-align: top;\n",
       "    }\n",
       "\n",
       "    .dataframe thead th {\n",
       "        text-align: right;\n",
       "    }\n",
       "</style>\n",
       "<table border=\"1\" class=\"dataframe\">\n",
       "  <thead>\n",
       "    <tr style=\"text-align: right;\">\n",
       "      <th></th>\n",
       "      <th>fixed acidity</th>\n",
       "      <th>volatile acidity</th>\n",
       "      <th>citric acid</th>\n",
       "      <th>residual sugar</th>\n",
       "      <th>chlorides</th>\n",
       "      <th>free sulfur dioxide</th>\n",
       "      <th>total sulfur dioxide</th>\n",
       "      <th>density</th>\n",
       "      <th>pH</th>\n",
       "      <th>sulphates</th>\n",
       "      <th>alcohol</th>\n",
       "    </tr>\n",
       "  </thead>\n",
       "  <tbody>\n",
       "    <tr>\n",
       "      <th>0</th>\n",
       "      <td>7.4</td>\n",
       "      <td>0.70</td>\n",
       "      <td>0.00</td>\n",
       "      <td>1.9</td>\n",
       "      <td>0.076</td>\n",
       "      <td>11.0</td>\n",
       "      <td>34.0</td>\n",
       "      <td>0.9978</td>\n",
       "      <td>3.51</td>\n",
       "      <td>0.56</td>\n",
       "      <td>9.4</td>\n",
       "    </tr>\n",
       "    <tr>\n",
       "      <th>1</th>\n",
       "      <td>7.8</td>\n",
       "      <td>0.88</td>\n",
       "      <td>0.00</td>\n",
       "      <td>2.6</td>\n",
       "      <td>0.098</td>\n",
       "      <td>25.0</td>\n",
       "      <td>67.0</td>\n",
       "      <td>0.9968</td>\n",
       "      <td>3.20</td>\n",
       "      <td>0.68</td>\n",
       "      <td>9.8</td>\n",
       "    </tr>\n",
       "    <tr>\n",
       "      <th>2</th>\n",
       "      <td>7.8</td>\n",
       "      <td>0.76</td>\n",
       "      <td>0.04</td>\n",
       "      <td>2.3</td>\n",
       "      <td>0.092</td>\n",
       "      <td>15.0</td>\n",
       "      <td>54.0</td>\n",
       "      <td>0.9970</td>\n",
       "      <td>3.26</td>\n",
       "      <td>0.65</td>\n",
       "      <td>9.8</td>\n",
       "    </tr>\n",
       "    <tr>\n",
       "      <th>3</th>\n",
       "      <td>11.2</td>\n",
       "      <td>0.28</td>\n",
       "      <td>0.56</td>\n",
       "      <td>1.9</td>\n",
       "      <td>0.075</td>\n",
       "      <td>17.0</td>\n",
       "      <td>60.0</td>\n",
       "      <td>0.9980</td>\n",
       "      <td>3.16</td>\n",
       "      <td>0.58</td>\n",
       "      <td>9.8</td>\n",
       "    </tr>\n",
       "    <tr>\n",
       "      <th>4</th>\n",
       "      <td>7.4</td>\n",
       "      <td>0.70</td>\n",
       "      <td>0.00</td>\n",
       "      <td>1.9</td>\n",
       "      <td>0.076</td>\n",
       "      <td>11.0</td>\n",
       "      <td>34.0</td>\n",
       "      <td>0.9978</td>\n",
       "      <td>3.51</td>\n",
       "      <td>0.56</td>\n",
       "      <td>9.4</td>\n",
       "    </tr>\n",
       "  </tbody>\n",
       "</table>\n",
       "</div>"
      ],
      "text/plain": [
       "   fixed acidity  volatile acidity  citric acid  residual sugar  chlorides  \\\n",
       "0            7.4              0.70         0.00             1.9      0.076   \n",
       "1            7.8              0.88         0.00             2.6      0.098   \n",
       "2            7.8              0.76         0.04             2.3      0.092   \n",
       "3           11.2              0.28         0.56             1.9      0.075   \n",
       "4            7.4              0.70         0.00             1.9      0.076   \n",
       "\n",
       "   free sulfur dioxide  total sulfur dioxide  density    pH  sulphates  \\\n",
       "0                 11.0                  34.0   0.9978  3.51       0.56   \n",
       "1                 25.0                  67.0   0.9968  3.20       0.68   \n",
       "2                 15.0                  54.0   0.9970  3.26       0.65   \n",
       "3                 17.0                  60.0   0.9980  3.16       0.58   \n",
       "4                 11.0                  34.0   0.9978  3.51       0.56   \n",
       "\n",
       "   alcohol  \n",
       "0      9.4  \n",
       "1      9.8  \n",
       "2      9.8  \n",
       "3      9.8  \n",
       "4      9.4  "
      ]
     },
     "execution_count": 204,
     "metadata": {},
     "output_type": "execute_result"
    }
   ],
   "source": [
    "X=df[['fixed acidity', 'volatile acidity', 'citric acid', 'residual sugar',\n",
    "       'chlorides', 'free sulfur dioxide', 'total sulfur dioxide', 'density',\n",
    "       'pH', 'sulphates', 'alcohol']]\n",
    "X.head()"
   ]
  },
  {
   "cell_type": "code",
   "execution_count": 205,
   "metadata": {},
   "outputs": [],
   "source": [
    "y=a"
   ]
  },
  {
   "cell_type": "code",
   "execution_count": 206,
   "metadata": {},
   "outputs": [
    {
     "data": {
      "text/plain": [
       "array([[-0.52835961,  0.96187667, -1.39147228, -0.45321841, -0.24370669,\n",
       "        -0.46619252, -0.37913269,  0.55827446,  1.28864292, -0.57920652,\n",
       "        -0.96024611],\n",
       "       [-0.29854743,  1.96744245, -1.39147228,  0.04341614,  0.2238752 ,\n",
       "         0.87263823,  0.62436323,  0.02826077, -0.7199333 ,  0.1289504 ,\n",
       "        -0.58477711],\n",
       "       [-0.29854743,  1.29706527, -1.18607043, -0.16942723,  0.09635286,\n",
       "        -0.08366945,  0.22904665,  0.13426351, -0.33117661, -0.04808883,\n",
       "        -0.58477711],\n",
       "       [ 1.65485608, -1.38444349,  1.4841536 , -0.45321841, -0.26496041,\n",
       "         0.10759209,  0.41150046,  0.6642772 , -0.97910442, -0.46118037,\n",
       "        -0.58477711],\n",
       "       [-0.52835961,  0.96187667, -1.39147228, -0.45321841, -0.24370669,\n",
       "        -0.46619252, -0.37913269,  0.55827446,  1.28864292, -0.57920652,\n",
       "        -0.96024611]])"
      ]
     },
     "execution_count": 206,
     "metadata": {},
     "output_type": "execute_result"
    }
   ],
   "source": [
    "X= preprocessing.StandardScaler().fit(X).transform(X)\n",
    "X[0:5]"
   ]
  },
  {
   "cell_type": "markdown",
   "metadata": {},
   "source": [
    "Now I split the dataset in train and test."
   ]
  },
  {
   "cell_type": "code",
   "execution_count": 207,
   "metadata": {},
   "outputs": [],
   "source": [
    "X_train_all, X_test, y_train_all, y_test = train_test_split( X, y, test_size=0.2, random_state=500)\n"
   ]
  },
  {
   "cell_type": "markdown",
   "metadata": {},
   "source": [
    "In order to select the best K for KNN, I will split again the train part of the dataset in train and evaluation part. "
   ]
  },
  {
   "cell_type": "code",
   "execution_count": 208,
   "metadata": {},
   "outputs": [],
   "source": [
    "X_train, X_eval, y_train, y_eval = train_test_split( X_train_all, y_train_all, test_size=0.2, random_state=100)\n"
   ]
  },
  {
   "cell_type": "code",
   "execution_count": 209,
   "metadata": {},
   "outputs": [
    {
     "data": {
      "text/plain": [
       "array([0.890625  , 0.8359375 , 0.8671875 , 0.85546875, 0.86328125,\n",
       "       0.85546875, 0.859375  , 0.859375  , 0.8671875 , 0.8515625 ,\n",
       "       0.86328125, 0.8515625 , 0.87109375, 0.8828125 ])"
      ]
     },
     "execution_count": 209,
     "metadata": {},
     "output_type": "execute_result"
    }
   ],
   "source": [
    "Ks = 15\n",
    "mean_acc = np.zeros((Ks-1))\n",
    "std_acc = np.zeros((Ks-1))\n",
    "for n in range(1,Ks):\n",
    "    \n",
    "    #Train Model and Predict  \n",
    "    neigh = KNeighborsClassifier(n_neighbors = n).fit(X_train,y_train)\n",
    "    yhat=neigh.predict(X_eval)\n",
    "    mean_acc[n-1] = metrics.accuracy_score(y_eval, yhat)\n",
    "\n",
    "    \n",
    "    std_acc[n-1]=np.std(yhat==y_eval)/np.sqrt(yhat.shape[0])\n",
    "\n",
    "mean_acc"
   ]
  },
  {
   "cell_type": "code",
   "execution_count": 210,
   "metadata": {},
   "outputs": [
    {
     "data": {
      "image/png": "[encoded data removed]",
      "text/plain": [
       "<Figure size 432x288 with 1 Axes>"
      ]
     },
     "metadata": {
      "needs_background": "light"
     },
     "output_type": "display_data"
    }
   ],
   "source": [
    "plt.plot(range(1,Ks),mean_acc,'g')\n",
    "plt.fill_between(range(1,Ks),mean_acc - 1 * std_acc,mean_acc + 1 * std_acc, alpha=0.10)\n",
    "plt.legend(('Accuracy ', '+/- 3xstd'))\n",
    "plt.ylabel('Accuracy ')\n",
    "plt.xlabel('Number of Nabors (K)')\n",
    "plt.tight_layout()\n",
    "plt.show()\n"
   ]
  },
  {
   "cell_type": "code",
   "execution_count": 211,
   "metadata": {},
   "outputs": [
    {
     "name": "stdout",
     "output_type": "stream",
     "text": [
      "The best accuracy was with 0.890625 with k= 1\n"
     ]
    }
   ],
   "source": [
    "print( \"The best accuracy was with\", mean_acc.max(), \"with k=\", mean_acc.argmax()+1) \n"
   ]
  },
  {
   "cell_type": "markdown",
   "metadata": {},
   "source": [
    "Using now the original train and test split, I will train 4 classifiers using KNN with K=1, Decision Tree, SVM and Logistic Regression. For each algorithm I will compute the significant metrics using the test dataset. "
   ]
  },
  {
   "cell_type": "code",
   "execution_count": 212,
   "metadata": {},
   "outputs": [
    {
     "data": {
      "text/plain": [
       "array([[ 26,  21],\n",
       "       [ 23, 250]])"
      ]
     },
     "execution_count": 212,
     "metadata": {},
     "output_type": "execute_result"
    }
   ],
   "source": [
    "k = 1\n",
    "#Train Model and Predict  \n",
    "KNN = KNeighborsClassifier(n_neighbors = k).fit(X_train_all,y_train_all)\n",
    "KNN\n",
    "yhat_KNN=KNN.predict(X_test)\n",
    "cnf_matrix = confusion_matrix(y_test, yhat_KNN, labels=['good','poor'])\n",
    "cnf_matrix"
   ]
  },
  {
   "cell_type": "code",
   "execution_count": 213,
   "metadata": {},
   "outputs": [
    {
     "name": "stdout",
     "output_type": "stream",
     "text": [
      "0.78 0.8636795343137255\n"
     ]
    }
   ],
   "source": [
    "Jall=[]\n",
    "F1all=[]\n",
    "LLall=[]\n",
    "Jall.append(metrics.jaccard_score(y_test,yhat_KNN, average='weighted'))\n",
    "F1all.append(metrics.f1_score(y_test, yhat_KNN, average='weighted'))\n",
    "LLall.append(np.nan)\n",
    "print(Jall[0],F1all[0])"
   ]
  },
  {
   "cell_type": "code",
   "execution_count": 214,
   "metadata": {},
   "outputs": [
    {
     "data": {
      "text/plain": [
       "array([[ 20,  27],\n",
       "       [ 17, 256]])"
      ]
     },
     "execution_count": 214,
     "metadata": {},
     "output_type": "execute_result"
    }
   ],
   "source": [
    "DT = DecisionTreeClassifier()\n",
    "DT.fit(X_train_all,y_train_all) \n",
    "yhat_DT=DT.predict(X_test)\n",
    "cnf_matrix = confusion_matrix(y_test, yhat_DT, labels=['good','poor'])\n",
    "cnf_matrix"
   ]
  },
  {
   "cell_type": "code",
   "execution_count": 215,
   "metadata": {},
   "outputs": [
    {
     "name": "stdout",
     "output_type": "stream",
     "text": [
      "0.7738984375 0.8555519869818431\n"
     ]
    }
   ],
   "source": [
    "Jall.append(metrics.jaccard_score(y_test,yhat_DT, average='weighted'))\n",
    "F1all.append(metrics.f1_score(y_test, yhat_DT, average='weighted'))\n",
    "LLall.append(np.nan)\n",
    "print(Jall[1],F1all[1])"
   ]
  },
  {
   "cell_type": "code",
   "execution_count": 216,
   "metadata": {},
   "outputs": [
    {
     "data": {
      "text/plain": [
       "array([[ 14,  33],\n",
       "       [  9, 264]])"
      ]
     },
     "execution_count": 216,
     "metadata": {},
     "output_type": "execute_result"
    }
   ],
   "source": [
    "SVM_ = svm.SVC()\n",
    "SVM_.fit(X_train_all, y_train_all) \n",
    "yhat_SVM=SVM_.predict(X_test)\n",
    "cnf_matrix = confusion_matrix(y_test, yhat_SVM, labels=['good','poor'])\n",
    "cnf_matrix"
   ]
  },
  {
   "cell_type": "code",
   "execution_count": 217,
   "metadata": {},
   "outputs": [
    {
     "name": "stdout",
     "output_type": "stream",
     "text": [
      "0.7727481617647058 0.8490131578947369\n"
     ]
    }
   ],
   "source": [
    "Jall.append(metrics.jaccard_score(y_test,yhat_SVM, average='weighted'))\n",
    "F1all.append(metrics.f1_score(y_test, yhat_SVM, average='weighted'))\n",
    "LLall.append(np.nan)\n",
    "print(Jall[2],F1all[2])"
   ]
  },
  {
   "cell_type": "code",
   "execution_count": 218,
   "metadata": {},
   "outputs": [
    {
     "data": {
      "text/plain": [
       "array([[ 15,  32],\n",
       "       [ 17, 256]])"
      ]
     },
     "execution_count": 218,
     "metadata": {},
     "output_type": "execute_result"
    }
   ],
   "source": [
    "LR = LogisticRegression()\n",
    "LR.fit(X_train_all, y_train_all) \n",
    "yhat_LR=LR.predict(X_test)\n",
    "ypro_LR=LR.predict_proba(X_test)\n",
    "cnf_matrix = confusion_matrix(y_test, yhat_LR, labels=['good','poor'])\n",
    "cnf_matrix"
   ]
  },
  {
   "cell_type": "code",
   "execution_count": 219,
   "metadata": {},
   "outputs": [
    {
     "name": "stdout",
     "output_type": "stream",
     "text": [
      "0.7504894018954917 0.8343849421241453 0.3080156948846873\n"
     ]
    }
   ],
   "source": [
    "Jall.append(metrics.jaccard_score(y_test,yhat_LR, average='weighted'))\n",
    "F1all.append(metrics.f1_score(y_test, yhat_LR, average='weighted'))\n",
    "LLall.append(metrics.log_loss(y_test,ypro_LR))\n",
    "print(Jall[3],F1all[3],LLall[3])"
   ]
  },
  {
   "cell_type": "markdown",
   "metadata": {},
   "source": [
    "I now restrict my interest only to the features selected as most important. "
   ]
  },
  {
   "cell_type": "code",
   "execution_count": 220,
   "metadata": {
    "scrolled": true
   },
   "outputs": [
    {
     "data": {
      "text/html": [
       "<div>\n",
       "<style scoped>\n",
       "    .dataframe tbody tr th:only-of-type {\n",
       "        vertical-align: middle;\n",
       "    }\n",
       "\n",
       "    .dataframe tbody tr th {\n",
       "        vertical-align: top;\n",
       "    }\n",
       "\n",
       "    .dataframe thead th {\n",
       "        text-align: right;\n",
       "    }\n",
       "</style>\n",
       "<table border=\"1\" class=\"dataframe\">\n",
       "  <thead>\n",
       "    <tr style=\"text-align: right;\">\n",
       "      <th></th>\n",
       "      <th>volatile acidity</th>\n",
       "      <th>total sulfur dioxide</th>\n",
       "      <th>sulphates</th>\n",
       "      <th>alcohol</th>\n",
       "    </tr>\n",
       "  </thead>\n",
       "  <tbody>\n",
       "    <tr>\n",
       "      <th>0</th>\n",
       "      <td>0.700</td>\n",
       "      <td>34.0</td>\n",
       "      <td>0.56</td>\n",
       "      <td>9.4</td>\n",
       "    </tr>\n",
       "    <tr>\n",
       "      <th>1</th>\n",
       "      <td>0.880</td>\n",
       "      <td>67.0</td>\n",
       "      <td>0.68</td>\n",
       "      <td>9.8</td>\n",
       "    </tr>\n",
       "    <tr>\n",
       "      <th>2</th>\n",
       "      <td>0.760</td>\n",
       "      <td>54.0</td>\n",
       "      <td>0.65</td>\n",
       "      <td>9.8</td>\n",
       "    </tr>\n",
       "    <tr>\n",
       "      <th>3</th>\n",
       "      <td>0.280</td>\n",
       "      <td>60.0</td>\n",
       "      <td>0.58</td>\n",
       "      <td>9.8</td>\n",
       "    </tr>\n",
       "    <tr>\n",
       "      <th>4</th>\n",
       "      <td>0.700</td>\n",
       "      <td>34.0</td>\n",
       "      <td>0.56</td>\n",
       "      <td>9.4</td>\n",
       "    </tr>\n",
       "    <tr>\n",
       "      <th>...</th>\n",
       "      <td>...</td>\n",
       "      <td>...</td>\n",
       "      <td>...</td>\n",
       "      <td>...</td>\n",
       "    </tr>\n",
       "    <tr>\n",
       "      <th>1594</th>\n",
       "      <td>0.600</td>\n",
       "      <td>44.0</td>\n",
       "      <td>0.58</td>\n",
       "      <td>10.5</td>\n",
       "    </tr>\n",
       "    <tr>\n",
       "      <th>1595</th>\n",
       "      <td>0.550</td>\n",
       "      <td>51.0</td>\n",
       "      <td>0.76</td>\n",
       "      <td>11.2</td>\n",
       "    </tr>\n",
       "    <tr>\n",
       "      <th>1596</th>\n",
       "      <td>0.510</td>\n",
       "      <td>40.0</td>\n",
       "      <td>0.75</td>\n",
       "      <td>11.0</td>\n",
       "    </tr>\n",
       "    <tr>\n",
       "      <th>1597</th>\n",
       "      <td>0.645</td>\n",
       "      <td>44.0</td>\n",
       "      <td>0.71</td>\n",
       "      <td>10.2</td>\n",
       "    </tr>\n",
       "    <tr>\n",
       "      <th>1598</th>\n",
       "      <td>0.310</td>\n",
       "      <td>42.0</td>\n",
       "      <td>0.66</td>\n",
       "      <td>11.0</td>\n",
       "    </tr>\n",
       "  </tbody>\n",
       "</table>\n",
       "<p>1599 rows × 4 columns</p>\n",
       "</div>"
      ],
      "text/plain": [
       "      volatile acidity  total sulfur dioxide  sulphates  alcohol\n",
       "0                0.700                  34.0       0.56      9.4\n",
       "1                0.880                  67.0       0.68      9.8\n",
       "2                0.760                  54.0       0.65      9.8\n",
       "3                0.280                  60.0       0.58      9.8\n",
       "4                0.700                  34.0       0.56      9.4\n",
       "...                ...                   ...        ...      ...\n",
       "1594             0.600                  44.0       0.58     10.5\n",
       "1595             0.550                  51.0       0.76     11.2\n",
       "1596             0.510                  40.0       0.75     11.0\n",
       "1597             0.645                  44.0       0.71     10.2\n",
       "1598             0.310                  42.0       0.66     11.0\n",
       "\n",
       "[1599 rows x 4 columns]"
      ]
     },
     "execution_count": 220,
     "metadata": {},
     "output_type": "execute_result"
    }
   ],
   "source": [
    "X_fs=df[['volatile acidity','total sulfur dioxide','sulphates','alcohol']]\n",
    "X_fs"
   ]
  },
  {
   "cell_type": "code",
   "execution_count": 221,
   "metadata": {},
   "outputs": [
    {
     "data": {
      "text/plain": [
       "array([[ 0.96187667, -0.37913269, -0.57920652, -0.96024611],\n",
       "       [ 1.96744245,  0.62436323,  0.1289504 , -0.58477711],\n",
       "       [ 1.29706527,  0.22904665, -0.04808883, -0.58477711],\n",
       "       [-1.38444349,  0.41150046, -0.46118037, -0.58477711],\n",
       "       [ 0.96187667, -0.37913269, -0.57920652, -0.96024611]])"
      ]
     },
     "execution_count": 221,
     "metadata": {},
     "output_type": "execute_result"
    }
   ],
   "source": [
    "y=a\n",
    "X_fs= preprocessing.StandardScaler().fit(X_fs).transform(X_fs)\n",
    "X_fs[0:5]"
   ]
  },
  {
   "cell_type": "code",
   "execution_count": 222,
   "metadata": {},
   "outputs": [],
   "source": [
    "X_train_all, X_test, y_train_all, y_test = train_test_split( X_fs, y, test_size=0.2, random_state=1000)"
   ]
  },
  {
   "cell_type": "code",
   "execution_count": 223,
   "metadata": {},
   "outputs": [],
   "source": [
    "X_train, X_eval, y_train, y_eval = train_test_split( X_train_all, y_train_all, test_size=0.2, random_state=200)\n"
   ]
  },
  {
   "cell_type": "code",
   "execution_count": 224,
   "metadata": {},
   "outputs": [
    {
     "data": {
      "text/plain": [
       "array([0.859375  , 0.82421875, 0.8671875 , 0.8515625 , 0.890625  ,\n",
       "       0.8828125 , 0.8984375 , 0.8828125 , 0.8984375 , 0.91015625,\n",
       "       0.90625   , 0.90625   , 0.90625   , 0.8984375 ])"
      ]
     },
     "execution_count": 224,
     "metadata": {},
     "output_type": "execute_result"
    }
   ],
   "source": [
    "Ks = 15\n",
    "mean_acc = np.zeros((Ks-1))\n",
    "std_acc = np.zeros((Ks-1))\n",
    "for n in range(1,Ks):\n",
    "    \n",
    "    #Train Model and Predict  \n",
    "    neigh = KNeighborsClassifier(n_neighbors = n).fit(X_train,y_train)\n",
    "    yhat=neigh.predict(X_eval)\n",
    "    mean_acc[n-1] = metrics.accuracy_score(y_eval, yhat)\n",
    "\n",
    "    \n",
    "    std_acc[n-1]=np.std(yhat==y_eval)/np.sqrt(yhat.shape[0])\n",
    "\n",
    "mean_acc"
   ]
  },
  {
   "cell_type": "code",
   "execution_count": 225,
   "metadata": {},
   "outputs": [
    {
     "data": {
      "image/png": "[encoded data removed]",
      "text/plain": [
       "<Figure size 432x288 with 1 Axes>"
      ]
     },
     "metadata": {
      "needs_background": "light"
     },
     "output_type": "display_data"
    }
   ],
   "source": [
    "plt.plot(range(1,Ks),mean_acc,'g')\n",
    "plt.fill_between(range(1,Ks),mean_acc - 1 * std_acc,mean_acc + 1 * std_acc, alpha=0.10)\n",
    "plt.legend(('Accuracy ', '+/- 3xstd'))\n",
    "plt.ylabel('Accuracy ')\n",
    "plt.xlabel('Number of Nabors (K)')\n",
    "plt.tight_layout()\n",
    "plt.show()\n"
   ]
  },
  {
   "cell_type": "code",
   "execution_count": 226,
   "metadata": {},
   "outputs": [
    {
     "name": "stdout",
     "output_type": "stream",
     "text": [
      "The best accuracy was with 0.91015625 with k= 10\n"
     ]
    }
   ],
   "source": [
    "print( \"The best accuracy was with\", mean_acc.max(), \"with k=\", mean_acc.argmax()+1) \n"
   ]
  },
  {
   "cell_type": "code",
   "execution_count": 227,
   "metadata": {},
   "outputs": [
    {
     "data": {
      "text/plain": [
       "array([[ 17,  30],\n",
       "       [  6, 267]])"
      ]
     },
     "execution_count": 227,
     "metadata": {},
     "output_type": "execute_result"
    }
   ],
   "source": [
    "k = 10\n",
    "#Train Model and Predict  \n",
    "KNN = KNeighborsClassifier(n_neighbors = k).fit(X_train_all,y_train_all)\n",
    "KNN\n",
    "yhat_KNN=KNN.predict(X_test)\n",
    "cnf_matrix = confusion_matrix(y_test, yhat_KNN, labels=['good','poor'])\n",
    "cnf_matrix"
   ]
  },
  {
   "cell_type": "code",
   "execution_count": 228,
   "metadata": {},
   "outputs": [
    {
     "name": "stdout",
     "output_type": "stream",
     "text": [
      "0.7988744629179899 0.8705827067669173\n"
     ]
    }
   ],
   "source": [
    "Jfs=[]\n",
    "F1fs=[]\n",
    "LLfs=[]\n",
    "\n",
    "Jfs.append(metrics.jaccard_score(y_test,yhat_KNN, average='weighted'))\n",
    "F1fs.append(metrics.f1_score(y_test, yhat_KNN, average='weighted'))\n",
    "LLfs.append(np.nan)\n",
    "print(Jfs[0],F1fs[0])"
   ]
  },
  {
   "cell_type": "code",
   "execution_count": 229,
   "metadata": {},
   "outputs": [
    {
     "data": {
      "text/plain": [
       "array([[ 26,  21],\n",
       "       [ 17, 256]])"
      ]
     },
     "execution_count": 229,
     "metadata": {},
     "output_type": "execute_result"
    }
   ],
   "source": [
    "DT = DecisionTreeClassifier()\n",
    "DT.fit(X_train_all,y_train_all) \n",
    "yhat_DT=DT.predict(X_test)\n",
    "cnf_matrix = confusion_matrix(y_test, yhat_DT, labels=['good','poor'])\n",
    "cnf_matrix"
   ]
  },
  {
   "cell_type": "code",
   "execution_count": 230,
   "metadata": {},
   "outputs": [
    {
     "name": "stdout",
     "output_type": "stream",
     "text": [
      "0.8025251116071427 0.8790429292929293\n"
     ]
    }
   ],
   "source": [
    "Jfs.append(metrics.jaccard_score(y_test,yhat_DT, average='weighted'))\n",
    "F1fs.append(metrics.f1_score(y_test, yhat_DT, average='weighted'))\n",
    "LLfs.append(np.nan)\n",
    "print(Jfs[1],F1fs[1])"
   ]
  },
  {
   "cell_type": "code",
   "execution_count": 231,
   "metadata": {},
   "outputs": [
    {
     "data": {
      "text/plain": [
       "array([[ 12,  35],\n",
       "       [  3, 270]])"
      ]
     },
     "execution_count": 231,
     "metadata": {},
     "output_type": "execute_result"
    }
   ],
   "source": [
    "SVM_ = svm.SVC()\n",
    "SVM_.fit(X_train_all, y_train_all) \n",
    "yhat_SVM=SVM_.predict(X_test)\n",
    "cnf_matrix = confusion_matrix(y_test, yhat_SVM, labels=['good','poor'])\n",
    "cnf_matrix"
   ]
  },
  {
   "cell_type": "code",
   "execution_count": 232,
   "metadata": {},
   "outputs": [
    {
     "name": "stdout",
     "output_type": "stream",
     "text": [
      "0.7831193181818181 0.8538920359415114\n"
     ]
    }
   ],
   "source": [
    "Jfs.append(metrics.jaccard_score(y_test,yhat_SVM, average='weighted'))\n",
    "F1fs.append(metrics.f1_score(y_test, yhat_SVM, average='weighted'))\n",
    "LLfs.append(np.nan)\n",
    "print(Jfs[2],F1fs[2])"
   ]
  },
  {
   "cell_type": "code",
   "execution_count": 233,
   "metadata": {},
   "outputs": [
    {
     "data": {
      "text/plain": [
       "array([[  9,  38],\n",
       "       [  4, 269]])"
      ]
     },
     "execution_count": 233,
     "metadata": {},
     "output_type": "execute_result"
    }
   ],
   "source": [
    "LR = LogisticRegression()\n",
    "LR.fit(X_train_all, y_train_all) \n",
    "yhat_LR=LR.predict(X_test)\n",
    "ypro_LR=LR.predict_proba(X_test)\n",
    "cnf_matrix = confusion_matrix(y_test, yhat_LR, labels=['good','poor'])\n",
    "cnf_matrix"
   ]
  },
  {
   "cell_type": "code",
   "execution_count": 234,
   "metadata": {},
   "outputs": [
    {
     "name": "stdout",
     "output_type": "stream",
     "text": [
      "0.7638310951390201 0.8354094827586207 0.3054788921887628\n"
     ]
    }
   ],
   "source": [
    "Jfs.append(metrics.jaccard_score(y_test,yhat_LR, average='weighted'))\n",
    "F1fs.append(metrics.f1_score(y_test, yhat_LR, average='weighted'))\n",
    "LLfs.append(metrics.log_loss(y_test,ypro_LR))\n",
    "print(Jfs[3],F1fs[3],LLfs[3])"
   ]
  },
  {
   "cell_type": "markdown",
   "metadata": {},
   "source": [
    "Finally I construct the table with the final score results."
   ]
  },
  {
   "cell_type": "code",
   "execution_count": 235,
   "metadata": {},
   "outputs": [
    {
     "data": {
      "text/html": [
       "<div>\n",
       "<style scoped>\n",
       "    .dataframe tbody tr th:only-of-type {\n",
       "        vertical-align: middle;\n",
       "    }\n",
       "\n",
       "    .dataframe tbody tr th {\n",
       "        vertical-align: top;\n",
       "    }\n",
       "\n",
       "    .dataframe thead th {\n",
       "        text-align: right;\n",
       "    }\n",
       "</style>\n",
       "<table border=\"1\" class=\"dataframe\">\n",
       "  <thead>\n",
       "    <tr style=\"text-align: right;\">\n",
       "      <th></th>\n",
       "      <th>Algo</th>\n",
       "      <th>Jaccard</th>\n",
       "      <th>Jaccard FS</th>\n",
       "      <th>F1 Score</th>\n",
       "      <th>F1 Score FS</th>\n",
       "      <th>Logloss</th>\n",
       "      <th>Logloss FS</th>\n",
       "    </tr>\n",
       "  </thead>\n",
       "  <tbody>\n",
       "    <tr>\n",
       "      <th>0</th>\n",
       "      <td>KNN</td>\n",
       "      <td>0.780000</td>\n",
       "      <td>0.798874</td>\n",
       "      <td>0.863680</td>\n",
       "      <td>0.870583</td>\n",
       "      <td>NaN</td>\n",
       "      <td>NaN</td>\n",
       "    </tr>\n",
       "    <tr>\n",
       "      <th>1</th>\n",
       "      <td>DT</td>\n",
       "      <td>0.773898</td>\n",
       "      <td>0.802525</td>\n",
       "      <td>0.855552</td>\n",
       "      <td>0.879043</td>\n",
       "      <td>NaN</td>\n",
       "      <td>NaN</td>\n",
       "    </tr>\n",
       "    <tr>\n",
       "      <th>2</th>\n",
       "      <td>SVM</td>\n",
       "      <td>0.772748</td>\n",
       "      <td>0.783119</td>\n",
       "      <td>0.849013</td>\n",
       "      <td>0.853892</td>\n",
       "      <td>NaN</td>\n",
       "      <td>NaN</td>\n",
       "    </tr>\n",
       "    <tr>\n",
       "      <th>3</th>\n",
       "      <td>LogR</td>\n",
       "      <td>0.750489</td>\n",
       "      <td>0.763831</td>\n",
       "      <td>0.834385</td>\n",
       "      <td>0.835409</td>\n",
       "      <td>0.308016</td>\n",
       "      <td>0.305479</td>\n",
       "    </tr>\n",
       "  </tbody>\n",
       "</table>\n",
       "</div>"
      ],
      "text/plain": [
       "   Algo   Jaccard  Jaccard FS  F1 Score  F1 Score FS   Logloss  Logloss FS\n",
       "0   KNN  0.780000    0.798874  0.863680     0.870583       NaN         NaN\n",
       "1    DT  0.773898    0.802525  0.855552     0.879043       NaN         NaN\n",
       "2   SVM  0.772748    0.783119  0.849013     0.853892       NaN         NaN\n",
       "3  LogR  0.750489    0.763831  0.834385     0.835409  0.308016    0.305479"
      ]
     },
     "execution_count": 235,
     "metadata": {},
     "output_type": "execute_result"
    }
   ],
   "source": [
    "algo=['KNN','DT','SVM','LogR']\n",
    "res=pd.DataFrame(algo)\n",
    "res.columns=['Algo']\n",
    "res['Jaccard']=Jall\n",
    "res['Jaccard FS']=Jfs\n",
    "res['F1 Score']=F1all\n",
    "res['F1 Score FS']=F1fs\n",
    "res['Logloss']=LLall\n",
    "res['Logloss FS']=LLfs\n",
    "res.head()"
   ]
  },
  {
   "cell_type": "code",
   "execution_count": 236,
   "metadata": {},
   "outputs": [
    {
     "data": {
      "text/html": [
       "<div>\n",
       "<style scoped>\n",
       "    .dataframe tbody tr th:only-of-type {\n",
       "        vertical-align: middle;\n",
       "    }\n",
       "\n",
       "    .dataframe tbody tr th {\n",
       "        vertical-align: top;\n",
       "    }\n",
       "\n",
       "    .dataframe thead th {\n",
       "        text-align: right;\n",
       "    }\n",
       "</style>\n",
       "<table border=\"1\" class=\"dataframe\">\n",
       "  <thead>\n",
       "    <tr style=\"text-align: right;\">\n",
       "      <th></th>\n",
       "      <th>Algo</th>\n",
       "      <th>Jaccard</th>\n",
       "      <th>Jaccard FS</th>\n",
       "      <th>F1 Score</th>\n",
       "      <th>F1 Score FS</th>\n",
       "      <th>Logloss</th>\n",
       "      <th>Logloss FS</th>\n",
       "    </tr>\n",
       "  </thead>\n",
       "  <tbody>\n",
       "    <tr>\n",
       "      <th>0</th>\n",
       "      <td>KNN</td>\n",
       "      <td>0.78</td>\n",
       "      <td>0.80</td>\n",
       "      <td>0.86</td>\n",
       "      <td>0.87</td>\n",
       "      <td>NaN</td>\n",
       "      <td>NaN</td>\n",
       "    </tr>\n",
       "    <tr>\n",
       "      <th>1</th>\n",
       "      <td>DT</td>\n",
       "      <td>0.77</td>\n",
       "      <td>0.80</td>\n",
       "      <td>0.86</td>\n",
       "      <td>0.88</td>\n",
       "      <td>NaN</td>\n",
       "      <td>NaN</td>\n",
       "    </tr>\n",
       "    <tr>\n",
       "      <th>2</th>\n",
       "      <td>SVM</td>\n",
       "      <td>0.77</td>\n",
       "      <td>0.78</td>\n",
       "      <td>0.85</td>\n",
       "      <td>0.85</td>\n",
       "      <td>NaN</td>\n",
       "      <td>NaN</td>\n",
       "    </tr>\n",
       "    <tr>\n",
       "      <th>3</th>\n",
       "      <td>LogR</td>\n",
       "      <td>0.75</td>\n",
       "      <td>0.76</td>\n",
       "      <td>0.83</td>\n",
       "      <td>0.84</td>\n",
       "      <td>0.31</td>\n",
       "      <td>0.31</td>\n",
       "    </tr>\n",
       "  </tbody>\n",
       "</table>\n",
       "</div>"
      ],
      "text/plain": [
       "   Algo  Jaccard  Jaccard FS  F1 Score  F1 Score FS  Logloss  Logloss FS\n",
       "0   KNN     0.78        0.80      0.86         0.87      NaN         NaN\n",
       "1    DT     0.77        0.80      0.86         0.88      NaN         NaN\n",
       "2   SVM     0.77        0.78      0.85         0.85      NaN         NaN\n",
       "3  LogR     0.75        0.76      0.83         0.84     0.31        0.31"
      ]
     },
     "execution_count": 236,
     "metadata": {},
     "output_type": "execute_result"
    }
   ],
   "source": [
    "res.round(2).head()"
   ]
  },
  {
   "cell_type": "code",
   "execution_count": null,
   "metadata": {},
   "outputs": [],
   "source": []
  },
  {
   "cell_type": "code",
   "execution_count": null,
   "metadata": {},
   "outputs": [],
   "source": []
  }
 ],
 "metadata": {
  "kernelspec": {
   "display_name": "Python 3",
   "language": "python",
   "name": "python3"
  },
  "language_info": {
   "codemirror_mode": {
    "name": "ipython",
    "version": 3
   },
   "file_extension": ".py",
   "mimetype": "text/x-python",
   "name": "python",
   "nbconvert_exporter": "python",
   "pygments_lexer": "ipython3",
   "version": "3.7.5"
  }
 },
 "nbformat": 4,
 "nbformat_minor": 2
}
