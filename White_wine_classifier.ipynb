{
 "cells": [
  {
   "cell_type": "markdown",
   "metadata": {},
   "source": [
    "# White Wine Classifier\n",
    "\n",
    "In this notebook I will explore the white wine dataset, create a classifier to identify good and poor wines from their features, and finally determine the features that weight the most to determine the quality of the wine. I start importing the needed libraries. "
   ]
  },
  {
   "cell_type": "code",
   "execution_count": 307,
   "metadata": {},
   "outputs": [],
   "source": [
    "import pandas as pd\n",
    "import numpy as np\n",
    "import matplotlib.pyplot as plt\n",
    "import seaborn as sns\n",
    "\n",
    "import sklearn.feature_selection as fs\n",
    "from sklearn import preprocessing\n",
    "from sklearn.model_selection import train_test_split\n",
    "\n",
    "from sklearn.neighbors import KNeighborsClassifier\n",
    "from sklearn.tree import DecisionTreeClassifier\n",
    "from sklearn import tree\n",
    "from sklearn import svm\n",
    "from sklearn.linear_model import LogisticRegression\n",
    "\n",
    "from sklearn import metrics\n",
    "from sklearn.metrics import confusion_matrix"
   ]
  },
  {
   "cell_type": "code",
   "execution_count": 308,
   "metadata": {},
   "outputs": [],
   "source": [
    "path='winequality-white.csv'"
   ]
  },
  {
   "cell_type": "code",
   "execution_count": 309,
   "metadata": {},
   "outputs": [
    {
     "data": {
      "text/html": [
       "<div>\n",
       "<style scoped>\n",
       "    .dataframe tbody tr th:only-of-type {\n",
       "        vertical-align: middle;\n",
       "    }\n",
       "\n",
       "    .dataframe tbody tr th {\n",
       "        vertical-align: top;\n",
       "    }\n",
       "\n",
       "    .dataframe thead th {\n",
       "        text-align: right;\n",
       "    }\n",
       "</style>\n",
       "<table border=\"1\" class=\"dataframe\">\n",
       "  <thead>\n",
       "    <tr style=\"text-align: right;\">\n",
       "      <th></th>\n",
       "      <th>fixed acidity</th>\n",
       "      <th>volatile acidity</th>\n",
       "      <th>citric acid</th>\n",
       "      <th>residual sugar</th>\n",
       "      <th>chlorides</th>\n",
       "      <th>free sulfur dioxide</th>\n",
       "      <th>total sulfur dioxide</th>\n",
       "      <th>density</th>\n",
       "      <th>pH</th>\n",
       "      <th>sulphates</th>\n",
       "      <th>alcohol</th>\n",
       "      <th>quality</th>\n",
       "    </tr>\n",
       "  </thead>\n",
       "  <tbody>\n",
       "    <tr>\n",
       "      <th>0</th>\n",
       "      <td>7.0</td>\n",
       "      <td>0.27</td>\n",
       "      <td>0.36</td>\n",
       "      <td>20.7</td>\n",
       "      <td>0.045</td>\n",
       "      <td>45.0</td>\n",
       "      <td>170.0</td>\n",
       "      <td>1.0010</td>\n",
       "      <td>3.00</td>\n",
       "      <td>0.45</td>\n",
       "      <td>8.8</td>\n",
       "      <td>6</td>\n",
       "    </tr>\n",
       "    <tr>\n",
       "      <th>1</th>\n",
       "      <td>6.3</td>\n",
       "      <td>0.30</td>\n",
       "      <td>0.34</td>\n",
       "      <td>1.6</td>\n",
       "      <td>0.049</td>\n",
       "      <td>14.0</td>\n",
       "      <td>132.0</td>\n",
       "      <td>0.9940</td>\n",
       "      <td>3.30</td>\n",
       "      <td>0.49</td>\n",
       "      <td>9.5</td>\n",
       "      <td>6</td>\n",
       "    </tr>\n",
       "    <tr>\n",
       "      <th>2</th>\n",
       "      <td>8.1</td>\n",
       "      <td>0.28</td>\n",
       "      <td>0.40</td>\n",
       "      <td>6.9</td>\n",
       "      <td>0.050</td>\n",
       "      <td>30.0</td>\n",
       "      <td>97.0</td>\n",
       "      <td>0.9951</td>\n",
       "      <td>3.26</td>\n",
       "      <td>0.44</td>\n",
       "      <td>10.1</td>\n",
       "      <td>6</td>\n",
       "    </tr>\n",
       "    <tr>\n",
       "      <th>3</th>\n",
       "      <td>7.2</td>\n",
       "      <td>0.23</td>\n",
       "      <td>0.32</td>\n",
       "      <td>8.5</td>\n",
       "      <td>0.058</td>\n",
       "      <td>47.0</td>\n",
       "      <td>186.0</td>\n",
       "      <td>0.9956</td>\n",
       "      <td>3.19</td>\n",
       "      <td>0.40</td>\n",
       "      <td>9.9</td>\n",
       "      <td>6</td>\n",
       "    </tr>\n",
       "    <tr>\n",
       "      <th>4</th>\n",
       "      <td>7.2</td>\n",
       "      <td>0.23</td>\n",
       "      <td>0.32</td>\n",
       "      <td>8.5</td>\n",
       "      <td>0.058</td>\n",
       "      <td>47.0</td>\n",
       "      <td>186.0</td>\n",
       "      <td>0.9956</td>\n",
       "      <td>3.19</td>\n",
       "      <td>0.40</td>\n",
       "      <td>9.9</td>\n",
       "      <td>6</td>\n",
       "    </tr>\n",
       "  </tbody>\n",
       "</table>\n",
       "</div>"
      ],
      "text/plain": [
       "   fixed acidity  volatile acidity  citric acid  residual sugar  chlorides  \\\n",
       "0            7.0              0.27         0.36            20.7      0.045   \n",
       "1            6.3              0.30         0.34             1.6      0.049   \n",
       "2            8.1              0.28         0.40             6.9      0.050   \n",
       "3            7.2              0.23         0.32             8.5      0.058   \n",
       "4            7.2              0.23         0.32             8.5      0.058   \n",
       "\n",
       "   free sulfur dioxide  total sulfur dioxide  density    pH  sulphates  \\\n",
       "0                 45.0                 170.0   1.0010  3.00       0.45   \n",
       "1                 14.0                 132.0   0.9940  3.30       0.49   \n",
       "2                 30.0                  97.0   0.9951  3.26       0.44   \n",
       "3                 47.0                 186.0   0.9956  3.19       0.40   \n",
       "4                 47.0                 186.0   0.9956  3.19       0.40   \n",
       "\n",
       "   alcohol  quality  \n",
       "0      8.8        6  \n",
       "1      9.5        6  \n",
       "2     10.1        6  \n",
       "3      9.9        6  \n",
       "4      9.9        6  "
      ]
     },
     "execution_count": 309,
     "metadata": {},
     "output_type": "execute_result"
    }
   ],
   "source": [
    "df=pd.read_csv(path,';')\n",
    "df.head()"
   ]
  },
  {
   "cell_type": "markdown",
   "metadata": {},
   "source": [
    "I will make some check of the dataset to determine if there are missing values and if the variables have the right type. "
   ]
  },
  {
   "cell_type": "code",
   "execution_count": 310,
   "metadata": {},
   "outputs": [
    {
     "data": {
      "text/html": [
       "<div>\n",
       "<style scoped>\n",
       "    .dataframe tbody tr th:only-of-type {\n",
       "        vertical-align: middle;\n",
       "    }\n",
       "\n",
       "    .dataframe tbody tr th {\n",
       "        vertical-align: top;\n",
       "    }\n",
       "\n",
       "    .dataframe thead th {\n",
       "        text-align: right;\n",
       "    }\n",
       "</style>\n",
       "<table border=\"1\" class=\"dataframe\">\n",
       "  <thead>\n",
       "    <tr style=\"text-align: right;\">\n",
       "      <th></th>\n",
       "      <th>fixed acidity</th>\n",
       "      <th>volatile acidity</th>\n",
       "      <th>citric acid</th>\n",
       "      <th>residual sugar</th>\n",
       "      <th>chlorides</th>\n",
       "      <th>free sulfur dioxide</th>\n",
       "      <th>total sulfur dioxide</th>\n",
       "      <th>density</th>\n",
       "      <th>pH</th>\n",
       "      <th>sulphates</th>\n",
       "      <th>alcohol</th>\n",
       "      <th>quality</th>\n",
       "    </tr>\n",
       "  </thead>\n",
       "  <tbody>\n",
       "    <tr>\n",
       "      <th>count</th>\n",
       "      <td>4898</td>\n",
       "      <td>4898</td>\n",
       "      <td>4898</td>\n",
       "      <td>4898</td>\n",
       "      <td>4898</td>\n",
       "      <td>4898</td>\n",
       "      <td>4898</td>\n",
       "      <td>4898</td>\n",
       "      <td>4898</td>\n",
       "      <td>4898</td>\n",
       "      <td>4898</td>\n",
       "      <td>4898</td>\n",
       "    </tr>\n",
       "    <tr>\n",
       "      <th>unique</th>\n",
       "      <td>1</td>\n",
       "      <td>1</td>\n",
       "      <td>1</td>\n",
       "      <td>1</td>\n",
       "      <td>1</td>\n",
       "      <td>1</td>\n",
       "      <td>1</td>\n",
       "      <td>1</td>\n",
       "      <td>1</td>\n",
       "      <td>1</td>\n",
       "      <td>1</td>\n",
       "      <td>1</td>\n",
       "    </tr>\n",
       "    <tr>\n",
       "      <th>top</th>\n",
       "      <td>False</td>\n",
       "      <td>False</td>\n",
       "      <td>False</td>\n",
       "      <td>False</td>\n",
       "      <td>False</td>\n",
       "      <td>False</td>\n",
       "      <td>False</td>\n",
       "      <td>False</td>\n",
       "      <td>False</td>\n",
       "      <td>False</td>\n",
       "      <td>False</td>\n",
       "      <td>False</td>\n",
       "    </tr>\n",
       "    <tr>\n",
       "      <th>freq</th>\n",
       "      <td>4898</td>\n",
       "      <td>4898</td>\n",
       "      <td>4898</td>\n",
       "      <td>4898</td>\n",
       "      <td>4898</td>\n",
       "      <td>4898</td>\n",
       "      <td>4898</td>\n",
       "      <td>4898</td>\n",
       "      <td>4898</td>\n",
       "      <td>4898</td>\n",
       "      <td>4898</td>\n",
       "      <td>4898</td>\n",
       "    </tr>\n",
       "  </tbody>\n",
       "</table>\n",
       "</div>"
      ],
      "text/plain": [
       "       fixed acidity volatile acidity citric acid residual sugar chlorides  \\\n",
       "count           4898             4898        4898           4898      4898   \n",
       "unique             1                1           1              1         1   \n",
       "top            False            False       False          False     False   \n",
       "freq            4898             4898        4898           4898      4898   \n",
       "\n",
       "       free sulfur dioxide total sulfur dioxide density     pH sulphates  \\\n",
       "count                 4898                 4898    4898   4898      4898   \n",
       "unique                   1                    1       1      1         1   \n",
       "top                  False                False   False  False     False   \n",
       "freq                  4898                 4898    4898   4898      4898   \n",
       "\n",
       "       alcohol quality  \n",
       "count     4898    4898  \n",
       "unique       1       1  \n",
       "top      False   False  \n",
       "freq      4898    4898  "
      ]
     },
     "execution_count": 310,
     "metadata": {},
     "output_type": "execute_result"
    }
   ],
   "source": [
    "df.isnull().describe()"
   ]
  },
  {
   "cell_type": "code",
   "execution_count": 311,
   "metadata": {},
   "outputs": [
    {
     "data": {
      "text/html": [
       "<div>\n",
       "<style scoped>\n",
       "    .dataframe tbody tr th:only-of-type {\n",
       "        vertical-align: middle;\n",
       "    }\n",
       "\n",
       "    .dataframe tbody tr th {\n",
       "        vertical-align: top;\n",
       "    }\n",
       "\n",
       "    .dataframe thead th {\n",
       "        text-align: right;\n",
       "    }\n",
       "</style>\n",
       "<table border=\"1\" class=\"dataframe\">\n",
       "  <thead>\n",
       "    <tr style=\"text-align: right;\">\n",
       "      <th></th>\n",
       "      <th>fixed acidity</th>\n",
       "      <th>volatile acidity</th>\n",
       "      <th>citric acid</th>\n",
       "      <th>residual sugar</th>\n",
       "      <th>chlorides</th>\n",
       "      <th>free sulfur dioxide</th>\n",
       "      <th>total sulfur dioxide</th>\n",
       "      <th>density</th>\n",
       "      <th>pH</th>\n",
       "      <th>sulphates</th>\n",
       "      <th>alcohol</th>\n",
       "      <th>quality</th>\n",
       "    </tr>\n",
       "  </thead>\n",
       "  <tbody>\n",
       "    <tr>\n",
       "      <th>count</th>\n",
       "      <td>4898</td>\n",
       "      <td>4898</td>\n",
       "      <td>4898</td>\n",
       "      <td>4898</td>\n",
       "      <td>4898</td>\n",
       "      <td>4898</td>\n",
       "      <td>4898</td>\n",
       "      <td>4898</td>\n",
       "      <td>4898</td>\n",
       "      <td>4898</td>\n",
       "      <td>4898</td>\n",
       "      <td>4898</td>\n",
       "    </tr>\n",
       "    <tr>\n",
       "      <th>unique</th>\n",
       "      <td>1</td>\n",
       "      <td>1</td>\n",
       "      <td>1</td>\n",
       "      <td>1</td>\n",
       "      <td>1</td>\n",
       "      <td>1</td>\n",
       "      <td>1</td>\n",
       "      <td>1</td>\n",
       "      <td>1</td>\n",
       "      <td>1</td>\n",
       "      <td>1</td>\n",
       "      <td>1</td>\n",
       "    </tr>\n",
       "    <tr>\n",
       "      <th>top</th>\n",
       "      <td>False</td>\n",
       "      <td>False</td>\n",
       "      <td>False</td>\n",
       "      <td>False</td>\n",
       "      <td>False</td>\n",
       "      <td>False</td>\n",
       "      <td>False</td>\n",
       "      <td>False</td>\n",
       "      <td>False</td>\n",
       "      <td>False</td>\n",
       "      <td>False</td>\n",
       "      <td>False</td>\n",
       "    </tr>\n",
       "    <tr>\n",
       "      <th>freq</th>\n",
       "      <td>4898</td>\n",
       "      <td>4898</td>\n",
       "      <td>4898</td>\n",
       "      <td>4898</td>\n",
       "      <td>4898</td>\n",
       "      <td>4898</td>\n",
       "      <td>4898</td>\n",
       "      <td>4898</td>\n",
       "      <td>4898</td>\n",
       "      <td>4898</td>\n",
       "      <td>4898</td>\n",
       "      <td>4898</td>\n",
       "    </tr>\n",
       "  </tbody>\n",
       "</table>\n",
       "</div>"
      ],
      "text/plain": [
       "       fixed acidity volatile acidity citric acid residual sugar chlorides  \\\n",
       "count           4898             4898        4898           4898      4898   \n",
       "unique             1                1           1              1         1   \n",
       "top            False            False       False          False     False   \n",
       "freq            4898             4898        4898           4898      4898   \n",
       "\n",
       "       free sulfur dioxide total sulfur dioxide density     pH sulphates  \\\n",
       "count                 4898                 4898    4898   4898      4898   \n",
       "unique                   1                    1       1      1         1   \n",
       "top                  False                False   False  False     False   \n",
       "freq                  4898                 4898    4898   4898      4898   \n",
       "\n",
       "       alcohol quality  \n",
       "count     4898    4898  \n",
       "unique       1       1  \n",
       "top      False   False  \n",
       "freq      4898    4898  "
      ]
     },
     "execution_count": 311,
     "metadata": {},
     "output_type": "execute_result"
    }
   ],
   "source": [
    "df.isna().describe()"
   ]
  },
  {
   "cell_type": "code",
   "execution_count": 312,
   "metadata": {},
   "outputs": [
    {
     "data": {
      "text/plain": [
       "fixed acidity           float64\n",
       "volatile acidity        float64\n",
       "citric acid             float64\n",
       "residual sugar          float64\n",
       "chlorides               float64\n",
       "free sulfur dioxide     float64\n",
       "total sulfur dioxide    float64\n",
       "density                 float64\n",
       "pH                      float64\n",
       "sulphates               float64\n",
       "alcohol                 float64\n",
       "quality                   int64\n",
       "dtype: object"
      ]
     },
     "execution_count": 312,
     "metadata": {},
     "output_type": "execute_result"
    }
   ],
   "source": [
    "df.dtypes"
   ]
  },
  {
   "cell_type": "markdown",
   "metadata": {},
   "source": [
    "I will make now some descriptive statistics to better understand the features of the dataset. "
   ]
  },
  {
   "cell_type": "code",
   "execution_count": 313,
   "metadata": {},
   "outputs": [
    {
     "data": {
      "text/html": [
       "<div>\n",
       "<style scoped>\n",
       "    .dataframe tbody tr th:only-of-type {\n",
       "        vertical-align: middle;\n",
       "    }\n",
       "\n",
       "    .dataframe tbody tr th {\n",
       "        vertical-align: top;\n",
       "    }\n",
       "\n",
       "    .dataframe thead th {\n",
       "        text-align: right;\n",
       "    }\n",
       "</style>\n",
       "<table border=\"1\" class=\"dataframe\">\n",
       "  <thead>\n",
       "    <tr style=\"text-align: right;\">\n",
       "      <th></th>\n",
       "      <th>fixed acidity</th>\n",
       "      <th>volatile acidity</th>\n",
       "      <th>citric acid</th>\n",
       "      <th>residual sugar</th>\n",
       "      <th>chlorides</th>\n",
       "      <th>free sulfur dioxide</th>\n",
       "      <th>total sulfur dioxide</th>\n",
       "      <th>density</th>\n",
       "      <th>pH</th>\n",
       "      <th>sulphates</th>\n",
       "      <th>alcohol</th>\n",
       "      <th>quality</th>\n",
       "    </tr>\n",
       "  </thead>\n",
       "  <tbody>\n",
       "    <tr>\n",
       "      <th>count</th>\n",
       "      <td>4898.00</td>\n",
       "      <td>4898.00</td>\n",
       "      <td>4898.00</td>\n",
       "      <td>4898.00</td>\n",
       "      <td>4898.00</td>\n",
       "      <td>4898.00</td>\n",
       "      <td>4898.00</td>\n",
       "      <td>4898.00</td>\n",
       "      <td>4898.00</td>\n",
       "      <td>4898.00</td>\n",
       "      <td>4898.00</td>\n",
       "      <td>4898.00</td>\n",
       "    </tr>\n",
       "    <tr>\n",
       "      <th>mean</th>\n",
       "      <td>6.85</td>\n",
       "      <td>0.28</td>\n",
       "      <td>0.33</td>\n",
       "      <td>6.39</td>\n",
       "      <td>0.05</td>\n",
       "      <td>35.31</td>\n",
       "      <td>138.36</td>\n",
       "      <td>0.99</td>\n",
       "      <td>3.19</td>\n",
       "      <td>0.49</td>\n",
       "      <td>10.51</td>\n",
       "      <td>5.88</td>\n",
       "    </tr>\n",
       "    <tr>\n",
       "      <th>std</th>\n",
       "      <td>0.84</td>\n",
       "      <td>0.10</td>\n",
       "      <td>0.12</td>\n",
       "      <td>5.07</td>\n",
       "      <td>0.02</td>\n",
       "      <td>17.01</td>\n",
       "      <td>42.50</td>\n",
       "      <td>0.00</td>\n",
       "      <td>0.15</td>\n",
       "      <td>0.11</td>\n",
       "      <td>1.23</td>\n",
       "      <td>0.89</td>\n",
       "    </tr>\n",
       "    <tr>\n",
       "      <th>min</th>\n",
       "      <td>3.80</td>\n",
       "      <td>0.08</td>\n",
       "      <td>0.00</td>\n",
       "      <td>0.60</td>\n",
       "      <td>0.01</td>\n",
       "      <td>2.00</td>\n",
       "      <td>9.00</td>\n",
       "      <td>0.99</td>\n",
       "      <td>2.72</td>\n",
       "      <td>0.22</td>\n",
       "      <td>8.00</td>\n",
       "      <td>3.00</td>\n",
       "    </tr>\n",
       "    <tr>\n",
       "      <th>25%</th>\n",
       "      <td>6.30</td>\n",
       "      <td>0.21</td>\n",
       "      <td>0.27</td>\n",
       "      <td>1.70</td>\n",
       "      <td>0.04</td>\n",
       "      <td>23.00</td>\n",
       "      <td>108.00</td>\n",
       "      <td>0.99</td>\n",
       "      <td>3.09</td>\n",
       "      <td>0.41</td>\n",
       "      <td>9.50</td>\n",
       "      <td>5.00</td>\n",
       "    </tr>\n",
       "    <tr>\n",
       "      <th>50%</th>\n",
       "      <td>6.80</td>\n",
       "      <td>0.26</td>\n",
       "      <td>0.32</td>\n",
       "      <td>5.20</td>\n",
       "      <td>0.04</td>\n",
       "      <td>34.00</td>\n",
       "      <td>134.00</td>\n",
       "      <td>0.99</td>\n",
       "      <td>3.18</td>\n",
       "      <td>0.47</td>\n",
       "      <td>10.40</td>\n",
       "      <td>6.00</td>\n",
       "    </tr>\n",
       "    <tr>\n",
       "      <th>75%</th>\n",
       "      <td>7.30</td>\n",
       "      <td>0.32</td>\n",
       "      <td>0.39</td>\n",
       "      <td>9.90</td>\n",
       "      <td>0.05</td>\n",
       "      <td>46.00</td>\n",
       "      <td>167.00</td>\n",
       "      <td>1.00</td>\n",
       "      <td>3.28</td>\n",
       "      <td>0.55</td>\n",
       "      <td>11.40</td>\n",
       "      <td>6.00</td>\n",
       "    </tr>\n",
       "    <tr>\n",
       "      <th>max</th>\n",
       "      <td>14.20</td>\n",
       "      <td>1.10</td>\n",
       "      <td>1.66</td>\n",
       "      <td>65.80</td>\n",
       "      <td>0.35</td>\n",
       "      <td>289.00</td>\n",
       "      <td>440.00</td>\n",
       "      <td>1.04</td>\n",
       "      <td>3.82</td>\n",
       "      <td>1.08</td>\n",
       "      <td>14.20</td>\n",
       "      <td>9.00</td>\n",
       "    </tr>\n",
       "  </tbody>\n",
       "</table>\n",
       "</div>"
      ],
      "text/plain": [
       "       fixed acidity  volatile acidity  citric acid  residual sugar  \\\n",
       "count        4898.00           4898.00      4898.00         4898.00   \n",
       "mean            6.85              0.28         0.33            6.39   \n",
       "std             0.84              0.10         0.12            5.07   \n",
       "min             3.80              0.08         0.00            0.60   \n",
       "25%             6.30              0.21         0.27            1.70   \n",
       "50%             6.80              0.26         0.32            5.20   \n",
       "75%             7.30              0.32         0.39            9.90   \n",
       "max            14.20              1.10         1.66           65.80   \n",
       "\n",
       "       chlorides  free sulfur dioxide  total sulfur dioxide  density       pH  \\\n",
       "count    4898.00              4898.00               4898.00  4898.00  4898.00   \n",
       "mean        0.05                35.31                138.36     0.99     3.19   \n",
       "std         0.02                17.01                 42.50     0.00     0.15   \n",
       "min         0.01                 2.00                  9.00     0.99     2.72   \n",
       "25%         0.04                23.00                108.00     0.99     3.09   \n",
       "50%         0.04                34.00                134.00     0.99     3.18   \n",
       "75%         0.05                46.00                167.00     1.00     3.28   \n",
       "max         0.35               289.00                440.00     1.04     3.82   \n",
       "\n",
       "       sulphates  alcohol  quality  \n",
       "count    4898.00  4898.00  4898.00  \n",
       "mean        0.49    10.51     5.88  \n",
       "std         0.11     1.23     0.89  \n",
       "min         0.22     8.00     3.00  \n",
       "25%         0.41     9.50     5.00  \n",
       "50%         0.47    10.40     6.00  \n",
       "75%         0.55    11.40     6.00  \n",
       "max         1.08    14.20     9.00  "
      ]
     },
     "execution_count": 313,
     "metadata": {},
     "output_type": "execute_result"
    }
   ],
   "source": [
    "df.describe().round(2)"
   ]
  },
  {
   "cell_type": "markdown",
   "metadata": {},
   "source": [
    "Some histogram will help to visualize how the feature values are distributed. I will then produce a good histogram of the counts of wines of different quality scores. "
   ]
  },
  {
   "cell_type": "code",
   "execution_count": 314,
   "metadata": {},
   "outputs": [
    {
     "data": {
      "text/plain": [
       "array([[<matplotlib.axes._subplots.AxesSubplot object at 0x7f46538df590>,\n",
       "        <matplotlib.axes._subplots.AxesSubplot object at 0x7f4653b74d10>,\n",
       "        <matplotlib.axes._subplots.AxesSubplot object at 0x7f4653883b10>],\n",
       "       [<matplotlib.axes._subplots.AxesSubplot object at 0x7f4649fd5210>,\n",
       "        <matplotlib.axes._subplots.AxesSubplot object at 0x7f46538b2a90>,\n",
       "        <matplotlib.axes._subplots.AxesSubplot object at 0x7f465180ef90>],\n",
       "       [<matplotlib.axes._subplots.AxesSubplot object at 0x7f4647a24810>,\n",
       "        <matplotlib.axes._subplots.AxesSubplot object at 0x7f4651941b10>,\n",
       "        <matplotlib.axes._subplots.AxesSubplot object at 0x7f46518ee5d0>],\n",
       "       [<matplotlib.axes._subplots.AxesSubplot object at 0x7f4653860a10>,\n",
       "        <matplotlib.axes._subplots.AxesSubplot object at 0x7f4653b73ed0>,\n",
       "        <matplotlib.axes._subplots.AxesSubplot object at 0x7f4653af1750>]],\n",
       "      dtype=object)"
      ]
     },
     "execution_count": 314,
     "metadata": {},
     "output_type": "execute_result"
    },
    {
     "data": {
      "image/png": "[encoded data removed]",
      "text/plain": [
       "<Figure size 720x720 with 12 Axes>"
      ]
     },
     "metadata": {
      "needs_background": "light"
     },
     "output_type": "display_data"
    }
   ],
   "source": [
    "df.hist(figsize=(10,10))"
   ]
  },
  {
   "cell_type": "code",
   "execution_count": 315,
   "metadata": {},
   "outputs": [
    {
     "data": {
      "text/plain": [
       "Text(0, 0.5, 'counts')"
      ]
     },
     "execution_count": 315,
     "metadata": {},
     "output_type": "execute_result"
    },
    {
     "data": {
      "image/png": "[encoded data removed]",
      "text/plain": [
       "<Figure size 432x288 with 1 Axes>"
      ]
     },
     "metadata": {
      "needs_background": "light"
     },
     "output_type": "display_data"
    }
   ],
   "source": [
    "sns.countplot(df['quality'])\n",
    "plt.title('White Vinho Verde')\n",
    "plt.xlabel('quality')\n",
    "plt.ylabel('counts')"
   ]
  },
  {
   "cell_type": "markdown",
   "metadata": {},
   "source": [
    "I will now concentrate on correlation among variables. I will start from a correlation matrix, to then inspect in more depth the variables that shows an high level of correlation to identify if there are some strange behaviours. This inspection will be held using scatterplots, that shows indeed some expected weak correlations. "
   ]
  },
  {
   "cell_type": "code",
   "execution_count": 316,
   "metadata": {},
   "outputs": [
    {
     "data": {
      "text/plain": [
       "['fixed acidity',\n",
       " 'volatile acidity',\n",
       " 'citric acid',\n",
       " 'residual sugar',\n",
       " 'chlorides',\n",
       " 'free sulfur dioxide',\n",
       " 'total sulfur dioxide',\n",
       " 'density',\n",
       " 'pH',\n",
       " 'sulphates',\n",
       " 'alcohol']"
      ]
     },
     "execution_count": 316,
     "metadata": {},
     "output_type": "execute_result"
    }
   ],
   "source": [
    "col=df.columns.to_list()\n",
    "col.remove('quality')\n",
    "col"
   ]
  },
  {
   "cell_type": "code",
   "execution_count": 317,
   "metadata": {},
   "outputs": [
    {
     "data": {
      "text/html": [
       "<style  type=\"text/css\" >\n",
       "    #T_db508c64_a740_11ea_aa37_d5b3f8d607f2row0_col0 {\n",
       "            background-color:  #b40426;\n",
       "            color:  #f1f1f1;\n",
       "        }    #T_db508c64_a740_11ea_aa37_d5b3f8d607f2row0_col1 {\n",
       "            background-color:  #6788ee;\n",
       "            color:  #000000;\n",
       "        }    #T_db508c64_a740_11ea_aa37_d5b3f8d607f2row0_col2 {\n",
       "            background-color:  #bcd2f7;\n",
       "            color:  #000000;\n",
       "        }    #T_db508c64_a740_11ea_aa37_d5b3f8d607f2row0_col3 {\n",
       "            background-color:  #b7cff9;\n",
       "            color:  #000000;\n",
       "        }    #T_db508c64_a740_11ea_aa37_d5b3f8d607f2row0_col4 {\n",
       "            background-color:  #97b8ff;\n",
       "            color:  #000000;\n",
       "        }    #T_db508c64_a740_11ea_aa37_d5b3f8d607f2row0_col5 {\n",
       "            background-color:  #6c8ff1;\n",
       "            color:  #000000;\n",
       "        }    #T_db508c64_a740_11ea_aa37_d5b3f8d607f2row0_col6 {\n",
       "            background-color:  #b7cff9;\n",
       "            color:  #000000;\n",
       "        }    #T_db508c64_a740_11ea_aa37_d5b3f8d607f2row0_col7 {\n",
       "            background-color:  #f1cdba;\n",
       "            color:  #000000;\n",
       "        }    #T_db508c64_a740_11ea_aa37_d5b3f8d607f2row0_col8 {\n",
       "            background-color:  #3b4cc0;\n",
       "            color:  #f1f1f1;\n",
       "        }    #T_db508c64_a740_11ea_aa37_d5b3f8d607f2row0_col9 {\n",
       "            background-color:  #3f53c6;\n",
       "            color:  #f1f1f1;\n",
       "        }    #T_db508c64_a740_11ea_aa37_d5b3f8d607f2row0_col10 {\n",
       "            background-color:  #b6cefa;\n",
       "            color:  #000000;\n",
       "        }    #T_db508c64_a740_11ea_aa37_d5b3f8d607f2row0_col11 {\n",
       "            background-color:  #6b8df0;\n",
       "            color:  #000000;\n",
       "        }    #T_db508c64_a740_11ea_aa37_d5b3f8d607f2row1_col0 {\n",
       "            background-color:  #9abbff;\n",
       "            color:  #000000;\n",
       "        }    #T_db508c64_a740_11ea_aa37_d5b3f8d607f2row1_col1 {\n",
       "            background-color:  #b40426;\n",
       "            color:  #f1f1f1;\n",
       "        }    #T_db508c64_a740_11ea_aa37_d5b3f8d607f2row1_col2 {\n",
       "            background-color:  #3d50c3;\n",
       "            color:  #f1f1f1;\n",
       "        }    #T_db508c64_a740_11ea_aa37_d5b3f8d607f2row1_col3 {\n",
       "            background-color:  #b1cbfc;\n",
       "            color:  #000000;\n",
       "        }    #T_db508c64_a740_11ea_aa37_d5b3f8d607f2row1_col4 {\n",
       "            background-color:  #a3c2fe;\n",
       "            color:  #000000;\n",
       "        }    #T_db508c64_a740_11ea_aa37_d5b3f8d607f2row1_col5 {\n",
       "            background-color:  #5f7fe8;\n",
       "            color:  #000000;\n",
       "        }    #T_db508c64_a740_11ea_aa37_d5b3f8d607f2row1_col6 {\n",
       "            background-color:  #b7cff9;\n",
       "            color:  #000000;\n",
       "        }    #T_db508c64_a740_11ea_aa37_d5b3f8d607f2row1_col7 {\n",
       "            background-color:  #d1dae9;\n",
       "            color:  #000000;\n",
       "        }    #T_db508c64_a740_11ea_aa37_d5b3f8d607f2row1_col8 {\n",
       "            background-color:  #97b8ff;\n",
       "            color:  #000000;\n",
       "        }    #T_db508c64_a740_11ea_aa37_d5b3f8d607f2row1_col9 {\n",
       "            background-color:  #3b4cc0;\n",
       "            color:  #f1f1f1;\n",
       "        }    #T_db508c64_a740_11ea_aa37_d5b3f8d607f2row1_col10 {\n",
       "            background-color:  #d7dce3;\n",
       "            color:  #000000;\n",
       "        }    #T_db508c64_a740_11ea_aa37_d5b3f8d607f2row1_col11 {\n",
       "            background-color:  #5673e0;\n",
       "            color:  #000000;\n",
       "        }    #T_db508c64_a740_11ea_aa37_d5b3f8d607f2row2_col0 {\n",
       "            background-color:  #dddcdc;\n",
       "            color:  #000000;\n",
       "        }    #T_db508c64_a740_11ea_aa37_d5b3f8d607f2row2_col1 {\n",
       "            background-color:  #445acc;\n",
       "            color:  #f1f1f1;\n",
       "        }    #T_db508c64_a740_11ea_aa37_d5b3f8d607f2row2_col2 {\n",
       "            background-color:  #b40426;\n",
       "            color:  #f1f1f1;\n",
       "        }    #T_db508c64_a740_11ea_aa37_d5b3f8d607f2row2_col3 {\n",
       "            background-color:  #b7cff9;\n",
       "            color:  #000000;\n",
       "        }    #T_db508c64_a740_11ea_aa37_d5b3f8d607f2row2_col4 {\n",
       "            background-color:  #aec9fc;\n",
       "            color:  #000000;\n",
       "        }    #T_db508c64_a740_11ea_aa37_d5b3f8d607f2row2_col5 {\n",
       "            background-color:  #94b6ff;\n",
       "            color:  #000000;\n",
       "        }    #T_db508c64_a740_11ea_aa37_d5b3f8d607f2row2_col6 {\n",
       "            background-color:  #bed2f6;\n",
       "            color:  #000000;\n",
       "        }    #T_db508c64_a740_11ea_aa37_d5b3f8d607f2row2_col7 {\n",
       "            background-color:  #e2dad5;\n",
       "            color:  #000000;\n",
       "        }    #T_db508c64_a740_11ea_aa37_d5b3f8d607f2row2_col8 {\n",
       "            background-color:  #779af7;\n",
       "            color:  #000000;\n",
       "        }    #T_db508c64_a740_11ea_aa37_d5b3f8d607f2row2_col9 {\n",
       "            background-color:  #5875e1;\n",
       "            color:  #000000;\n",
       "        }    #T_db508c64_a740_11ea_aa37_d5b3f8d607f2row2_col10 {\n",
       "            background-color:  #bed2f6;\n",
       "            color:  #000000;\n",
       "        }    #T_db508c64_a740_11ea_aa37_d5b3f8d607f2row2_col11 {\n",
       "            background-color:  #85a8fc;\n",
       "            color:  #000000;\n",
       "        }    #T_db508c64_a740_11ea_aa37_d5b3f8d607f2row3_col0 {\n",
       "            background-color:  #b5cdfa;\n",
       "            color:  #000000;\n",
       "        }    #T_db508c64_a740_11ea_aa37_d5b3f8d607f2row3_col1 {\n",
       "            background-color:  #7ea1fa;\n",
       "            color:  #000000;\n",
       "        }    #T_db508c64_a740_11ea_aa37_d5b3f8d607f2row3_col2 {\n",
       "            background-color:  #81a4fb;\n",
       "            color:  #000000;\n",
       "        }    #T_db508c64_a740_11ea_aa37_d5b3f8d607f2row3_col3 {\n",
       "            background-color:  #b40426;\n",
       "            color:  #f1f1f1;\n",
       "        }    #T_db508c64_a740_11ea_aa37_d5b3f8d607f2row3_col4 {\n",
       "            background-color:  #a9c6fd;\n",
       "            color:  #000000;\n",
       "        }    #T_db508c64_a740_11ea_aa37_d5b3f8d607f2row3_col5 {\n",
       "            background-color:  #ccd9ed;\n",
       "            color:  #000000;\n",
       "        }    #T_db508c64_a740_11ea_aa37_d5b3f8d607f2row3_col6 {\n",
       "            background-color:  #f0cdbb;\n",
       "            color:  #000000;\n",
       "        }    #T_db508c64_a740_11ea_aa37_d5b3f8d607f2row3_col7 {\n",
       "            background-color:  #d44e41;\n",
       "            color:  #000000;\n",
       "        }    #T_db508c64_a740_11ea_aa37_d5b3f8d607f2row3_col8 {\n",
       "            background-color:  #6f92f3;\n",
       "            color:  #000000;\n",
       "        }    #T_db508c64_a740_11ea_aa37_d5b3f8d607f2row3_col9 {\n",
       "            background-color:  #3d50c3;\n",
       "            color:  #f1f1f1;\n",
       "        }    #T_db508c64_a740_11ea_aa37_d5b3f8d607f2row3_col10 {\n",
       "            background-color:  #7699f6;\n",
       "            color:  #000000;\n",
       "        }    #T_db508c64_a740_11ea_aa37_d5b3f8d607f2row3_col11 {\n",
       "            background-color:  #6e90f2;\n",
       "            color:  #000000;\n",
       "        }    #T_db508c64_a740_11ea_aa37_d5b3f8d607f2row4_col0 {\n",
       "            background-color:  #a3c2fe;\n",
       "            color:  #000000;\n",
       "        }    #T_db508c64_a740_11ea_aa37_d5b3f8d607f2row4_col1 {\n",
       "            background-color:  #81a4fb;\n",
       "            color:  #000000;\n",
       "        }    #T_db508c64_a740_11ea_aa37_d5b3f8d607f2row4_col2 {\n",
       "            background-color:  #86a9fc;\n",
       "            color:  #000000;\n",
       "        }    #T_db508c64_a740_11ea_aa37_d5b3f8d607f2row4_col3 {\n",
       "            background-color:  #b7cff9;\n",
       "            color:  #000000;\n",
       "        }    #T_db508c64_a740_11ea_aa37_d5b3f8d607f2row4_col4 {\n",
       "            background-color:  #b40426;\n",
       "            color:  #f1f1f1;\n",
       "        }    #T_db508c64_a740_11ea_aa37_d5b3f8d607f2row4_col5 {\n",
       "            background-color:  #97b8ff;\n",
       "            color:  #000000;\n",
       "        }    #T_db508c64_a740_11ea_aa37_d5b3f8d607f2row4_col6 {\n",
       "            background-color:  #cedaeb;\n",
       "            color:  #000000;\n",
       "        }    #T_db508c64_a740_11ea_aa37_d5b3f8d607f2row4_col7 {\n",
       "            background-color:  #efcebd;\n",
       "            color:  #000000;\n",
       "        }    #T_db508c64_a740_11ea_aa37_d5b3f8d607f2row4_col8 {\n",
       "            background-color:  #88abfd;\n",
       "            color:  #000000;\n",
       "        }    #T_db508c64_a740_11ea_aa37_d5b3f8d607f2row4_col9 {\n",
       "            background-color:  #4b64d5;\n",
       "            color:  #f1f1f1;\n",
       "        }    #T_db508c64_a740_11ea_aa37_d5b3f8d607f2row4_col10 {\n",
       "            background-color:  #88abfd;\n",
       "            color:  #000000;\n",
       "        }    #T_db508c64_a740_11ea_aa37_d5b3f8d607f2row4_col11 {\n",
       "            background-color:  #516ddb;\n",
       "            color:  #000000;\n",
       "        }    #T_db508c64_a740_11ea_aa37_d5b3f8d607f2row5_col0 {\n",
       "            background-color:  #93b5fe;\n",
       "            color:  #000000;\n",
       "        }    #T_db508c64_a740_11ea_aa37_d5b3f8d607f2row5_col1 {\n",
       "            background-color:  #516ddb;\n",
       "            color:  #000000;\n",
       "        }    #T_db508c64_a740_11ea_aa37_d5b3f8d607f2row5_col2 {\n",
       "            background-color:  #81a4fb;\n",
       "            color:  #000000;\n",
       "        }    #T_db508c64_a740_11ea_aa37_d5b3f8d607f2row5_col3 {\n",
       "            background-color:  #e1dad6;\n",
       "            color:  #000000;\n",
       "        }    #T_db508c64_a740_11ea_aa37_d5b3f8d607f2row5_col4 {\n",
       "            background-color:  #abc8fd;\n",
       "            color:  #000000;\n",
       "        }    #T_db508c64_a740_11ea_aa37_d5b3f8d607f2row5_col5 {\n",
       "            background-color:  #b40426;\n",
       "            color:  #f1f1f1;\n",
       "        }    #T_db508c64_a740_11ea_aa37_d5b3f8d607f2row5_col6 {\n",
       "            background-color:  #f59f80;\n",
       "            color:  #000000;\n",
       "        }    #T_db508c64_a740_11ea_aa37_d5b3f8d607f2row5_col7 {\n",
       "            background-color:  #f2cbb7;\n",
       "            color:  #000000;\n",
       "        }    #T_db508c64_a740_11ea_aa37_d5b3f8d607f2row5_col8 {\n",
       "            background-color:  #9ebeff;\n",
       "            color:  #000000;\n",
       "        }    #T_db508c64_a740_11ea_aa37_d5b3f8d607f2row5_col9 {\n",
       "            background-color:  #5875e1;\n",
       "            color:  #000000;\n",
       "        }    #T_db508c64_a740_11ea_aa37_d5b3f8d607f2row5_col10 {\n",
       "            background-color:  #9ebeff;\n",
       "            color:  #000000;\n",
       "        }    #T_db508c64_a740_11ea_aa37_d5b3f8d607f2row5_col11 {\n",
       "            background-color:  #8badfd;\n",
       "            color:  #000000;\n",
       "        }    #T_db508c64_a740_11ea_aa37_d5b3f8d607f2row6_col0 {\n",
       "            background-color:  #b5cdfa;\n",
       "            color:  #000000;\n",
       "        }    #T_db508c64_a740_11ea_aa37_d5b3f8d607f2row6_col1 {\n",
       "            background-color:  #88abfd;\n",
       "            color:  #000000;\n",
       "        }    #T_db508c64_a740_11ea_aa37_d5b3f8d607f2row6_col2 {\n",
       "            background-color:  #89acfd;\n",
       "            color:  #000000;\n",
       "        }    #T_db508c64_a740_11ea_aa37_d5b3f8d607f2row6_col3 {\n",
       "            background-color:  #f0cdbb;\n",
       "            color:  #000000;\n",
       "        }    #T_db508c64_a740_11ea_aa37_d5b3f8d607f2row6_col4 {\n",
       "            background-color:  #c4d5f3;\n",
       "            color:  #000000;\n",
       "        }    #T_db508c64_a740_11ea_aa37_d5b3f8d607f2row6_col5 {\n",
       "            background-color:  #f7ad90;\n",
       "            color:  #000000;\n",
       "        }    #T_db508c64_a740_11ea_aa37_d5b3f8d607f2row6_col6 {\n",
       "            background-color:  #b40426;\n",
       "            color:  #f1f1f1;\n",
       "        }    #T_db508c64_a740_11ea_aa37_d5b3f8d607f2row6_col7 {\n",
       "            background-color:  #f59f80;\n",
       "            color:  #000000;\n",
       "        }    #T_db508c64_a740_11ea_aa37_d5b3f8d607f2row6_col8 {\n",
       "            background-color:  #9ebeff;\n",
       "            color:  #000000;\n",
       "        }    #T_db508c64_a740_11ea_aa37_d5b3f8d607f2row6_col9 {\n",
       "            background-color:  #6e90f2;\n",
       "            color:  #000000;\n",
       "        }    #T_db508c64_a740_11ea_aa37_d5b3f8d607f2row6_col10 {\n",
       "            background-color:  #7699f6;\n",
       "            color:  #000000;\n",
       "        }    #T_db508c64_a740_11ea_aa37_d5b3f8d607f2row6_col11 {\n",
       "            background-color:  #5b7ae5;\n",
       "            color:  #000000;\n",
       "        }    #T_db508c64_a740_11ea_aa37_d5b3f8d607f2row7_col0 {\n",
       "            background-color:  #dadce0;\n",
       "            color:  #000000;\n",
       "        }    #T_db508c64_a740_11ea_aa37_d5b3f8d607f2row7_col1 {\n",
       "            background-color:  #7699f6;\n",
       "            color:  #000000;\n",
       "        }    #T_db508c64_a740_11ea_aa37_d5b3f8d607f2row7_col2 {\n",
       "            background-color:  #93b5fe;\n",
       "            color:  #000000;\n",
       "        }    #T_db508c64_a740_11ea_aa37_d5b3f8d607f2row7_col3 {\n",
       "            background-color:  #d95847;\n",
       "            color:  #000000;\n",
       "        }    #T_db508c64_a740_11ea_aa37_d5b3f8d607f2row7_col4 {\n",
       "            background-color:  #d1dae9;\n",
       "            color:  #000000;\n",
       "        }    #T_db508c64_a740_11ea_aa37_d5b3f8d607f2row7_col5 {\n",
       "            background-color:  #cad8ef;\n",
       "            color:  #000000;\n",
       "        }    #T_db508c64_a740_11ea_aa37_d5b3f8d607f2row7_col6 {\n",
       "            background-color:  #f7b497;\n",
       "            color:  #000000;\n",
       "        }    #T_db508c64_a740_11ea_aa37_d5b3f8d607f2row7_col7 {\n",
       "            background-color:  #b40426;\n",
       "            color:  #f1f1f1;\n",
       "        }    #T_db508c64_a740_11ea_aa37_d5b3f8d607f2row7_col8 {\n",
       "            background-color:  #88abfd;\n",
       "            color:  #000000;\n",
       "        }    #T_db508c64_a740_11ea_aa37_d5b3f8d607f2row7_col9 {\n",
       "            background-color:  #5b7ae5;\n",
       "            color:  #000000;\n",
       "        }    #T_db508c64_a740_11ea_aa37_d5b3f8d607f2row7_col10 {\n",
       "            background-color:  #3b4cc0;\n",
       "            color:  #f1f1f1;\n",
       "        }    #T_db508c64_a740_11ea_aa37_d5b3f8d607f2row7_col11 {\n",
       "            background-color:  #3b4cc0;\n",
       "            color:  #f1f1f1;\n",
       "        }    #T_db508c64_a740_11ea_aa37_d5b3f8d607f2row8_col0 {\n",
       "            background-color:  #3b4cc0;\n",
       "            color:  #f1f1f1;\n",
       "        }    #T_db508c64_a740_11ea_aa37_d5b3f8d607f2row8_col1 {\n",
       "            background-color:  #6485ec;\n",
       "            color:  #000000;\n",
       "        }    #T_db508c64_a740_11ea_aa37_d5b3f8d607f2row8_col2 {\n",
       "            background-color:  #3b4cc0;\n",
       "            color:  #f1f1f1;\n",
       "        }    #T_db508c64_a740_11ea_aa37_d5b3f8d607f2row8_col3 {\n",
       "            background-color:  #7396f5;\n",
       "            color:  #000000;\n",
       "        }    #T_db508c64_a740_11ea_aa37_d5b3f8d607f2row8_col4 {\n",
       "            background-color:  #7a9df8;\n",
       "            color:  #000000;\n",
       "        }    #T_db508c64_a740_11ea_aa37_d5b3f8d607f2row8_col5 {\n",
       "            background-color:  #7b9ff9;\n",
       "            color:  #000000;\n",
       "        }    #T_db508c64_a740_11ea_aa37_d5b3f8d607f2row8_col6 {\n",
       "            background-color:  #a2c1ff;\n",
       "            color:  #000000;\n",
       "        }    #T_db508c64_a740_11ea_aa37_d5b3f8d607f2row8_col7 {\n",
       "            background-color:  #bcd2f7;\n",
       "            color:  #000000;\n",
       "        }    #T_db508c64_a740_11ea_aa37_d5b3f8d607f2row8_col8 {\n",
       "            background-color:  #b40426;\n",
       "            color:  #f1f1f1;\n",
       "        }    #T_db508c64_a740_11ea_aa37_d5b3f8d607f2row8_col9 {\n",
       "            background-color:  #799cf8;\n",
       "            color:  #000000;\n",
       "        }    #T_db508c64_a740_11ea_aa37_d5b3f8d607f2row8_col10 {\n",
       "            background-color:  #dedcdb;\n",
       "            color:  #000000;\n",
       "        }    #T_db508c64_a740_11ea_aa37_d5b3f8d607f2row8_col11 {\n",
       "            background-color:  #a3c2fe;\n",
       "            color:  #000000;\n",
       "        }    #T_db508c64_a740_11ea_aa37_d5b3f8d607f2row9_col0 {\n",
       "            background-color:  #9abbff;\n",
       "            color:  #000000;\n",
       "        }    #T_db508c64_a740_11ea_aa37_d5b3f8d607f2row9_col1 {\n",
       "            background-color:  #6282ea;\n",
       "            color:  #000000;\n",
       "        }    #T_db508c64_a740_11ea_aa37_d5b3f8d607f2row9_col2 {\n",
       "            background-color:  #779af7;\n",
       "            color:  #000000;\n",
       "        }    #T_db508c64_a740_11ea_aa37_d5b3f8d607f2row9_col3 {\n",
       "            background-color:  #9bbcff;\n",
       "            color:  #000000;\n",
       "        }    #T_db508c64_a740_11ea_aa37_d5b3f8d607f2row9_col4 {\n",
       "            background-color:  #97b8ff;\n",
       "            color:  #000000;\n",
       "        }    #T_db508c64_a740_11ea_aa37_d5b3f8d607f2row9_col5 {\n",
       "            background-color:  #8caffe;\n",
       "            color:  #000000;\n",
       "        }    #T_db508c64_a740_11ea_aa37_d5b3f8d607f2row9_col6 {\n",
       "            background-color:  #c0d4f5;\n",
       "            color:  #000000;\n",
       "        }    #T_db508c64_a740_11ea_aa37_d5b3f8d607f2row9_col7 {\n",
       "            background-color:  #d7dce3;\n",
       "            color:  #000000;\n",
       "        }    #T_db508c64_a740_11ea_aa37_d5b3f8d607f2row9_col8 {\n",
       "            background-color:  #c4d5f3;\n",
       "            color:  #000000;\n",
       "        }    #T_db508c64_a740_11ea_aa37_d5b3f8d607f2row9_col9 {\n",
       "            background-color:  #b40426;\n",
       "            color:  #f1f1f1;\n",
       "        }    #T_db508c64_a740_11ea_aa37_d5b3f8d607f2row9_col10 {\n",
       "            background-color:  #c9d7f0;\n",
       "            color:  #000000;\n",
       "        }    #T_db508c64_a740_11ea_aa37_d5b3f8d607f2row9_col11 {\n",
       "            background-color:  #96b7ff;\n",
       "            color:  #000000;\n",
       "        }    #T_db508c64_a740_11ea_aa37_d5b3f8d607f2row10_col0 {\n",
       "            background-color:  #81a4fb;\n",
       "            color:  #000000;\n",
       "        }    #T_db508c64_a740_11ea_aa37_d5b3f8d607f2row10_col1 {\n",
       "            background-color:  #81a4fb;\n",
       "            color:  #000000;\n",
       "        }    #T_db508c64_a740_11ea_aa37_d5b3f8d607f2row10_col2 {\n",
       "            background-color:  #4f69d9;\n",
       "            color:  #000000;\n",
       "        }    #T_db508c64_a740_11ea_aa37_d5b3f8d607f2row10_col3 {\n",
       "            background-color:  #3b4cc0;\n",
       "            color:  #f1f1f1;\n",
       "        }    #T_db508c64_a740_11ea_aa37_d5b3f8d607f2row10_col4 {\n",
       "            background-color:  #3b4cc0;\n",
       "            color:  #f1f1f1;\n",
       "        }    #T_db508c64_a740_11ea_aa37_d5b3f8d607f2row10_col5 {\n",
       "            background-color:  #3b4cc0;\n",
       "            color:  #f1f1f1;\n",
       "        }    #T_db508c64_a740_11ea_aa37_d5b3f8d607f2row10_col6 {\n",
       "            background-color:  #3b4cc0;\n",
       "            color:  #f1f1f1;\n",
       "        }    #T_db508c64_a740_11ea_aa37_d5b3f8d607f2row10_col7 {\n",
       "            background-color:  #3b4cc0;\n",
       "            color:  #f1f1f1;\n",
       "        }    #T_db508c64_a740_11ea_aa37_d5b3f8d607f2row10_col8 {\n",
       "            background-color:  #bbd1f8;\n",
       "            color:  #000000;\n",
       "        }    #T_db508c64_a740_11ea_aa37_d5b3f8d607f2row10_col9 {\n",
       "            background-color:  #3f53c6;\n",
       "            color:  #f1f1f1;\n",
       "        }    #T_db508c64_a740_11ea_aa37_d5b3f8d607f2row10_col10 {\n",
       "            background-color:  #b40426;\n",
       "            color:  #f1f1f1;\n",
       "        }    #T_db508c64_a740_11ea_aa37_d5b3f8d607f2row10_col11 {\n",
       "            background-color:  #edd1c2;\n",
       "            color:  #000000;\n",
       "        }    #T_db508c64_a740_11ea_aa37_d5b3f8d607f2row11_col0 {\n",
       "            background-color:  #84a7fc;\n",
       "            color:  #000000;\n",
       "        }    #T_db508c64_a740_11ea_aa37_d5b3f8d607f2row11_col1 {\n",
       "            background-color:  #3b4cc0;\n",
       "            color:  #f1f1f1;\n",
       "        }    #T_db508c64_a740_11ea_aa37_d5b3f8d607f2row11_col2 {\n",
       "            background-color:  #6384eb;\n",
       "            color:  #000000;\n",
       "        }    #T_db508c64_a740_11ea_aa37_d5b3f8d607f2row11_col3 {\n",
       "            background-color:  #89acfd;\n",
       "            color:  #000000;\n",
       "        }    #T_db508c64_a740_11ea_aa37_d5b3f8d607f2row11_col4 {\n",
       "            background-color:  #5d7ce6;\n",
       "            color:  #000000;\n",
       "        }    #T_db508c64_a740_11ea_aa37_d5b3f8d607f2row11_col5 {\n",
       "            background-color:  #7ea1fa;\n",
       "            color:  #000000;\n",
       "        }    #T_db508c64_a740_11ea_aa37_d5b3f8d607f2row11_col6 {\n",
       "            background-color:  #799cf8;\n",
       "            color:  #000000;\n",
       "        }    #T_db508c64_a740_11ea_aa37_d5b3f8d607f2row11_col7 {\n",
       "            background-color:  #92b4fe;\n",
       "            color:  #000000;\n",
       "        }    #T_db508c64_a740_11ea_aa37_d5b3f8d607f2row11_col8 {\n",
       "            background-color:  #b6cefa;\n",
       "            color:  #000000;\n",
       "        }    #T_db508c64_a740_11ea_aa37_d5b3f8d607f2row11_col9 {\n",
       "            background-color:  #5572df;\n",
       "            color:  #000000;\n",
       "        }    #T_db508c64_a740_11ea_aa37_d5b3f8d607f2row11_col10 {\n",
       "            background-color:  #f7b194;\n",
       "            color:  #000000;\n",
       "        }    #T_db508c64_a740_11ea_aa37_d5b3f8d607f2row11_col11 {\n",
       "            background-color:  #b40426;\n",
       "            color:  #f1f1f1;\n",
       "        }</style><table id=\"T_db508c64_a740_11ea_aa37_d5b3f8d607f2\" ><thead>    <tr>        <th class=\"blank level0\" ></th>        <th class=\"col_heading level0 col0\" >fixed acidity</th>        <th class=\"col_heading level0 col1\" >volatile acidity</th>        <th class=\"col_heading level0 col2\" >citric acid</th>        <th class=\"col_heading level0 col3\" >residual sugar</th>        <th class=\"col_heading level0 col4\" >chlorides</th>        <th class=\"col_heading level0 col5\" >free sulfur dioxide</th>        <th class=\"col_heading level0 col6\" >total sulfur dioxide</th>        <th class=\"col_heading level0 col7\" >density</th>        <th class=\"col_heading level0 col8\" >pH</th>        <th class=\"col_heading level0 col9\" >sulphates</th>        <th class=\"col_heading level0 col10\" >alcohol</th>        <th class=\"col_heading level0 col11\" >quality</th>    </tr></thead><tbody>\n",
       "                <tr>\n",
       "                        <th id=\"T_db508c64_a740_11ea_aa37_d5b3f8d607f2level0_row0\" class=\"row_heading level0 row0\" >fixed acidity</th>\n",
       "                        <td id=\"T_db508c64_a740_11ea_aa37_d5b3f8d607f2row0_col0\" class=\"data row0 col0\" >1</td>\n",
       "                        <td id=\"T_db508c64_a740_11ea_aa37_d5b3f8d607f2row0_col1\" class=\"data row0 col1\" >-0.02</td>\n",
       "                        <td id=\"T_db508c64_a740_11ea_aa37_d5b3f8d607f2row0_col2\" class=\"data row0 col2\" >0.29</td>\n",
       "                        <td id=\"T_db508c64_a740_11ea_aa37_d5b3f8d607f2row0_col3\" class=\"data row0 col3\" >0.09</td>\n",
       "                        <td id=\"T_db508c64_a740_11ea_aa37_d5b3f8d607f2row0_col4\" class=\"data row0 col4\" >0.02</td>\n",
       "                        <td id=\"T_db508c64_a740_11ea_aa37_d5b3f8d607f2row0_col5\" class=\"data row0 col5\" >-0.05</td>\n",
       "                        <td id=\"T_db508c64_a740_11ea_aa37_d5b3f8d607f2row0_col6\" class=\"data row0 col6\" >0.09</td>\n",
       "                        <td id=\"T_db508c64_a740_11ea_aa37_d5b3f8d607f2row0_col7\" class=\"data row0 col7\" >0.27</td>\n",
       "                        <td id=\"T_db508c64_a740_11ea_aa37_d5b3f8d607f2row0_col8\" class=\"data row0 col8\" >-0.43</td>\n",
       "                        <td id=\"T_db508c64_a740_11ea_aa37_d5b3f8d607f2row0_col9\" class=\"data row0 col9\" >-0.02</td>\n",
       "                        <td id=\"T_db508c64_a740_11ea_aa37_d5b3f8d607f2row0_col10\" class=\"data row0 col10\" >-0.12</td>\n",
       "                        <td id=\"T_db508c64_a740_11ea_aa37_d5b3f8d607f2row0_col11\" class=\"data row0 col11\" >-0.11</td>\n",
       "            </tr>\n",
       "            <tr>\n",
       "                        <th id=\"T_db508c64_a740_11ea_aa37_d5b3f8d607f2level0_row1\" class=\"row_heading level0 row1\" >volatile acidity</th>\n",
       "                        <td id=\"T_db508c64_a740_11ea_aa37_d5b3f8d607f2row1_col0\" class=\"data row1 col0\" >-0.02</td>\n",
       "                        <td id=\"T_db508c64_a740_11ea_aa37_d5b3f8d607f2row1_col1\" class=\"data row1 col1\" >1</td>\n",
       "                        <td id=\"T_db508c64_a740_11ea_aa37_d5b3f8d607f2row1_col2\" class=\"data row1 col2\" >-0.15</td>\n",
       "                        <td id=\"T_db508c64_a740_11ea_aa37_d5b3f8d607f2row1_col3\" class=\"data row1 col3\" >0.06</td>\n",
       "                        <td id=\"T_db508c64_a740_11ea_aa37_d5b3f8d607f2row1_col4\" class=\"data row1 col4\" >0.07</td>\n",
       "                        <td id=\"T_db508c64_a740_11ea_aa37_d5b3f8d607f2row1_col5\" class=\"data row1 col5\" >-0.1</td>\n",
       "                        <td id=\"T_db508c64_a740_11ea_aa37_d5b3f8d607f2row1_col6\" class=\"data row1 col6\" >0.09</td>\n",
       "                        <td id=\"T_db508c64_a740_11ea_aa37_d5b3f8d607f2row1_col7\" class=\"data row1 col7\" >0.03</td>\n",
       "                        <td id=\"T_db508c64_a740_11ea_aa37_d5b3f8d607f2row1_col8\" class=\"data row1 col8\" >-0.03</td>\n",
       "                        <td id=\"T_db508c64_a740_11ea_aa37_d5b3f8d607f2row1_col9\" class=\"data row1 col9\" >-0.04</td>\n",
       "                        <td id=\"T_db508c64_a740_11ea_aa37_d5b3f8d607f2row1_col10\" class=\"data row1 col10\" >0.07</td>\n",
       "                        <td id=\"T_db508c64_a740_11ea_aa37_d5b3f8d607f2row1_col11\" class=\"data row1 col11\" >-0.19</td>\n",
       "            </tr>\n",
       "            <tr>\n",
       "                        <th id=\"T_db508c64_a740_11ea_aa37_d5b3f8d607f2level0_row2\" class=\"row_heading level0 row2\" >citric acid</th>\n",
       "                        <td id=\"T_db508c64_a740_11ea_aa37_d5b3f8d607f2row2_col0\" class=\"data row2 col0\" >0.29</td>\n",
       "                        <td id=\"T_db508c64_a740_11ea_aa37_d5b3f8d607f2row2_col1\" class=\"data row2 col1\" >-0.15</td>\n",
       "                        <td id=\"T_db508c64_a740_11ea_aa37_d5b3f8d607f2row2_col2\" class=\"data row2 col2\" >1</td>\n",
       "                        <td id=\"T_db508c64_a740_11ea_aa37_d5b3f8d607f2row2_col3\" class=\"data row2 col3\" >0.09</td>\n",
       "                        <td id=\"T_db508c64_a740_11ea_aa37_d5b3f8d607f2row2_col4\" class=\"data row2 col4\" >0.11</td>\n",
       "                        <td id=\"T_db508c64_a740_11ea_aa37_d5b3f8d607f2row2_col5\" class=\"data row2 col5\" >0.09</td>\n",
       "                        <td id=\"T_db508c64_a740_11ea_aa37_d5b3f8d607f2row2_col6\" class=\"data row2 col6\" >0.12</td>\n",
       "                        <td id=\"T_db508c64_a740_11ea_aa37_d5b3f8d607f2row2_col7\" class=\"data row2 col7\" >0.15</td>\n",
       "                        <td id=\"T_db508c64_a740_11ea_aa37_d5b3f8d607f2row2_col8\" class=\"data row2 col8\" >-0.16</td>\n",
       "                        <td id=\"T_db508c64_a740_11ea_aa37_d5b3f8d607f2row2_col9\" class=\"data row2 col9\" >0.06</td>\n",
       "                        <td id=\"T_db508c64_a740_11ea_aa37_d5b3f8d607f2row2_col10\" class=\"data row2 col10\" >-0.08</td>\n",
       "                        <td id=\"T_db508c64_a740_11ea_aa37_d5b3f8d607f2row2_col11\" class=\"data row2 col11\" >-0.01</td>\n",
       "            </tr>\n",
       "            <tr>\n",
       "                        <th id=\"T_db508c64_a740_11ea_aa37_d5b3f8d607f2level0_row3\" class=\"row_heading level0 row3\" >residual sugar</th>\n",
       "                        <td id=\"T_db508c64_a740_11ea_aa37_d5b3f8d607f2row3_col0\" class=\"data row3 col0\" >0.09</td>\n",
       "                        <td id=\"T_db508c64_a740_11ea_aa37_d5b3f8d607f2row3_col1\" class=\"data row3 col1\" >0.06</td>\n",
       "                        <td id=\"T_db508c64_a740_11ea_aa37_d5b3f8d607f2row3_col2\" class=\"data row3 col2\" >0.09</td>\n",
       "                        <td id=\"T_db508c64_a740_11ea_aa37_d5b3f8d607f2row3_col3\" class=\"data row3 col3\" >1</td>\n",
       "                        <td id=\"T_db508c64_a740_11ea_aa37_d5b3f8d607f2row3_col4\" class=\"data row3 col4\" >0.09</td>\n",
       "                        <td id=\"T_db508c64_a740_11ea_aa37_d5b3f8d607f2row3_col5\" class=\"data row3 col5\" >0.3</td>\n",
       "                        <td id=\"T_db508c64_a740_11ea_aa37_d5b3f8d607f2row3_col6\" class=\"data row3 col6\" >0.4</td>\n",
       "                        <td id=\"T_db508c64_a740_11ea_aa37_d5b3f8d607f2row3_col7\" class=\"data row3 col7\" >0.84</td>\n",
       "                        <td id=\"T_db508c64_a740_11ea_aa37_d5b3f8d607f2row3_col8\" class=\"data row3 col8\" >-0.19</td>\n",
       "                        <td id=\"T_db508c64_a740_11ea_aa37_d5b3f8d607f2row3_col9\" class=\"data row3 col9\" >-0.03</td>\n",
       "                        <td id=\"T_db508c64_a740_11ea_aa37_d5b3f8d607f2row3_col10\" class=\"data row3 col10\" >-0.45</td>\n",
       "                        <td id=\"T_db508c64_a740_11ea_aa37_d5b3f8d607f2row3_col11\" class=\"data row3 col11\" >-0.1</td>\n",
       "            </tr>\n",
       "            <tr>\n",
       "                        <th id=\"T_db508c64_a740_11ea_aa37_d5b3f8d607f2level0_row4\" class=\"row_heading level0 row4\" >chlorides</th>\n",
       "                        <td id=\"T_db508c64_a740_11ea_aa37_d5b3f8d607f2row4_col0\" class=\"data row4 col0\" >0.02</td>\n",
       "                        <td id=\"T_db508c64_a740_11ea_aa37_d5b3f8d607f2row4_col1\" class=\"data row4 col1\" >0.07</td>\n",
       "                        <td id=\"T_db508c64_a740_11ea_aa37_d5b3f8d607f2row4_col2\" class=\"data row4 col2\" >0.11</td>\n",
       "                        <td id=\"T_db508c64_a740_11ea_aa37_d5b3f8d607f2row4_col3\" class=\"data row4 col3\" >0.09</td>\n",
       "                        <td id=\"T_db508c64_a740_11ea_aa37_d5b3f8d607f2row4_col4\" class=\"data row4 col4\" >1</td>\n",
       "                        <td id=\"T_db508c64_a740_11ea_aa37_d5b3f8d607f2row4_col5\" class=\"data row4 col5\" >0.1</td>\n",
       "                        <td id=\"T_db508c64_a740_11ea_aa37_d5b3f8d607f2row4_col6\" class=\"data row4 col6\" >0.2</td>\n",
       "                        <td id=\"T_db508c64_a740_11ea_aa37_d5b3f8d607f2row4_col7\" class=\"data row4 col7\" >0.26</td>\n",
       "                        <td id=\"T_db508c64_a740_11ea_aa37_d5b3f8d607f2row4_col8\" class=\"data row4 col8\" >-0.09</td>\n",
       "                        <td id=\"T_db508c64_a740_11ea_aa37_d5b3f8d607f2row4_col9\" class=\"data row4 col9\" >0.02</td>\n",
       "                        <td id=\"T_db508c64_a740_11ea_aa37_d5b3f8d607f2row4_col10\" class=\"data row4 col10\" >-0.36</td>\n",
       "                        <td id=\"T_db508c64_a740_11ea_aa37_d5b3f8d607f2row4_col11\" class=\"data row4 col11\" >-0.21</td>\n",
       "            </tr>\n",
       "            <tr>\n",
       "                        <th id=\"T_db508c64_a740_11ea_aa37_d5b3f8d607f2level0_row5\" class=\"row_heading level0 row5\" >free sulfur dioxide</th>\n",
       "                        <td id=\"T_db508c64_a740_11ea_aa37_d5b3f8d607f2row5_col0\" class=\"data row5 col0\" >-0.05</td>\n",
       "                        <td id=\"T_db508c64_a740_11ea_aa37_d5b3f8d607f2row5_col1\" class=\"data row5 col1\" >-0.1</td>\n",
       "                        <td id=\"T_db508c64_a740_11ea_aa37_d5b3f8d607f2row5_col2\" class=\"data row5 col2\" >0.09</td>\n",
       "                        <td id=\"T_db508c64_a740_11ea_aa37_d5b3f8d607f2row5_col3\" class=\"data row5 col3\" >0.3</td>\n",
       "                        <td id=\"T_db508c64_a740_11ea_aa37_d5b3f8d607f2row5_col4\" class=\"data row5 col4\" >0.1</td>\n",
       "                        <td id=\"T_db508c64_a740_11ea_aa37_d5b3f8d607f2row5_col5\" class=\"data row5 col5\" >1</td>\n",
       "                        <td id=\"T_db508c64_a740_11ea_aa37_d5b3f8d607f2row5_col6\" class=\"data row5 col6\" >0.62</td>\n",
       "                        <td id=\"T_db508c64_a740_11ea_aa37_d5b3f8d607f2row5_col7\" class=\"data row5 col7\" >0.29</td>\n",
       "                        <td id=\"T_db508c64_a740_11ea_aa37_d5b3f8d607f2row5_col8\" class=\"data row5 col8\" >-0</td>\n",
       "                        <td id=\"T_db508c64_a740_11ea_aa37_d5b3f8d607f2row5_col9\" class=\"data row5 col9\" >0.06</td>\n",
       "                        <td id=\"T_db508c64_a740_11ea_aa37_d5b3f8d607f2row5_col10\" class=\"data row5 col10\" >-0.25</td>\n",
       "                        <td id=\"T_db508c64_a740_11ea_aa37_d5b3f8d607f2row5_col11\" class=\"data row5 col11\" >0.01</td>\n",
       "            </tr>\n",
       "            <tr>\n",
       "                        <th id=\"T_db508c64_a740_11ea_aa37_d5b3f8d607f2level0_row6\" class=\"row_heading level0 row6\" >total sulfur dioxide</th>\n",
       "                        <td id=\"T_db508c64_a740_11ea_aa37_d5b3f8d607f2row6_col0\" class=\"data row6 col0\" >0.09</td>\n",
       "                        <td id=\"T_db508c64_a740_11ea_aa37_d5b3f8d607f2row6_col1\" class=\"data row6 col1\" >0.09</td>\n",
       "                        <td id=\"T_db508c64_a740_11ea_aa37_d5b3f8d607f2row6_col2\" class=\"data row6 col2\" >0.12</td>\n",
       "                        <td id=\"T_db508c64_a740_11ea_aa37_d5b3f8d607f2row6_col3\" class=\"data row6 col3\" >0.4</td>\n",
       "                        <td id=\"T_db508c64_a740_11ea_aa37_d5b3f8d607f2row6_col4\" class=\"data row6 col4\" >0.2</td>\n",
       "                        <td id=\"T_db508c64_a740_11ea_aa37_d5b3f8d607f2row6_col5\" class=\"data row6 col5\" >0.62</td>\n",
       "                        <td id=\"T_db508c64_a740_11ea_aa37_d5b3f8d607f2row6_col6\" class=\"data row6 col6\" >1</td>\n",
       "                        <td id=\"T_db508c64_a740_11ea_aa37_d5b3f8d607f2row6_col7\" class=\"data row6 col7\" >0.53</td>\n",
       "                        <td id=\"T_db508c64_a740_11ea_aa37_d5b3f8d607f2row6_col8\" class=\"data row6 col8\" >0</td>\n",
       "                        <td id=\"T_db508c64_a740_11ea_aa37_d5b3f8d607f2row6_col9\" class=\"data row6 col9\" >0.13</td>\n",
       "                        <td id=\"T_db508c64_a740_11ea_aa37_d5b3f8d607f2row6_col10\" class=\"data row6 col10\" >-0.45</td>\n",
       "                        <td id=\"T_db508c64_a740_11ea_aa37_d5b3f8d607f2row6_col11\" class=\"data row6 col11\" >-0.17</td>\n",
       "            </tr>\n",
       "            <tr>\n",
       "                        <th id=\"T_db508c64_a740_11ea_aa37_d5b3f8d607f2level0_row7\" class=\"row_heading level0 row7\" >density</th>\n",
       "                        <td id=\"T_db508c64_a740_11ea_aa37_d5b3f8d607f2row7_col0\" class=\"data row7 col0\" >0.27</td>\n",
       "                        <td id=\"T_db508c64_a740_11ea_aa37_d5b3f8d607f2row7_col1\" class=\"data row7 col1\" >0.03</td>\n",
       "                        <td id=\"T_db508c64_a740_11ea_aa37_d5b3f8d607f2row7_col2\" class=\"data row7 col2\" >0.15</td>\n",
       "                        <td id=\"T_db508c64_a740_11ea_aa37_d5b3f8d607f2row7_col3\" class=\"data row7 col3\" >0.84</td>\n",
       "                        <td id=\"T_db508c64_a740_11ea_aa37_d5b3f8d607f2row7_col4\" class=\"data row7 col4\" >0.26</td>\n",
       "                        <td id=\"T_db508c64_a740_11ea_aa37_d5b3f8d607f2row7_col5\" class=\"data row7 col5\" >0.29</td>\n",
       "                        <td id=\"T_db508c64_a740_11ea_aa37_d5b3f8d607f2row7_col6\" class=\"data row7 col6\" >0.53</td>\n",
       "                        <td id=\"T_db508c64_a740_11ea_aa37_d5b3f8d607f2row7_col7\" class=\"data row7 col7\" >1</td>\n",
       "                        <td id=\"T_db508c64_a740_11ea_aa37_d5b3f8d607f2row7_col8\" class=\"data row7 col8\" >-0.09</td>\n",
       "                        <td id=\"T_db508c64_a740_11ea_aa37_d5b3f8d607f2row7_col9\" class=\"data row7 col9\" >0.07</td>\n",
       "                        <td id=\"T_db508c64_a740_11ea_aa37_d5b3f8d607f2row7_col10\" class=\"data row7 col10\" >-0.78</td>\n",
       "                        <td id=\"T_db508c64_a740_11ea_aa37_d5b3f8d607f2row7_col11\" class=\"data row7 col11\" >-0.31</td>\n",
       "            </tr>\n",
       "            <tr>\n",
       "                        <th id=\"T_db508c64_a740_11ea_aa37_d5b3f8d607f2level0_row8\" class=\"row_heading level0 row8\" >pH</th>\n",
       "                        <td id=\"T_db508c64_a740_11ea_aa37_d5b3f8d607f2row8_col0\" class=\"data row8 col0\" >-0.43</td>\n",
       "                        <td id=\"T_db508c64_a740_11ea_aa37_d5b3f8d607f2row8_col1\" class=\"data row8 col1\" >-0.03</td>\n",
       "                        <td id=\"T_db508c64_a740_11ea_aa37_d5b3f8d607f2row8_col2\" class=\"data row8 col2\" >-0.16</td>\n",
       "                        <td id=\"T_db508c64_a740_11ea_aa37_d5b3f8d607f2row8_col3\" class=\"data row8 col3\" >-0.19</td>\n",
       "                        <td id=\"T_db508c64_a740_11ea_aa37_d5b3f8d607f2row8_col4\" class=\"data row8 col4\" >-0.09</td>\n",
       "                        <td id=\"T_db508c64_a740_11ea_aa37_d5b3f8d607f2row8_col5\" class=\"data row8 col5\" >-0</td>\n",
       "                        <td id=\"T_db508c64_a740_11ea_aa37_d5b3f8d607f2row8_col6\" class=\"data row8 col6\" >0</td>\n",
       "                        <td id=\"T_db508c64_a740_11ea_aa37_d5b3f8d607f2row8_col7\" class=\"data row8 col7\" >-0.09</td>\n",
       "                        <td id=\"T_db508c64_a740_11ea_aa37_d5b3f8d607f2row8_col8\" class=\"data row8 col8\" >1</td>\n",
       "                        <td id=\"T_db508c64_a740_11ea_aa37_d5b3f8d607f2row8_col9\" class=\"data row8 col9\" >0.16</td>\n",
       "                        <td id=\"T_db508c64_a740_11ea_aa37_d5b3f8d607f2row8_col10\" class=\"data row8 col10\" >0.12</td>\n",
       "                        <td id=\"T_db508c64_a740_11ea_aa37_d5b3f8d607f2row8_col11\" class=\"data row8 col11\" >0.1</td>\n",
       "            </tr>\n",
       "            <tr>\n",
       "                        <th id=\"T_db508c64_a740_11ea_aa37_d5b3f8d607f2level0_row9\" class=\"row_heading level0 row9\" >sulphates</th>\n",
       "                        <td id=\"T_db508c64_a740_11ea_aa37_d5b3f8d607f2row9_col0\" class=\"data row9 col0\" >-0.02</td>\n",
       "                        <td id=\"T_db508c64_a740_11ea_aa37_d5b3f8d607f2row9_col1\" class=\"data row9 col1\" >-0.04</td>\n",
       "                        <td id=\"T_db508c64_a740_11ea_aa37_d5b3f8d607f2row9_col2\" class=\"data row9 col2\" >0.06</td>\n",
       "                        <td id=\"T_db508c64_a740_11ea_aa37_d5b3f8d607f2row9_col3\" class=\"data row9 col3\" >-0.03</td>\n",
       "                        <td id=\"T_db508c64_a740_11ea_aa37_d5b3f8d607f2row9_col4\" class=\"data row9 col4\" >0.02</td>\n",
       "                        <td id=\"T_db508c64_a740_11ea_aa37_d5b3f8d607f2row9_col5\" class=\"data row9 col5\" >0.06</td>\n",
       "                        <td id=\"T_db508c64_a740_11ea_aa37_d5b3f8d607f2row9_col6\" class=\"data row9 col6\" >0.13</td>\n",
       "                        <td id=\"T_db508c64_a740_11ea_aa37_d5b3f8d607f2row9_col7\" class=\"data row9 col7\" >0.07</td>\n",
       "                        <td id=\"T_db508c64_a740_11ea_aa37_d5b3f8d607f2row9_col8\" class=\"data row9 col8\" >0.16</td>\n",
       "                        <td id=\"T_db508c64_a740_11ea_aa37_d5b3f8d607f2row9_col9\" class=\"data row9 col9\" >1</td>\n",
       "                        <td id=\"T_db508c64_a740_11ea_aa37_d5b3f8d607f2row9_col10\" class=\"data row9 col10\" >-0.02</td>\n",
       "                        <td id=\"T_db508c64_a740_11ea_aa37_d5b3f8d607f2row9_col11\" class=\"data row9 col11\" >0.05</td>\n",
       "            </tr>\n",
       "            <tr>\n",
       "                        <th id=\"T_db508c64_a740_11ea_aa37_d5b3f8d607f2level0_row10\" class=\"row_heading level0 row10\" >alcohol</th>\n",
       "                        <td id=\"T_db508c64_a740_11ea_aa37_d5b3f8d607f2row10_col0\" class=\"data row10 col0\" >-0.12</td>\n",
       "                        <td id=\"T_db508c64_a740_11ea_aa37_d5b3f8d607f2row10_col1\" class=\"data row10 col1\" >0.07</td>\n",
       "                        <td id=\"T_db508c64_a740_11ea_aa37_d5b3f8d607f2row10_col2\" class=\"data row10 col2\" >-0.08</td>\n",
       "                        <td id=\"T_db508c64_a740_11ea_aa37_d5b3f8d607f2row10_col3\" class=\"data row10 col3\" >-0.45</td>\n",
       "                        <td id=\"T_db508c64_a740_11ea_aa37_d5b3f8d607f2row10_col4\" class=\"data row10 col4\" >-0.36</td>\n",
       "                        <td id=\"T_db508c64_a740_11ea_aa37_d5b3f8d607f2row10_col5\" class=\"data row10 col5\" >-0.25</td>\n",
       "                        <td id=\"T_db508c64_a740_11ea_aa37_d5b3f8d607f2row10_col6\" class=\"data row10 col6\" >-0.45</td>\n",
       "                        <td id=\"T_db508c64_a740_11ea_aa37_d5b3f8d607f2row10_col7\" class=\"data row10 col7\" >-0.78</td>\n",
       "                        <td id=\"T_db508c64_a740_11ea_aa37_d5b3f8d607f2row10_col8\" class=\"data row10 col8\" >0.12</td>\n",
       "                        <td id=\"T_db508c64_a740_11ea_aa37_d5b3f8d607f2row10_col9\" class=\"data row10 col9\" >-0.02</td>\n",
       "                        <td id=\"T_db508c64_a740_11ea_aa37_d5b3f8d607f2row10_col10\" class=\"data row10 col10\" >1</td>\n",
       "                        <td id=\"T_db508c64_a740_11ea_aa37_d5b3f8d607f2row10_col11\" class=\"data row10 col11\" >0.44</td>\n",
       "            </tr>\n",
       "            <tr>\n",
       "                        <th id=\"T_db508c64_a740_11ea_aa37_d5b3f8d607f2level0_row11\" class=\"row_heading level0 row11\" >quality</th>\n",
       "                        <td id=\"T_db508c64_a740_11ea_aa37_d5b3f8d607f2row11_col0\" class=\"data row11 col0\" >-0.11</td>\n",
       "                        <td id=\"T_db508c64_a740_11ea_aa37_d5b3f8d607f2row11_col1\" class=\"data row11 col1\" >-0.19</td>\n",
       "                        <td id=\"T_db508c64_a740_11ea_aa37_d5b3f8d607f2row11_col2\" class=\"data row11 col2\" >-0.01</td>\n",
       "                        <td id=\"T_db508c64_a740_11ea_aa37_d5b3f8d607f2row11_col3\" class=\"data row11 col3\" >-0.1</td>\n",
       "                        <td id=\"T_db508c64_a740_11ea_aa37_d5b3f8d607f2row11_col4\" class=\"data row11 col4\" >-0.21</td>\n",
       "                        <td id=\"T_db508c64_a740_11ea_aa37_d5b3f8d607f2row11_col5\" class=\"data row11 col5\" >0.01</td>\n",
       "                        <td id=\"T_db508c64_a740_11ea_aa37_d5b3f8d607f2row11_col6\" class=\"data row11 col6\" >-0.17</td>\n",
       "                        <td id=\"T_db508c64_a740_11ea_aa37_d5b3f8d607f2row11_col7\" class=\"data row11 col7\" >-0.31</td>\n",
       "                        <td id=\"T_db508c64_a740_11ea_aa37_d5b3f8d607f2row11_col8\" class=\"data row11 col8\" >0.1</td>\n",
       "                        <td id=\"T_db508c64_a740_11ea_aa37_d5b3f8d607f2row11_col9\" class=\"data row11 col9\" >0.05</td>\n",
       "                        <td id=\"T_db508c64_a740_11ea_aa37_d5b3f8d607f2row11_col10\" class=\"data row11 col10\" >0.44</td>\n",
       "                        <td id=\"T_db508c64_a740_11ea_aa37_d5b3f8d607f2row11_col11\" class=\"data row11 col11\" >1</td>\n",
       "            </tr>\n",
       "    </tbody></table>"
      ],
      "text/plain": [
       "<pandas.io.formats.style.Styler at 0x7f46539e9990>"
      ]
     },
     "execution_count": 317,
     "metadata": {},
     "output_type": "execute_result"
    }
   ],
   "source": [
    "corr = df.corr().round(2)\n",
    "corr.style.background_gradient(cmap='coolwarm')"
   ]
  },
  {
   "cell_type": "code",
   "execution_count": 318,
   "metadata": {},
   "outputs": [
    {
     "data": {
      "text/plain": [
       "<matplotlib.axes._subplots.AxesSubplot at 0x7f4653c939d0>"
      ]
     },
     "execution_count": 318,
     "metadata": {},
     "output_type": "execute_result"
    },
    {
     "data": {
      "image/png": "[encoded data removed]",
      "text/plain": [
       "<Figure size 1080x1080 with 15 Axes>"
      ]
     },
     "metadata": {
      "needs_background": "light"
     },
     "output_type": "display_data"
    }
   ],
   "source": [
    "f, axes = plt.subplots(5, 3,figsize=(15,15))\n",
    "\n",
    "sns.scatterplot(x='fixed acidity',y='citric acid',data=df, ax=axes[0][0])\n",
    "sns.scatterplot(x='fixed acidity',y='density',data=df, ax=axes[0][1])\n",
    "sns.scatterplot(x='fixed acidity',y='pH',data=df, ax=axes[0][2])\n",
    "sns.scatterplot(x='volatile acidity',y='citric acid',data=df, ax=axes[1][0])\n",
    "sns.scatterplot(x='volatile acidity',y='quality',data=df, ax=axes[1][1])\n",
    "sns.scatterplot(x='fixed acidity',y='density',data=df, ax=axes[1][2])\n",
    "sns.scatterplot(x='citric acid',y='density',data=df, ax=axes[2][0])\n",
    "sns.scatterplot(x='citric acid',y='pH',data=df, ax=axes[2][1])\n",
    "sns.scatterplot(x='citric acid',y='sulphates',data=df, ax=axes[2][2])\n",
    "sns.scatterplot(x='residual sugar',y='density',data=df, ax=axes[3][0])\n",
    "sns.scatterplot(x='chlorides',y='sulphates',data=df, ax=axes[3][1])\n",
    "sns.scatterplot(x='free sulfur dioxide',y='total sulfur dioxide',data=df, ax=axes[3][2])\n",
    "sns.scatterplot(x='density',y='pH',data=df, ax=axes[4][0])\n",
    "sns.scatterplot(x='density',y='alcohol',data=df, ax=axes[4][1])\n",
    "sns.scatterplot(x='quality',y='alcohol',data=df, ax=axes[4][2])\n",
    "\n"
   ]
  },
  {
   "cell_type": "markdown",
   "metadata": {},
   "source": [
    "Finally, some boxplots could give some hints on which variables are more related with a change in quality."
   ]
  },
  {
   "cell_type": "code",
   "execution_count": 319,
   "metadata": {},
   "outputs": [
    {
     "data": {
      "image/png": "[encoded data removed]",
      "text/plain": [
       "<Figure size 1080x1080 with 12 Axes>"
      ]
     },
     "metadata": {
      "needs_background": "light"
     },
     "output_type": "display_data"
    }
   ],
   "source": [
    "f, axes = plt.subplots(4, 3,figsize=(15,15))\n",
    "\n",
    "i=0\n",
    "j=0\n",
    "\n",
    "for item in col:\n",
    "    sns.boxplot(x='quality',y=item,data=df, ax=axes[i][j])\n",
    "    if j != 2 :\n",
    "        j=j+1\n",
    "    else:\n",
    "        i=i+1\n",
    "        j=0\n"
   ]
  },
  {
   "cell_type": "markdown",
   "metadata": {},
   "source": [
    "From this plot some features seems more informative than others. Let's proceed with a feature selection, then. "
   ]
  },
  {
   "cell_type": "markdown",
   "metadata": {},
   "source": [
    "## Feature Importance"
   ]
  },
  {
   "cell_type": "code",
   "execution_count": 320,
   "metadata": {},
   "outputs": [],
   "source": [
    "X=df[['fixed acidity', 'volatile acidity', 'citric acid', 'residual sugar',\n",
    "       'chlorides', 'free sulfur dioxide', 'total sulfur dioxide', 'density',\n",
    "       'pH', 'sulphates', 'alcohol']]\n",
    "y=df[['quality']]"
   ]
  },
  {
   "cell_type": "code",
   "execution_count": 321,
   "metadata": {},
   "outputs": [
    {
     "name": "stderr",
     "output_type": "stream",
     "text": [
      "/home/IT043026/anaconda2/envs/python3/lib/python3.7/site-packages/sklearn/utils/validation.py:73: DataConversionWarning: A column-vector y was passed when a 1d array was expected. Please change the shape of y to (n_samples, ), for example using ravel().\n",
      "  return f(**kwargs)\n"
     ]
    },
    {
     "data": {
      "text/html": [
       "<div>\n",
       "<style scoped>\n",
       "    .dataframe tbody tr th:only-of-type {\n",
       "        vertical-align: middle;\n",
       "    }\n",
       "\n",
       "    .dataframe tbody tr th {\n",
       "        vertical-align: top;\n",
       "    }\n",
       "\n",
       "    .dataframe thead th {\n",
       "        text-align: right;\n",
       "    }\n",
       "</style>\n",
       "<table border=\"1\" class=\"dataframe\">\n",
       "  <thead>\n",
       "    <tr style=\"text-align: right;\">\n",
       "      <th></th>\n",
       "      <th>fixed acidity</th>\n",
       "      <th>volatile acidity</th>\n",
       "      <th>citric acid</th>\n",
       "      <th>residual sugar</th>\n",
       "      <th>chlorides</th>\n",
       "      <th>free sulfur dioxide</th>\n",
       "      <th>total sulfur dioxide</th>\n",
       "      <th>density</th>\n",
       "      <th>pH</th>\n",
       "      <th>sulphates</th>\n",
       "      <th>alcohol</th>\n",
       "    </tr>\n",
       "  </thead>\n",
       "  <tbody>\n",
       "    <tr>\n",
       "      <th>0</th>\n",
       "      <td>12.89</td>\n",
       "      <td>61.92</td>\n",
       "      <td>3.25</td>\n",
       "      <td>21.27</td>\n",
       "      <td>42.47</td>\n",
       "      <td>19.72</td>\n",
       "      <td>45.2</td>\n",
       "      <td>105.86</td>\n",
       "      <td>10.1</td>\n",
       "      <td>3.64</td>\n",
       "      <td>229.73</td>\n",
       "    </tr>\n",
       "    <tr>\n",
       "      <th>1</th>\n",
       "      <td>0.00</td>\n",
       "      <td>0.00</td>\n",
       "      <td>0.00</td>\n",
       "      <td>0.00</td>\n",
       "      <td>0.00</td>\n",
       "      <td>0.00</td>\n",
       "      <td>0.0</td>\n",
       "      <td>0.00</td>\n",
       "      <td>0.0</td>\n",
       "      <td>0.00</td>\n",
       "      <td>0.00</td>\n",
       "    </tr>\n",
       "  </tbody>\n",
       "</table>\n",
       "</div>"
      ],
      "text/plain": [
       "   fixed acidity  volatile acidity  citric acid  residual sugar  chlorides  \\\n",
       "0          12.89             61.92         3.25           21.27      42.47   \n",
       "1           0.00              0.00         0.00            0.00       0.00   \n",
       "\n",
       "   free sulfur dioxide  total sulfur dioxide  density    pH  sulphates  \\\n",
       "0                19.72                  45.2   105.86  10.1       3.64   \n",
       "1                 0.00                   0.0     0.00   0.0       0.00   \n",
       "\n",
       "   alcohol  \n",
       "0   229.73  \n",
       "1     0.00  "
      ]
     },
     "execution_count": 321,
     "metadata": {},
     "output_type": "execute_result"
    }
   ],
   "source": [
    "FS=fs.f_classif(X, y)\n",
    "ffss=pd.DataFrame(FS)\n",
    "ffss.round(2).head()\n",
    "ffss.columns=['fixed acidity', 'volatile acidity', 'citric acid', 'residual sugar',\n",
    "       'chlorides', 'free sulfur dioxide', 'total sulfur dioxide', 'density',\n",
    "       'pH', 'sulphates', 'alcohol']\n",
    "ffss.round(2).head()"
   ]
  },
  {
   "cell_type": "markdown",
   "metadata": {},
   "source": [
    "From this results we can see that the features affect the quality in different ways. All the results have a low p-value, so there is significance in this findings.\n",
    "\n",
    "I will carry on the classification using all the features and then only the features with an F value higher than 50, at a significant level, to see the difference in scores, that I guess to be low. "
   ]
  },
  {
   "cell_type": "markdown",
   "metadata": {},
   "source": [
    "## Classification Job\n",
    "\n",
    "Let's start assigning to wine with quality score higher or equal to 6 the label 'good' and to the others the label 'poor'."
   ]
  },
  {
   "cell_type": "code",
   "execution_count": 375,
   "metadata": {},
   "outputs": [],
   "source": [
    "a=[]\n",
    "for element in df['quality']:\n",
    "    if element > 6:\n",
    "        a.append('good')\n",
    "    else:\n",
    "        a.append('poor')\n",
    "df['rating']=a"
   ]
  },
  {
   "cell_type": "code",
   "execution_count": 376,
   "metadata": {},
   "outputs": [
    {
     "data": {
      "text/html": [
       "<div>\n",
       "<style scoped>\n",
       "    .dataframe tbody tr th:only-of-type {\n",
       "        vertical-align: middle;\n",
       "    }\n",
       "\n",
       "    .dataframe tbody tr th {\n",
       "        vertical-align: top;\n",
       "    }\n",
       "\n",
       "    .dataframe thead th {\n",
       "        text-align: right;\n",
       "    }\n",
       "</style>\n",
       "<table border=\"1\" class=\"dataframe\">\n",
       "  <thead>\n",
       "    <tr style=\"text-align: right;\">\n",
       "      <th></th>\n",
       "      <th>fixed acidity</th>\n",
       "      <th>volatile acidity</th>\n",
       "      <th>citric acid</th>\n",
       "      <th>residual sugar</th>\n",
       "      <th>chlorides</th>\n",
       "      <th>free sulfur dioxide</th>\n",
       "      <th>total sulfur dioxide</th>\n",
       "      <th>density</th>\n",
       "      <th>pH</th>\n",
       "      <th>sulphates</th>\n",
       "      <th>alcohol</th>\n",
       "      <th>quality</th>\n",
       "      <th>rating</th>\n",
       "    </tr>\n",
       "  </thead>\n",
       "  <tbody>\n",
       "    <tr>\n",
       "      <th>0</th>\n",
       "      <td>7.0</td>\n",
       "      <td>0.27</td>\n",
       "      <td>0.36</td>\n",
       "      <td>20.7</td>\n",
       "      <td>0.045</td>\n",
       "      <td>45.0</td>\n",
       "      <td>170.0</td>\n",
       "      <td>1.0010</td>\n",
       "      <td>3.00</td>\n",
       "      <td>0.45</td>\n",
       "      <td>8.8</td>\n",
       "      <td>6</td>\n",
       "      <td>poor</td>\n",
       "    </tr>\n",
       "    <tr>\n",
       "      <th>1</th>\n",
       "      <td>6.3</td>\n",
       "      <td>0.30</td>\n",
       "      <td>0.34</td>\n",
       "      <td>1.6</td>\n",
       "      <td>0.049</td>\n",
       "      <td>14.0</td>\n",
       "      <td>132.0</td>\n",
       "      <td>0.9940</td>\n",
       "      <td>3.30</td>\n",
       "      <td>0.49</td>\n",
       "      <td>9.5</td>\n",
       "      <td>6</td>\n",
       "      <td>poor</td>\n",
       "    </tr>\n",
       "    <tr>\n",
       "      <th>2</th>\n",
       "      <td>8.1</td>\n",
       "      <td>0.28</td>\n",
       "      <td>0.40</td>\n",
       "      <td>6.9</td>\n",
       "      <td>0.050</td>\n",
       "      <td>30.0</td>\n",
       "      <td>97.0</td>\n",
       "      <td>0.9951</td>\n",
       "      <td>3.26</td>\n",
       "      <td>0.44</td>\n",
       "      <td>10.1</td>\n",
       "      <td>6</td>\n",
       "      <td>poor</td>\n",
       "    </tr>\n",
       "    <tr>\n",
       "      <th>3</th>\n",
       "      <td>7.2</td>\n",
       "      <td>0.23</td>\n",
       "      <td>0.32</td>\n",
       "      <td>8.5</td>\n",
       "      <td>0.058</td>\n",
       "      <td>47.0</td>\n",
       "      <td>186.0</td>\n",
       "      <td>0.9956</td>\n",
       "      <td>3.19</td>\n",
       "      <td>0.40</td>\n",
       "      <td>9.9</td>\n",
       "      <td>6</td>\n",
       "      <td>poor</td>\n",
       "    </tr>\n",
       "    <tr>\n",
       "      <th>4</th>\n",
       "      <td>7.2</td>\n",
       "      <td>0.23</td>\n",
       "      <td>0.32</td>\n",
       "      <td>8.5</td>\n",
       "      <td>0.058</td>\n",
       "      <td>47.0</td>\n",
       "      <td>186.0</td>\n",
       "      <td>0.9956</td>\n",
       "      <td>3.19</td>\n",
       "      <td>0.40</td>\n",
       "      <td>9.9</td>\n",
       "      <td>6</td>\n",
       "      <td>poor</td>\n",
       "    </tr>\n",
       "  </tbody>\n",
       "</table>\n",
       "</div>"
      ],
      "text/plain": [
       "   fixed acidity  volatile acidity  citric acid  residual sugar  chlorides  \\\n",
       "0            7.0              0.27         0.36            20.7      0.045   \n",
       "1            6.3              0.30         0.34             1.6      0.049   \n",
       "2            8.1              0.28         0.40             6.9      0.050   \n",
       "3            7.2              0.23         0.32             8.5      0.058   \n",
       "4            7.2              0.23         0.32             8.5      0.058   \n",
       "\n",
       "   free sulfur dioxide  total sulfur dioxide  density    pH  sulphates  \\\n",
       "0                 45.0                 170.0   1.0010  3.00       0.45   \n",
       "1                 14.0                 132.0   0.9940  3.30       0.49   \n",
       "2                 30.0                  97.0   0.9951  3.26       0.44   \n",
       "3                 47.0                 186.0   0.9956  3.19       0.40   \n",
       "4                 47.0                 186.0   0.9956  3.19       0.40   \n",
       "\n",
       "   alcohol  quality rating  \n",
       "0      8.8        6   poor  \n",
       "1      9.5        6   poor  \n",
       "2     10.1        6   poor  \n",
       "3      9.9        6   poor  \n",
       "4      9.9        6   poor  "
      ]
     },
     "execution_count": 376,
     "metadata": {},
     "output_type": "execute_result"
    }
   ],
   "source": [
    "df.head()"
   ]
  },
  {
   "cell_type": "code",
   "execution_count": 377,
   "metadata": {},
   "outputs": [
    {
     "data": {
      "text/plain": [
       "Index(['fixed acidity', 'volatile acidity', 'citric acid', 'residual sugar',\n",
       "       'chlorides', 'free sulfur dioxide', 'total sulfur dioxide', 'density',\n",
       "       'pH', 'sulphates', 'alcohol', 'quality', 'rating'],\n",
       "      dtype='object')"
      ]
     },
     "execution_count": 377,
     "metadata": {},
     "output_type": "execute_result"
    }
   ],
   "source": [
    "df.columns"
   ]
  },
  {
   "cell_type": "markdown",
   "metadata": {},
   "source": [
    "I will now select all the features and scale them."
   ]
  },
  {
   "cell_type": "code",
   "execution_count": 378,
   "metadata": {},
   "outputs": [
    {
     "data": {
      "text/html": [
       "<div>\n",
       "<style scoped>\n",
       "    .dataframe tbody tr th:only-of-type {\n",
       "        vertical-align: middle;\n",
       "    }\n",
       "\n",
       "    .dataframe tbody tr th {\n",
       "        vertical-align: top;\n",
       "    }\n",
       "\n",
       "    .dataframe thead th {\n",
       "        text-align: right;\n",
       "    }\n",
       "</style>\n",
       "<table border=\"1\" class=\"dataframe\">\n",
       "  <thead>\n",
       "    <tr style=\"text-align: right;\">\n",
       "      <th></th>\n",
       "      <th>fixed acidity</th>\n",
       "      <th>volatile acidity</th>\n",
       "      <th>citric acid</th>\n",
       "      <th>residual sugar</th>\n",
       "      <th>chlorides</th>\n",
       "      <th>free sulfur dioxide</th>\n",
       "      <th>total sulfur dioxide</th>\n",
       "      <th>density</th>\n",
       "      <th>pH</th>\n",
       "      <th>sulphates</th>\n",
       "      <th>alcohol</th>\n",
       "    </tr>\n",
       "  </thead>\n",
       "  <tbody>\n",
       "    <tr>\n",
       "      <th>0</th>\n",
       "      <td>7.0</td>\n",
       "      <td>0.27</td>\n",
       "      <td>0.36</td>\n",
       "      <td>20.7</td>\n",
       "      <td>0.045</td>\n",
       "      <td>45.0</td>\n",
       "      <td>170.0</td>\n",
       "      <td>1.0010</td>\n",
       "      <td>3.00</td>\n",
       "      <td>0.45</td>\n",
       "      <td>8.8</td>\n",
       "    </tr>\n",
       "    <tr>\n",
       "      <th>1</th>\n",
       "      <td>6.3</td>\n",
       "      <td>0.30</td>\n",
       "      <td>0.34</td>\n",
       "      <td>1.6</td>\n",
       "      <td>0.049</td>\n",
       "      <td>14.0</td>\n",
       "      <td>132.0</td>\n",
       "      <td>0.9940</td>\n",
       "      <td>3.30</td>\n",
       "      <td>0.49</td>\n",
       "      <td>9.5</td>\n",
       "    </tr>\n",
       "    <tr>\n",
       "      <th>2</th>\n",
       "      <td>8.1</td>\n",
       "      <td>0.28</td>\n",
       "      <td>0.40</td>\n",
       "      <td>6.9</td>\n",
       "      <td>0.050</td>\n",
       "      <td>30.0</td>\n",
       "      <td>97.0</td>\n",
       "      <td>0.9951</td>\n",
       "      <td>3.26</td>\n",
       "      <td>0.44</td>\n",
       "      <td>10.1</td>\n",
       "    </tr>\n",
       "    <tr>\n",
       "      <th>3</th>\n",
       "      <td>7.2</td>\n",
       "      <td>0.23</td>\n",
       "      <td>0.32</td>\n",
       "      <td>8.5</td>\n",
       "      <td>0.058</td>\n",
       "      <td>47.0</td>\n",
       "      <td>186.0</td>\n",
       "      <td>0.9956</td>\n",
       "      <td>3.19</td>\n",
       "      <td>0.40</td>\n",
       "      <td>9.9</td>\n",
       "    </tr>\n",
       "    <tr>\n",
       "      <th>4</th>\n",
       "      <td>7.2</td>\n",
       "      <td>0.23</td>\n",
       "      <td>0.32</td>\n",
       "      <td>8.5</td>\n",
       "      <td>0.058</td>\n",
       "      <td>47.0</td>\n",
       "      <td>186.0</td>\n",
       "      <td>0.9956</td>\n",
       "      <td>3.19</td>\n",
       "      <td>0.40</td>\n",
       "      <td>9.9</td>\n",
       "    </tr>\n",
       "  </tbody>\n",
       "</table>\n",
       "</div>"
      ],
      "text/plain": [
       "   fixed acidity  volatile acidity  citric acid  residual sugar  chlorides  \\\n",
       "0            7.0              0.27         0.36            20.7      0.045   \n",
       "1            6.3              0.30         0.34             1.6      0.049   \n",
       "2            8.1              0.28         0.40             6.9      0.050   \n",
       "3            7.2              0.23         0.32             8.5      0.058   \n",
       "4            7.2              0.23         0.32             8.5      0.058   \n",
       "\n",
       "   free sulfur dioxide  total sulfur dioxide  density    pH  sulphates  \\\n",
       "0                 45.0                 170.0   1.0010  3.00       0.45   \n",
       "1                 14.0                 132.0   0.9940  3.30       0.49   \n",
       "2                 30.0                  97.0   0.9951  3.26       0.44   \n",
       "3                 47.0                 186.0   0.9956  3.19       0.40   \n",
       "4                 47.0                 186.0   0.9956  3.19       0.40   \n",
       "\n",
       "   alcohol  \n",
       "0      8.8  \n",
       "1      9.5  \n",
       "2     10.1  \n",
       "3      9.9  \n",
       "4      9.9  "
      ]
     },
     "execution_count": 378,
     "metadata": {},
     "output_type": "execute_result"
    }
   ],
   "source": [
    "X=df[['fixed acidity', 'volatile acidity', 'citric acid', 'residual sugar',\n",
    "       'chlorides', 'free sulfur dioxide', 'total sulfur dioxide', 'density',\n",
    "       'pH', 'sulphates', 'alcohol']]\n",
    "X.head()"
   ]
  },
  {
   "cell_type": "code",
   "execution_count": 379,
   "metadata": {},
   "outputs": [],
   "source": [
    "y=a"
   ]
  },
  {
   "cell_type": "code",
   "execution_count": 380,
   "metadata": {},
   "outputs": [
    {
     "data": {
      "text/plain": [
       "array([[ 1.72096961e-01, -8.17699008e-02,  2.13280202e-01,\n",
       "         2.82134917e+00, -3.53550004e-02,  5.69931577e-01,\n",
       "         7.44565035e-01,  2.33151201e+00, -1.24692128e+00,\n",
       "        -3.49184257e-01, -1.39315246e+00],\n",
       "       [-6.57501128e-01,  2.15895632e-01,  4.80011213e-02,\n",
       "        -9.44765273e-01,  1.47747079e-01, -1.25301866e+00,\n",
       "        -1.49684624e-01, -9.15417164e-03,  7.40028640e-01,\n",
       "         1.34184656e-03, -8.24275678e-01],\n",
       "       [ 1.47575110e+00,  1.74519434e-02,  5.43838363e-01,\n",
       "         1.00282190e-01,  1.93522599e-01, -3.12141119e-01,\n",
       "        -9.73335626e-01,  3.58664800e-01,  4.75101984e-01,\n",
       "        -4.36815783e-01, -3.36667007e-01],\n",
       "       [ 4.09124986e-01, -4.78657278e-01, -1.17277959e-01,\n",
       "         4.15768217e-01,  5.59726758e-01,  6.87541270e-01,\n",
       "         1.12109121e+00,  5.25855242e-01,  1.14803354e-02,\n",
       "        -7.87341887e-01, -4.99203231e-01],\n",
       "       [ 4.09124986e-01, -4.78657278e-01, -1.17277959e-01,\n",
       "         4.15768217e-01,  5.59726758e-01,  6.87541270e-01,\n",
       "         1.12109121e+00,  5.25855242e-01,  1.14803354e-02,\n",
       "        -7.87341887e-01, -4.99203231e-01]])"
      ]
     },
     "execution_count": 380,
     "metadata": {},
     "output_type": "execute_result"
    }
   ],
   "source": [
    "X= preprocessing.StandardScaler().fit(X).transform(X)\n",
    "X[0:5]"
   ]
  },
  {
   "cell_type": "markdown",
   "metadata": {},
   "source": [
    "Now I split the dataset in train and test."
   ]
  },
  {
   "cell_type": "code",
   "execution_count": 381,
   "metadata": {},
   "outputs": [],
   "source": [
    "X_train_all, X_test, y_train_all, y_test = train_test_split( X, y, test_size=0.2, random_state=500)\n"
   ]
  },
  {
   "cell_type": "markdown",
   "metadata": {},
   "source": [
    "In order to select the best K for KNN, I will split again the train part of the dataset in train and evaluation part. "
   ]
  },
  {
   "cell_type": "code",
   "execution_count": 382,
   "metadata": {},
   "outputs": [],
   "source": [
    "X_train, X_eval, y_train, y_eval = train_test_split( X_train_all, y_train_all, test_size=0.2, random_state=100)\n"
   ]
  },
  {
   "cell_type": "code",
   "execution_count": 383,
   "metadata": {},
   "outputs": [
    {
     "data": {
      "text/plain": [
       "array([0.84693878, 0.79719388, 0.83418367, 0.80867347, 0.83418367,\n",
       "       0.81505102, 0.83418367, 0.83163265, 0.84183673, 0.83928571,\n",
       "       0.83035714, 0.83418367, 0.84056122, 0.83418367])"
      ]
     },
     "execution_count": 383,
     "metadata": {},
     "output_type": "execute_result"
    }
   ],
   "source": [
    "Ks = 15\n",
    "mean_acc = np.zeros((Ks-1))\n",
    "std_acc = np.zeros((Ks-1))\n",
    "for n in range(1,Ks):\n",
    "    \n",
    "    #Train Model and Predict  \n",
    "    neigh = KNeighborsClassifier(n_neighbors = n).fit(X_train,y_train)\n",
    "    yhat=neigh.predict(X_eval)\n",
    "    mean_acc[n-1] = metrics.accuracy_score(y_eval, yhat)\n",
    "\n",
    "    \n",
    "    std_acc[n-1]=np.std(yhat==y_eval)/np.sqrt(yhat.shape[0])\n",
    "\n",
    "mean_acc"
   ]
  },
  {
   "cell_type": "code",
   "execution_count": 384,
   "metadata": {},
   "outputs": [
    {
     "data": {
      "image/png": "[encoded data removed]",
      "text/plain": [
       "<Figure size 432x288 with 1 Axes>"
      ]
     },
     "metadata": {
      "needs_background": "light"
     },
     "output_type": "display_data"
    }
   ],
   "source": [
    "plt.plot(range(1,Ks),mean_acc,'g')\n",
    "plt.fill_between(range(1,Ks),mean_acc - 1 * std_acc,mean_acc + 1 * std_acc, alpha=0.10)\n",
    "plt.legend(('Accuracy ', '+/- 3xstd'))\n",
    "plt.ylabel('Accuracy ')\n",
    "plt.xlabel('Number of Nabors (K)')\n",
    "plt.tight_layout()\n",
    "plt.show()\n"
   ]
  },
  {
   "cell_type": "code",
   "execution_count": 385,
   "metadata": {},
   "outputs": [
    {
     "name": "stdout",
     "output_type": "stream",
     "text": [
      "The best accuracy was with 0.8469387755102041 with k= 1\n"
     ]
    }
   ],
   "source": [
    "print( \"The best accuracy was with\", mean_acc.max(), \"with k=\", mean_acc.argmax()+1) \n"
   ]
  },
  {
   "cell_type": "markdown",
   "metadata": {},
   "source": [
    "Using now the original train and test split, I will train 4 classifiers using KNN with K=1, Decision Tree, SVM and Logistic Regression. For each algorithm I will compute the significant metrics using the test dataset. "
   ]
  },
  {
   "cell_type": "code",
   "execution_count": 386,
   "metadata": {},
   "outputs": [
    {
     "data": {
      "text/plain": [
       "array([[140,  79],\n",
       "       [ 70, 691]])"
      ]
     },
     "execution_count": 386,
     "metadata": {},
     "output_type": "execute_result"
    }
   ],
   "source": [
    "k = 1\n",
    "#Train Model and Predict  \n",
    "KNN = KNeighborsClassifier(n_neighbors = k).fit(X_train_all,y_train_all)\n",
    "KNN\n",
    "yhat_KNN=KNN.predict(X_test)\n",
    "cnf_matrix = confusion_matrix(y_test, yhat_KNN, labels=['good','poor'])\n",
    "cnf_matrix"
   ]
  },
  {
   "cell_type": "code",
   "execution_count": 387,
   "metadata": {},
   "outputs": [
    {
     "name": "stdout",
     "output_type": "stream",
     "text": [
      "0.7470439394245092 0.8468112367244588\n"
     ]
    }
   ],
   "source": [
    "Jall=[]\n",
    "F1all=[]\n",
    "LLall=[]\n",
    "Jall.append(metrics.jaccard_score(y_test,yhat_KNN, average='weighted'))\n",
    "F1all.append(metrics.f1_score(y_test, yhat_KNN, average='weighted'))\n",
    "LLall.append(np.nan)\n",
    "print(Jall[0],F1all[0])"
   ]
  },
  {
   "cell_type": "code",
   "execution_count": 388,
   "metadata": {},
   "outputs": [
    {
     "data": {
      "text/plain": [
       "array([[127,  92],\n",
       "       [ 85, 676]])"
      ]
     },
     "execution_count": 388,
     "metadata": {},
     "output_type": "execute_result"
    }
   ],
   "source": [
    "DT = DecisionTreeClassifier()\n",
    "DT.fit(X_train_all,y_train_all) \n",
    "yhat_DT=DT.predict(X_test)\n",
    "cnf_matrix = confusion_matrix(y_test, yhat_DT, labels=['good','poor'])\n",
    "cnf_matrix"
   ]
  },
  {
   "cell_type": "code",
   "execution_count": 389,
   "metadata": {},
   "outputs": [
    {
     "name": "stdout",
     "output_type": "stream",
     "text": [
      "0.7087555114444124 0.8183345018237462\n"
     ]
    }
   ],
   "source": [
    "Jall.append(metrics.jaccard_score(y_test,yhat_DT, average='weighted'))\n",
    "F1all.append(metrics.f1_score(y_test, yhat_DT, average='weighted'))\n",
    "LLall.append(np.nan)\n",
    "print(Jall[1],F1all[1])"
   ]
  },
  {
   "cell_type": "code",
   "execution_count": 390,
   "metadata": {},
   "outputs": [
    {
     "data": {
      "text/plain": [
       "array([[ 60, 159],\n",
       "       [ 28, 733]])"
      ]
     },
     "execution_count": 390,
     "metadata": {},
     "output_type": "execute_result"
    }
   ],
   "source": [
    "SVM_ = svm.SVC()\n",
    "SVM_.fit(X_train_all, y_train_all) \n",
    "yhat_SVM=SVM_.predict(X_test)\n",
    "cnf_matrix = confusion_matrix(y_test, yhat_SVM, labels=['good','poor'])\n",
    "cnf_matrix"
   ]
  },
  {
   "cell_type": "code",
   "execution_count": 391,
   "metadata": {},
   "outputs": [
    {
     "name": "stdout",
     "output_type": "stream",
     "text": [
      "0.6729763865588482 0.7760331293084043\n"
     ]
    }
   ],
   "source": [
    "Jall.append(metrics.jaccard_score(y_test,yhat_SVM, average='weighted'))\n",
    "F1all.append(metrics.f1_score(y_test, yhat_SVM, average='weighted'))\n",
    "LLall.append(np.nan)\n",
    "print(Jall[2],F1all[2])"
   ]
  },
  {
   "cell_type": "code",
   "execution_count": 392,
   "metadata": {},
   "outputs": [
    {
     "data": {
      "text/plain": [
       "array([[ 54, 165],\n",
       "       [ 41, 720]])"
      ]
     },
     "execution_count": 392,
     "metadata": {},
     "output_type": "execute_result"
    }
   ],
   "source": [
    "LR = LogisticRegression()\n",
    "LR.fit(X_train_all, y_train_all) \n",
    "yhat_LR=LR.predict(X_test)\n",
    "ypro_LR=LR.predict_proba(X_test)\n",
    "cnf_matrix = confusion_matrix(y_test, yhat_LR, labels=['good','poor'])\n",
    "cnf_matrix"
   ]
  },
  {
   "cell_type": "code",
   "execution_count": 393,
   "metadata": {},
   "outputs": [
    {
     "name": "stdout",
     "output_type": "stream",
     "text": [
      "0.6501947743709545 0.7562084260533198 0.4301382254026377\n"
     ]
    }
   ],
   "source": [
    "Jall.append(metrics.jaccard_score(y_test,yhat_LR, average='weighted'))\n",
    "F1all.append(metrics.f1_score(y_test, yhat_LR, average='weighted'))\n",
    "LLall.append(metrics.log_loss(y_test,ypro_LR))\n",
    "print(Jall[3],F1all[3],LLall[3])"
   ]
  },
  {
   "cell_type": "markdown",
   "metadata": {},
   "source": [
    "I now restrict my interest only to the features selected as most important. "
   ]
  },
  {
   "cell_type": "code",
   "execution_count": 394,
   "metadata": {},
   "outputs": [
    {
     "data": {
      "text/html": [
       "<div>\n",
       "<style scoped>\n",
       "    .dataframe tbody tr th:only-of-type {\n",
       "        vertical-align: middle;\n",
       "    }\n",
       "\n",
       "    .dataframe tbody tr th {\n",
       "        vertical-align: top;\n",
       "    }\n",
       "\n",
       "    .dataframe thead th {\n",
       "        text-align: right;\n",
       "    }\n",
       "</style>\n",
       "<table border=\"1\" class=\"dataframe\">\n",
       "  <thead>\n",
       "    <tr style=\"text-align: right;\">\n",
       "      <th></th>\n",
       "      <th>volatile acidity</th>\n",
       "      <th>density</th>\n",
       "      <th>alcohol</th>\n",
       "    </tr>\n",
       "  </thead>\n",
       "  <tbody>\n",
       "    <tr>\n",
       "      <th>0</th>\n",
       "      <td>0.27</td>\n",
       "      <td>1.00100</td>\n",
       "      <td>8.8</td>\n",
       "    </tr>\n",
       "    <tr>\n",
       "      <th>1</th>\n",
       "      <td>0.30</td>\n",
       "      <td>0.99400</td>\n",
       "      <td>9.5</td>\n",
       "    </tr>\n",
       "    <tr>\n",
       "      <th>2</th>\n",
       "      <td>0.28</td>\n",
       "      <td>0.99510</td>\n",
       "      <td>10.1</td>\n",
       "    </tr>\n",
       "    <tr>\n",
       "      <th>3</th>\n",
       "      <td>0.23</td>\n",
       "      <td>0.99560</td>\n",
       "      <td>9.9</td>\n",
       "    </tr>\n",
       "    <tr>\n",
       "      <th>4</th>\n",
       "      <td>0.23</td>\n",
       "      <td>0.99560</td>\n",
       "      <td>9.9</td>\n",
       "    </tr>\n",
       "    <tr>\n",
       "      <th>...</th>\n",
       "      <td>...</td>\n",
       "      <td>...</td>\n",
       "      <td>...</td>\n",
       "    </tr>\n",
       "    <tr>\n",
       "      <th>4893</th>\n",
       "      <td>0.21</td>\n",
       "      <td>0.99114</td>\n",
       "      <td>11.2</td>\n",
       "    </tr>\n",
       "    <tr>\n",
       "      <th>4894</th>\n",
       "      <td>0.32</td>\n",
       "      <td>0.99490</td>\n",
       "      <td>9.6</td>\n",
       "    </tr>\n",
       "    <tr>\n",
       "      <th>4895</th>\n",
       "      <td>0.24</td>\n",
       "      <td>0.99254</td>\n",
       "      <td>9.4</td>\n",
       "    </tr>\n",
       "    <tr>\n",
       "      <th>4896</th>\n",
       "      <td>0.29</td>\n",
       "      <td>0.98869</td>\n",
       "      <td>12.8</td>\n",
       "    </tr>\n",
       "    <tr>\n",
       "      <th>4897</th>\n",
       "      <td>0.21</td>\n",
       "      <td>0.98941</td>\n",
       "      <td>11.8</td>\n",
       "    </tr>\n",
       "  </tbody>\n",
       "</table>\n",
       "<p>4898 rows × 3 columns</p>\n",
       "</div>"
      ],
      "text/plain": [
       "      volatile acidity  density  alcohol\n",
       "0                 0.27  1.00100      8.8\n",
       "1                 0.30  0.99400      9.5\n",
       "2                 0.28  0.99510     10.1\n",
       "3                 0.23  0.99560      9.9\n",
       "4                 0.23  0.99560      9.9\n",
       "...                ...      ...      ...\n",
       "4893              0.21  0.99114     11.2\n",
       "4894              0.32  0.99490      9.6\n",
       "4895              0.24  0.99254      9.4\n",
       "4896              0.29  0.98869     12.8\n",
       "4897              0.21  0.98941     11.8\n",
       "\n",
       "[4898 rows x 3 columns]"
      ]
     },
     "execution_count": 394,
     "metadata": {},
     "output_type": "execute_result"
    }
   ],
   "source": [
    "X_fs=df[['volatile acidity','density','alcohol']]\n",
    "X_fs"
   ]
  },
  {
   "cell_type": "code",
   "execution_count": 395,
   "metadata": {},
   "outputs": [
    {
     "data": {
      "text/plain": [
       "array([[-0.0817699 ,  2.33151201, -1.39315246],\n",
       "       [ 0.21589563, -0.00915417, -0.82427568],\n",
       "       [ 0.01745194,  0.3586648 , -0.33666701],\n",
       "       [-0.47865728,  0.52585524, -0.49920323],\n",
       "       [-0.47865728,  0.52585524, -0.49920323]])"
      ]
     },
     "execution_count": 395,
     "metadata": {},
     "output_type": "execute_result"
    }
   ],
   "source": [
    "y=a\n",
    "X_fs= preprocessing.StandardScaler().fit(X_fs).transform(X_fs)\n",
    "X_fs[0:5]"
   ]
  },
  {
   "cell_type": "code",
   "execution_count": 396,
   "metadata": {},
   "outputs": [],
   "source": [
    "X_train_all, X_test, y_train_all, y_test = train_test_split( X_fs, y, test_size=0.2, random_state=1000)"
   ]
  },
  {
   "cell_type": "code",
   "execution_count": 397,
   "metadata": {},
   "outputs": [],
   "source": [
    "X_train, X_eval, y_train, y_eval = train_test_split( X_train_all, y_train_all, test_size=0.2, random_state=200)\n"
   ]
  },
  {
   "cell_type": "code",
   "execution_count": 398,
   "metadata": {},
   "outputs": [
    {
     "data": {
      "text/plain": [
       "array([0.80612245, 0.72193878, 0.79464286, 0.76658163, 0.79336735,\n",
       "       0.77806122, 0.79464286, 0.78061224, 0.79719388, 0.78826531,\n",
       "       0.80102041, 0.79591837, 0.79846939, 0.79591837])"
      ]
     },
     "execution_count": 398,
     "metadata": {},
     "output_type": "execute_result"
    }
   ],
   "source": [
    "Ks = 15\n",
    "mean_acc = np.zeros((Ks-1))\n",
    "std_acc = np.zeros((Ks-1))\n",
    "for n in range(1,Ks):\n",
    "    \n",
    "    #Train Model and Predict  \n",
    "    neigh = KNeighborsClassifier(n_neighbors = n).fit(X_train,y_train)\n",
    "    yhat=neigh.predict(X_eval)\n",
    "    mean_acc[n-1] = metrics.accuracy_score(y_eval, yhat)\n",
    "\n",
    "    \n",
    "    std_acc[n-1]=np.std(yhat==y_eval)/np.sqrt(yhat.shape[0])\n",
    "\n",
    "mean_acc"
   ]
  },
  {
   "cell_type": "code",
   "execution_count": 399,
   "metadata": {},
   "outputs": [
    {
     "data": {
      "image/png": "[encoded data removed]",
      "text/plain": [
       "<Figure size 432x288 with 1 Axes>"
      ]
     },
     "metadata": {
      "needs_background": "light"
     },
     "output_type": "display_data"
    }
   ],
   "source": [
    "plt.plot(range(1,Ks),mean_acc,'g')\n",
    "plt.fill_between(range(1,Ks),mean_acc - 1 * std_acc,mean_acc + 1 * std_acc, alpha=0.10)\n",
    "plt.legend(('Accuracy ', '+/- 3xstd'))\n",
    "plt.ylabel('Accuracy ')\n",
    "plt.xlabel('Number of Nabors (K)')\n",
    "plt.tight_layout()\n",
    "plt.show()\n"
   ]
  },
  {
   "cell_type": "code",
   "execution_count": 400,
   "metadata": {},
   "outputs": [
    {
     "name": "stdout",
     "output_type": "stream",
     "text": [
      "The best accuracy was with 0.8061224489795918 with k= 1\n"
     ]
    }
   ],
   "source": [
    "print( \"The best accuracy was with\", mean_acc.max(), \"with k=\", mean_acc.argmax()+1) \n"
   ]
  },
  {
   "cell_type": "code",
   "execution_count": 401,
   "metadata": {},
   "outputs": [
    {
     "data": {
      "text/plain": [
       "array([[141,  63],\n",
       "       [ 74, 702]])"
      ]
     },
     "execution_count": 401,
     "metadata": {},
     "output_type": "execute_result"
    }
   ],
   "source": [
    "k = 1\n",
    "#Train Model and Predict  \n",
    "KNN = KNeighborsClassifier(n_neighbors = k).fit(X_train_all,y_train_all)\n",
    "KNN\n",
    "yhat_KNN=KNN.predict(X_test)\n",
    "cnf_matrix = confusion_matrix(y_test, yhat_KNN, labels=['good','poor'])\n",
    "cnf_matrix"
   ]
  },
  {
   "cell_type": "code",
   "execution_count": 412,
   "metadata": {},
   "outputs": [
    {
     "name": "stdout",
     "output_type": "stream",
     "text": [
      "0.7681172169607848 0.8615401644419822\n"
     ]
    }
   ],
   "source": [
    "Jfs=[]\n",
    "F1fs=[]\n",
    "LLfs=[]\n",
    "\n",
    "Jfs.append(metrics.jaccard_score(y_test,yhat_KNN, average='weighted'))\n",
    "F1fs.append(metrics.f1_score(y_test, yhat_KNN, average='weighted'))\n",
    "LLfs.append(np.nan)\n",
    "print(Jfs[0],F1fs[0])"
   ]
  },
  {
   "cell_type": "code",
   "execution_count": 403,
   "metadata": {},
   "outputs": [
    {
     "data": {
      "text/plain": [
       "array([[136,  68],\n",
       "       [ 95, 681]])"
      ]
     },
     "execution_count": 403,
     "metadata": {},
     "output_type": "execute_result"
    }
   ],
   "source": [
    "DT = DecisionTreeClassifier()\n",
    "DT.fit(X_train_all,y_train_all) \n",
    "yhat_DT=DT.predict(X_test)\n",
    "cnf_matrix = confusion_matrix(y_test, yhat_DT, labels=['good','poor'])\n",
    "cnf_matrix"
   ]
  },
  {
   "cell_type": "code",
   "execution_count": 404,
   "metadata": {},
   "outputs": [
    {
     "name": "stdout",
     "output_type": "stream",
     "text": [
      "0.7335938766129223 0.8373629284387581\n"
     ]
    }
   ],
   "source": [
    "Jfs.append(metrics.jaccard_score(y_test,yhat_DT, average='weighted'))\n",
    "F1fs.append(metrics.f1_score(y_test, yhat_DT, average='weighted'))\n",
    "LLfs.append(np.nan)\n",
    "print(Jfs[1],F1fs[1])"
   ]
  },
  {
   "cell_type": "code",
   "execution_count": 405,
   "metadata": {},
   "outputs": [
    {
     "data": {
      "text/plain": [
       "array([[ 39, 165],\n",
       "       [ 25, 751]])"
      ]
     },
     "execution_count": 405,
     "metadata": {},
     "output_type": "execute_result"
    }
   ],
   "source": [
    "SVM_ = svm.SVC()\n",
    "SVM_.fit(X_train_all, y_train_all) \n",
    "yhat_SVM=SVM_.predict(X_test)\n",
    "cnf_matrix = confusion_matrix(y_test, yhat_SVM, labels=['good','poor'])\n",
    "cnf_matrix"
   ]
  },
  {
   "cell_type": "code",
   "execution_count": 406,
   "metadata": {},
   "outputs": [
    {
     "name": "stdout",
     "output_type": "stream",
     "text": [
      "0.6674061017935382 0.7635037290029805\n"
     ]
    }
   ],
   "source": [
    "Jfs.append(metrics.jaccard_score(y_test,yhat_SVM, average='weighted'))\n",
    "F1fs.append(metrics.f1_score(y_test, yhat_SVM, average='weighted'))\n",
    "LLfs.append(np.nan)\n",
    "print(Jfs[2],F1fs[2])"
   ]
  },
  {
   "cell_type": "code",
   "execution_count": 407,
   "metadata": {},
   "outputs": [
    {
     "data": {
      "text/plain": [
       "array([[ 50, 154],\n",
       "       [ 42, 734]])"
      ]
     },
     "execution_count": 407,
     "metadata": {},
     "output_type": "execute_result"
    }
   ],
   "source": [
    "LR = LogisticRegression()\n",
    "LR.fit(X_train_all, y_train_all) \n",
    "yhat_LR=LR.predict(X_test)\n",
    "ypro_LR=LR.predict_proba(X_test)\n",
    "cnf_matrix = confusion_matrix(y_test, yhat_LR, labels=['good','poor'])\n",
    "cnf_matrix"
   ]
  },
  {
   "cell_type": "code",
   "execution_count": 408,
   "metadata": {},
   "outputs": [
    {
     "name": "stdout",
     "output_type": "stream",
     "text": [
      "0.6672646210333072 0.7688929313929311 0.4274307075979919\n"
     ]
    }
   ],
   "source": [
    "Jfs.append(metrics.jaccard_score(y_test,yhat_LR, average='weighted'))\n",
    "F1fs.append(metrics.f1_score(y_test, yhat_LR, average='weighted'))\n",
    "LLfs.append(metrics.log_loss(y_test,ypro_LR))\n",
    "print(Jfs[3],F1fs[3],LLfs[3])"
   ]
  },
  {
   "cell_type": "markdown",
   "metadata": {},
   "source": [
    "Finally I construct the table with the final score results."
   ]
  },
  {
   "cell_type": "code",
   "execution_count": 409,
   "metadata": {},
   "outputs": [
    {
     "data": {
      "text/html": [
       "<div>\n",
       "<style scoped>\n",
       "    .dataframe tbody tr th:only-of-type {\n",
       "        vertical-align: middle;\n",
       "    }\n",
       "\n",
       "    .dataframe tbody tr th {\n",
       "        vertical-align: top;\n",
       "    }\n",
       "\n",
       "    .dataframe thead th {\n",
       "        text-align: right;\n",
       "    }\n",
       "</style>\n",
       "<table border=\"1\" class=\"dataframe\">\n",
       "  <thead>\n",
       "    <tr style=\"text-align: right;\">\n",
       "      <th></th>\n",
       "      <th>Algo</th>\n",
       "      <th>Jaccard</th>\n",
       "      <th>Jaccard FS</th>\n",
       "      <th>F1 Score</th>\n",
       "      <th>F1 Score FS</th>\n",
       "      <th>Logloss</th>\n",
       "      <th>Logloss FS</th>\n",
       "    </tr>\n",
       "  </thead>\n",
       "  <tbody>\n",
       "    <tr>\n",
       "      <th>0</th>\n",
       "      <td>KNN</td>\n",
       "      <td>0.747044</td>\n",
       "      <td>0.768117</td>\n",
       "      <td>0.846811</td>\n",
       "      <td>0.861540</td>\n",
       "      <td>NaN</td>\n",
       "      <td>NaN</td>\n",
       "    </tr>\n",
       "    <tr>\n",
       "      <th>1</th>\n",
       "      <td>DT</td>\n",
       "      <td>0.708756</td>\n",
       "      <td>0.733594</td>\n",
       "      <td>0.818335</td>\n",
       "      <td>0.837363</td>\n",
       "      <td>NaN</td>\n",
       "      <td>NaN</td>\n",
       "    </tr>\n",
       "    <tr>\n",
       "      <th>2</th>\n",
       "      <td>SVM</td>\n",
       "      <td>0.672976</td>\n",
       "      <td>0.667406</td>\n",
       "      <td>0.776033</td>\n",
       "      <td>0.763504</td>\n",
       "      <td>NaN</td>\n",
       "      <td>NaN</td>\n",
       "    </tr>\n",
       "    <tr>\n",
       "      <th>3</th>\n",
       "      <td>LogR</td>\n",
       "      <td>0.650195</td>\n",
       "      <td>0.667265</td>\n",
       "      <td>0.756208</td>\n",
       "      <td>0.768893</td>\n",
       "      <td>0.430138</td>\n",
       "      <td>0.427431</td>\n",
       "    </tr>\n",
       "  </tbody>\n",
       "</table>\n",
       "</div>"
      ],
      "text/plain": [
       "   Algo   Jaccard  Jaccard FS  F1 Score  F1 Score FS   Logloss  Logloss FS\n",
       "0   KNN  0.747044    0.768117  0.846811     0.861540       NaN         NaN\n",
       "1    DT  0.708756    0.733594  0.818335     0.837363       NaN         NaN\n",
       "2   SVM  0.672976    0.667406  0.776033     0.763504       NaN         NaN\n",
       "3  LogR  0.650195    0.667265  0.756208     0.768893  0.430138    0.427431"
      ]
     },
     "execution_count": 409,
     "metadata": {},
     "output_type": "execute_result"
    }
   ],
   "source": [
    "algo=['KNN','DT','SVM','LogR']\n",
    "res=pd.DataFrame(algo)\n",
    "res.columns=['Algo']\n",
    "res['Jaccard']=Jall\n",
    "res['Jaccard FS']=Jfs\n",
    "res['F1 Score']=F1all\n",
    "res['F1 Score FS']=F1fs\n",
    "res['Logloss']=LLall\n",
    "res['Logloss FS']=LLfs\n",
    "res.head()"
   ]
  },
  {
   "cell_type": "code",
   "execution_count": 410,
   "metadata": {},
   "outputs": [
    {
     "data": {
      "text/html": [
       "<div>\n",
       "<style scoped>\n",
       "    .dataframe tbody tr th:only-of-type {\n",
       "        vertical-align: middle;\n",
       "    }\n",
       "\n",
       "    .dataframe tbody tr th {\n",
       "        vertical-align: top;\n",
       "    }\n",
       "\n",
       "    .dataframe thead th {\n",
       "        text-align: right;\n",
       "    }\n",
       "</style>\n",
       "<table border=\"1\" class=\"dataframe\">\n",
       "  <thead>\n",
       "    <tr style=\"text-align: right;\">\n",
       "      <th></th>\n",
       "      <th>Algo</th>\n",
       "      <th>Jaccard</th>\n",
       "      <th>Jaccard FS</th>\n",
       "      <th>F1 Score</th>\n",
       "      <th>F1 Score FS</th>\n",
       "      <th>Logloss</th>\n",
       "      <th>Logloss FS</th>\n",
       "    </tr>\n",
       "  </thead>\n",
       "  <tbody>\n",
       "    <tr>\n",
       "      <th>0</th>\n",
       "      <td>KNN</td>\n",
       "      <td>0.75</td>\n",
       "      <td>0.77</td>\n",
       "      <td>0.85</td>\n",
       "      <td>0.86</td>\n",
       "      <td>NaN</td>\n",
       "      <td>NaN</td>\n",
       "    </tr>\n",
       "    <tr>\n",
       "      <th>1</th>\n",
       "      <td>DT</td>\n",
       "      <td>0.71</td>\n",
       "      <td>0.73</td>\n",
       "      <td>0.82</td>\n",
       "      <td>0.84</td>\n",
       "      <td>NaN</td>\n",
       "      <td>NaN</td>\n",
       "    </tr>\n",
       "    <tr>\n",
       "      <th>2</th>\n",
       "      <td>SVM</td>\n",
       "      <td>0.67</td>\n",
       "      <td>0.67</td>\n",
       "      <td>0.78</td>\n",
       "      <td>0.76</td>\n",
       "      <td>NaN</td>\n",
       "      <td>NaN</td>\n",
       "    </tr>\n",
       "    <tr>\n",
       "      <th>3</th>\n",
       "      <td>LogR</td>\n",
       "      <td>0.65</td>\n",
       "      <td>0.67</td>\n",
       "      <td>0.76</td>\n",
       "      <td>0.77</td>\n",
       "      <td>0.43</td>\n",
       "      <td>0.43</td>\n",
       "    </tr>\n",
       "  </tbody>\n",
       "</table>\n",
       "</div>"
      ],
      "text/plain": [
       "   Algo  Jaccard  Jaccard FS  F1 Score  F1 Score FS  Logloss  Logloss FS\n",
       "0   KNN     0.75        0.77      0.85         0.86      NaN         NaN\n",
       "1    DT     0.71        0.73      0.82         0.84      NaN         NaN\n",
       "2   SVM     0.67        0.67      0.78         0.76      NaN         NaN\n",
       "3  LogR     0.65        0.67      0.76         0.77     0.43        0.43"
      ]
     },
     "execution_count": 410,
     "metadata": {},
     "output_type": "execute_result"
    }
   ],
   "source": [
    "res.round(2).head()"
   ]
  },
  {
   "cell_type": "code",
   "execution_count": null,
   "metadata": {},
   "outputs": [],
   "source": []
  }
 ],
 "metadata": {
  "kernelspec": {
   "display_name": "Python 3",
   "language": "python",
   "name": "python3"
  },
  "language_info": {
   "codemirror_mode": {
    "name": "ipython",
    "version": 3
   },
   "file_extension": ".py",
   "mimetype": "text/x-python",
   "name": "python",
   "nbconvert_exporter": "python",
   "pygments_lexer": "ipython3",
   "version": "3.7.5"
  }
 },
 "nbformat": 4,
 "nbformat_minor": 2
}
